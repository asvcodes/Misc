{
 "cells": [
  {
   "cell_type": "raw",
   "id": "cd705de8",
   "metadata": {},
   "source": [
    "WAP which takes 10 marks from the user & returns the Average Marks."
   ]
  },
  {
   "cell_type": "code",
   "execution_count": 1,
   "id": "0fb8a0f8",
   "metadata": {},
   "outputs": [
    {
     "name": "stdout",
     "output_type": "stream",
     "text": [
      "Enter Marks10\n",
      "\n",
      "For next Subject:\n",
      "Enter Marks9\n",
      "\n",
      "For next Subject:\n",
      "Enter Marks9\n",
      "\n",
      "For next Subject:\n",
      "Enter Marks6\n",
      "\n",
      "For next Subject:\n",
      "Enter Marks5\n",
      "\n",
      "For next Subject:\n",
      "Enter Marks8\n",
      "\n",
      "For next Subject:\n",
      "Enter Marks9\n",
      "\n",
      "For next Subject:\n",
      "Enter Marks7\n",
      "\n",
      "For next Subject:\n",
      "Enter Marks10\n",
      "\n",
      "For next Subject:\n",
      "Enter Marks8\n",
      "\n",
      "For next Subject:\n",
      "Enter Marks5\n",
      "avg: 8.6\n"
     ]
    }
   ],
   "source": [
    "def calAvg():\n",
    "    summ=0\n",
    "    for i in range(11):\n",
    "        marks=int(input(\"Enter Marks\"))\n",
    "        summ+=marks\n",
    "        if i<10:\n",
    "            print(\"\\nFor next Subject:\")\n",
    "        else:\n",
    "            pass\n",
    "    avg= summ/10\n",
    "    return avg\n",
    "avgi= calAvg()\n",
    "print('Avg:',avgi)"
   ]
  },
  {
   "cell_type": "markdown",
   "id": "6c2b6595",
   "metadata": {},
   "source": [
    "WAP to print Fibonacci series"
   ]
  },
  {
   "cell_type": "code",
   "execution_count": null,
   "id": "71d26f65",
   "metadata": {},
   "outputs": [
    {
     "name": "stdout",
     "output_type": "stream",
     "text": [
      ">>>100\n",
      "0||1||1||2||3||5||8||13||21||34||55||89||144||233||377||610||987||1597||2584||4181||6765||10946||17711||28657||46368||75025||121393||196418||317811||514229||832040||1346269||2178309||3524578||5702887||9227465||14930352||24157817||39088169||63245986||102334155||165580141||267914296||433494437||701408733||1134903170||1836311903||2971215073||4807526976||7778742049||12586269025||20365011074||32951280099||53316291173||86267571272||139583862445||225851433717||365435296162||591286729879||956722026041||1548008755920||2504730781961||4052739537881||6557470319842||10610209857723||17167680177565||27777890035288||44945570212853||72723460248141||117669030460994||190392490709135||308061521170129||498454011879264||806515533049393||1304969544928657||2111485077978050||3416454622906707||5527939700884757||8944394323791464||14472334024676221||23416728348467685||37889062373143906||61305790721611591||99194853094755497||160500643816367088||259695496911122585||420196140727489673||679891637638612258||1100087778366101931||1779979416004714189||2880067194370816120||4660046610375530309||7540113804746346429||12200160415121876738||19740274219868223167||31940434634990099905||51680708854858323072||83621143489848422977||135301852344706746049||218922995834555169026||"
     ]
    }
   ],
   "source": [
    "def fibS():\n",
    "    n=int(input(\">>>\"))\n",
    "    l=[0,1]\n",
    "    if n==0:\n",
    "        print(\"None\")\n",
    "    elif n==1:\n",
    "        print([0])\n",
    "    else: \n",
    "        for i in range(1,n-1):\n",
    "            l.append(l[i]+l[i-1])\n",
    "        return l\n",
    "srs= fibS()\n",
    "for i in srs:\n",
    "    print(i,end=\"||\")"
   ]
  },
  {
   "cell_type": "code",
   "execution_count": null,
   "id": "737bb8b0",
   "metadata": {},
   "outputs": [],
   "source": [
    "def getFS():\n",
    "    yield 0\n",
    "    yield 1\n",
    "    n1,n2=1,0\n",
    "    while True:\n",
    "        n0=n1+n2\n",
    "        n2=n1\n",
    "        n1=n0\n",
    "        yield n0\n",
    "n=int(input(\">>>\"))        \n",
    "def printFS(n):\n",
    "    values= FS()\n",
    "    if n<=0:\n",
    "        print(\"No Such Values, Enter a valid input!\")\n",
    "    else:\n",
    "        for i in range(n):\n",
    "            print(next(values),end=\";\")\n",
    "printFS(n)"
   ]
  },
  {
   "cell_type": "markdown",
   "id": "6d69d6aa",
   "metadata": {},
   "source": [
    "WAF to convert Number into Roman Numerals."
   ]
  },
  {
   "cell_type": "code",
   "execution_count": null,
   "id": "c91640d3",
   "metadata": {},
   "outputs": [
    {
     "name": "stdout",
     "output_type": "stream",
     "text": [
      ">>>69\n",
      "Roman Numeral of 69 is LXIX.\n"
     ]
    }
   ],
   "source": [
    "num=int(input(\">>>\"))\n",
    "def Cnvrt2Roman(n):\n",
    "    D={1000:'M',900:'CM',500:'D',400:'CD',100:'C',90:'XC',50:'L',40:'XL',10:'X',9:'IX',5:'V',4:'IV',1:'I'}\n",
    "    Roman=\"\"\n",
    "    for i in D.keys():\n",
    "        Count=n//i\n",
    "        for j in range(Count):\n",
    "            Roman+=D[i]\n",
    "        n%=i\n",
    "    return Roman\n",
    "print(f\"Roman Numeral of {num} is {Cnvrt2Roman(num)}.\")"
   ]
  },
  {
   "cell_type": "code",
   "execution_count": null,
   "id": "d7ccd5e0",
   "metadata": {},
   "outputs": [],
   "source": [
    "def ATM():\n",
    "    TAW=0 #Total Amount Withdrawn Variable.\n",
    "    Notes=(1000,500,100) #Denominations in the Bank.\n",
    "    #Dictionary to store denominations and their respective count.\n",
    "    NCnt={} \n",
    "    for n in Notes:\n",
    "        NCnt[n]=int(input(f\"Enter How many {n}Rs notes are to be withdrawn:\"))\n",
    "    #Calculating TAW  \n",
    "    for i in NCnt.items():\n",
    "        for j in range(i[1]):\n",
    "            TAW+=i[0]\n",
    "    print(f\"Total Amount Withdrawn is {TAW}Rs\")\n",
    "    return TAW\n",
    "Rs=ATM()  "
   ]
  },
  {
   "cell_type": "code",
   "execution_count": null,
   "id": "8907b67a",
   "metadata": {},
   "outputs": [],
   "source": [
    "def ATM(TAW):\n",
    "    D=(1000,500,100)\n",
    "    NC={}\n",
    "    for i in D:\n",
    "        Count=TAW//i\n",
    "        NC[i]=Count\n",
    "        TAW%=i\n",
    "    for i in NC.item:\n",
    "        print(f\"{i[0]}:{i[1]}\")\n",
    "        \n",
    "ATM(100880900)        "
   ]
  },
  {
   "cell_type": "code",
   "execution_count": null,
   "id": "3d6017af",
   "metadata": {},
   "outputs": [],
   "source": [
    "s = 10\n",
    "def func(a,b):\n",
    "    a = b+s\n",
    "    print(s)\n",
    "print(a)"
   ]
  },
  {
   "cell_type": "code",
   "execution_count": null,
   "id": "aaa94d48",
   "metadata": {},
   "outputs": [],
   "source": []
  }
 ],
 "metadata": {
  "kernelspec": {
   "display_name": "Python 3 (ipykernel)",
   "language": "python",
   "name": "python3"
  },
  "language_info": {
   "codemirror_mode": {
    "name": "ipython",
    "version": 3
   },
   "file_extension": ".py",
   "mimetype": "text/x-python",
   "name": "python",
   "nbconvert_exporter": "python",
   "pygments_lexer": "ipython3",
   "version": "3.11.4"
  }
 },
 "nbformat": 4,
 "nbformat_minor": 5
}

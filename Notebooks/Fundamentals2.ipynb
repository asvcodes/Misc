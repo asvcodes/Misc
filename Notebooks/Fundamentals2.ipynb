{
 "cells": [
  {
   "cell_type": "code",
   "execution_count": 11,
   "id": "9d8207e7",
   "metadata": {},
   "outputs": [
    {
     "data": {
      "text/plain": [
       "0"
      ]
     },
     "execution_count": 11,
     "metadata": {},
     "output_type": "execute_result"
    }
   ],
   "source": [
    "def min3(*args):\n",
    "    x=args[0]\n",
    "    for i in args:\n",
    "        if i<x:\n",
    "            x=i\n",
    "        else:\n",
    "            continue\n",
    "    return x\n",
    "min3(1,2,3,0,9,8,6,5,4,2,1)"
   ]
  },
  {
   "cell_type": "code",
   "execution_count": 20,
   "id": "e5cff2b0",
   "metadata": {},
   "outputs": [
    {
     "name": "stdout",
     "output_type": "stream",
     "text": [
      ">>>Enter Marks for Subject 1:99\n",
      ">>>Enter Marks for Subject 2:99\n",
      ">>>Enter Marks for Subject 3:99\n",
      ">>>Enter Marks for Subject 4:99\n",
      ">>>Enter Marks for Subject 5:99\n",
      "99.0% :Distinction\n"
     ]
    }
   ],
   "source": [
    "def GrdSystem():\n",
    "    Sum=0\n",
    "    for i in range(5):\n",
    "        M=int(input(f\">>>Enter Marks for Subject {i+1}:\"))\n",
    "        assert 0<=M<=100,\"Enter Mark out of 100\"\n",
    "        Sum+=M\n",
    "    P=Sum/5\n",
    "    if 90<=P<=100:\n",
    "        print(f\"{P}% :Distinction\")\n",
    "    elif 80<=P<=99:\n",
    "        print(f\"{P}% :First Class\")\n",
    "    elif 70<=P<=79:\n",
    "        print(f\"{P}% :Second Class\")\n",
    "    elif 60<=P<=69:\n",
    "        print(f\"{P}% :Pass\")\n",
    "    elif 0<=P<=59:\n",
    "        print(f\"{P}% :Fail\")\n",
    "GrdSystem()"
   ]
  },
  {
   "cell_type": "code",
   "execution_count": null,
   "id": "0a3a4555",
   "metadata": {},
   "outputs": [],
   "source": [
    "def Greet(fx):\n",
    "    def mfx():\n",
    "        print(\"Hello there! Kindly follow the instructions that follow.\")\n",
    "        fx()\n",
    "        print(\"Thankyou for using our services, Hope to see you soon!\")\n",
    "    return mfx\n",
    "\n",
    "@Greet\n",
    "def ATM():\n",
    "    TAW=0 #Total Amount Withdrawn Variable.\n",
    "    Notes=(1000,500,100) #Denominations in the Bank.\n",
    "    #Dictionary to store denominations and their respective count.\n",
    "    NCnt={} \n",
    "    for n in Notes:\n",
    "        NCnt[n]=int(input(f\"Enter How many {n}Rs notes are to be withdrawn:\"))\n",
    "    #Calculating TAW  \n",
    "    for i in NCnt.items():\n",
    "        for j in range(i[1]):\n",
    "            TAW+=i[0]\n",
    "    print(f\"Total Amount Withdrawn is {TAW}Rs\")\n",
    "    return TAW\n",
    "Rs=ATM()  "
   ]
  },
  {
   "cell_type": "code",
   "execution_count": null,
   "id": "306b3f95",
   "metadata": {},
   "outputs": [],
   "source": [
    "b=\"if\"*8\n",
    "print(b)"
   ]
  },
  {
   "cell_type": "code",
   "execution_count": null,
   "id": "92572a92",
   "metadata": {},
   "outputs": [],
   "source": []
  }
 ],
 "metadata": {
  "kernelspec": {
   "display_name": "Python 3 (ipykernel)",
   "language": "python",
   "name": "python3"
  },
  "language_info": {
   "codemirror_mode": {
    "name": "ipython",
    "version": 3
   },
   "file_extension": ".py",
   "mimetype": "text/x-python",
   "name": "python",
   "nbconvert_exporter": "python",
   "pygments_lexer": "ipython3",
   "version": "3.11.4"
  }
 },
 "nbformat": 4,
 "nbformat_minor": 5
}

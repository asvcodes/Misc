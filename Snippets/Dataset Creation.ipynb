{
 "cells": [
  {
   "cell_type": "code",
   "execution_count": 1,
   "id": "6ecb4b7c",
   "metadata": {},
   "outputs": [],
   "source": [
    "import csv\n",
    "import random\n",
    "from faker import Faker\n",
    "from datetime import datetime, timedelta\n",
    "\n",
    "# Initialize Faker to generate random names\n",
    "fake = Faker()\n",
    "\n",
    "# Function to generate random date within a given range\n",
    "def random_date(start_date, end_date):\n",
    "    return start_date + timedelta(seconds=random.randint(0, int((end_date - start_date).total_seconds())))\n",
    "\n",
    "# Function to generate random duration\n",
    "def random_duration():\n",
    "    return random.choice([30, 40, 50])\n",
    "\n",
    "# Generate attendance data for one workshop\n",
    "def generate_attendance_data(file_name, common_students_ratio):\n",
    "    with open(file_name, mode='w', newline='') as file:\n",
    "        writer = csv.writer(file)\n",
    "        writer.writerow(['Name', 'Date', 'Duration'])\n",
    "\n",
    "        start_date = datetime(2024, 1, 1)\n",
    "        end_date = datetime(2024, 1, 31)\n",
    "\n",
    "        common_students_count = int(common_students_ratio * 10000)\n",
    "        uncommon_students_count = 10000 - common_students_count\n",
    "        \n",
    "        # Generate common and uncommon names\n",
    "        common_names = [fake.name() for _ in range(common_students_count)]\n",
    "        uncommon_names = [fake.name() for _ in range(uncommon_students_count)]\n",
    "\n",
    "        for _ in range(10000):\n",
    "            # Choose common or uncommon name based on the ratio\n",
    "            if random.random() < common_students_ratio:\n",
    "                name = random.choice(common_names)\n",
    "            else:\n",
    "                name = random.choice(uncommon_names)\n",
    "                \n",
    "            date = random_date(start_date, end_date).strftime('%Y-%m-%d')\n",
    "            duration = random_duration()\n",
    "            writer.writerow([name, date, duration])"
   ]
  },
  {
   "cell_type": "code",
   "execution_count": null,
   "id": "ead71ab4",
   "metadata": {},
   "outputs": [],
   "source": [
    "# Generate attendance data for two workshops\n",
    "common_students_ratio = 0.20  # Ratio of common students in each workshop\n",
    "generate_attendance_data('workshop1_attendance.csv', common_students_ratio)\n",
    "generate_attendance_data('workshop2_attendance.csv', common_students_ratio)"
   ]
  },
  {
   "cell_type": "code",
   "execution_count": 2,
   "id": "a679b1dd",
   "metadata": {},
   "outputs": [
    {
     "name": "stdout",
     "output_type": "stream",
     "text": [
      "           name     role         type demographic  \\\n",
      "0  sepal length  Feature   Continuous        None   \n",
      "1   sepal width  Feature   Continuous        None   \n",
      "2  petal length  Feature   Continuous        None   \n",
      "3   petal width  Feature   Continuous        None   \n",
      "4         class   Target  Categorical        None   \n",
      "\n",
      "                                         description units missing_values  \n",
      "0                                               None    cm             no  \n",
      "1                                               None    cm             no  \n",
      "2                                               None    cm             no  \n",
      "3                                               None    cm             no  \n",
      "4  class of iris plant: Iris Setosa, Iris Versico...  None             no  \n"
     ]
    },
    {
     "name": "stderr",
     "output_type": "stream",
     "text": [
      "C:\\Users\\adars\\AppData\\Local\\Temp\\ipykernel_8492\\2698998822.py:15: SettingWithCopyWarning: \n",
      "A value is trying to be set on a copy of a slice from a DataFrame\n",
      "\n",
      "See the caveats in the documentation: https://pandas.pydata.org/pandas-docs/stable/user_guide/indexing.html#returning-a-view-versus-a-copy\n",
      "  X.rename({'sepal length': 'SepalLen',\n",
      "C:\\Users\\adars\\AppData\\Local\\Temp\\ipykernel_8492\\2698998822.py:19: SettingWithCopyWarning: \n",
      "A value is trying to be set on a copy of a slice from a DataFrame\n",
      "\n",
      "See the caveats in the documentation: https://pandas.pydata.org/pandas-docs/stable/user_guide/indexing.html#returning-a-view-versus-a-copy\n",
      "  y.rename({'class':'Class'},axis=1, inplace=True)\n"
     ]
    }
   ],
   "source": [
    "from ucimlrepo import fetch_ucirepo \n",
    "  \n",
    "# fetch dataset \n",
    "iris = fetch_ucirepo(id=53) \n",
    "  \n",
    "# data (as pandas dataframes) \n",
    "X = iris.data.features \n",
    "y = iris.data.targets \n",
    "\n",
    "X.index+=1\n",
    "X.index.names=[\"Indx\"]\n",
    "y.index+=1\n",
    "y.index.names=[\"Indx\"]\n",
    "\n",
    "X.rename({'sepal length': 'SepalLen', \n",
    "                    'sepal width':'SepalWidth', \n",
    "                    'petal length':'PetalLen', \n",
    "                    'petal width':'PetalWidth'},axis=1,inplace=True)\n",
    "y.rename({'class':'Class'},axis=1, inplace=True)\n",
    "\n",
    "# variable information \n",
    "print(iris.variables)"
   ]
  },
  {
   "cell_type": "code",
   "execution_count": 3,
   "id": "35b6bf60",
   "metadata": {},
   "outputs": [],
   "source": [
    "X.to_csv(\"FlowerDataX.csv\")"
   ]
  },
  {
   "cell_type": "code",
   "execution_count": 4,
   "id": "01c824fa",
   "metadata": {},
   "outputs": [],
   "source": [
    "y.to_csv(\"FlowerDataY.csv\")"
   ]
  }
 ],
 "metadata": {
  "kernelspec": {
   "display_name": "Python 3 (ipykernel)",
   "language": "python",
   "name": "python3"
  },
  "language_info": {
   "codemirror_mode": {
    "name": "ipython",
    "version": 3
   },
   "file_extension": ".py",
   "mimetype": "text/x-python",
   "name": "python",
   "nbconvert_exporter": "python",
   "pygments_lexer": "ipython3",
   "version": "3.11.4"
  }
 },
 "nbformat": 4,
 "nbformat_minor": 5
}

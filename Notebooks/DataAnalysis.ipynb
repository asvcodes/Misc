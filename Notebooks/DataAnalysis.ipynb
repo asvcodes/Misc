{
 "cells": [
  {
   "cell_type": "markdown",
   "id": "0679760a",
   "metadata": {},
   "source": [
    "Importing Libraries"
   ]
  },
  {
   "cell_type": "code",
   "execution_count": 1,
   "id": "74063dba",
   "metadata": {},
   "outputs": [],
   "source": [
    "import math as m\n",
    "import numpy as np\n",
    "import pandas as pd\n",
    "import matplotlib.pyplot as plt\n",
    "import seaborn as sns\n",
    "%matplotlib inline\n",
    "\n",
    "sns.set_style('darkgrid')\n",
    "plt.rcParams['font.size'] = 14\n",
    "plt.rcParams['figure.figsize'] = (10, 6)\n",
    "plt.rcParams['figure.facecolor'] = '#00000000'"
   ]
  },
  {
   "cell_type": "markdown",
   "id": "33992ef4",
   "metadata": {},
   "source": [
    "####  "
   ]
  },
  {
   "cell_type": "markdown",
   "id": "00ab3ede",
   "metadata": {},
   "source": [
    "#### Q1"
   ]
  },
  {
   "cell_type": "markdown",
   "id": "6d6cc160",
   "metadata": {},
   "source": [
    "Write programs in Python using NumPy library to do the following:\n",
    "\n",
    "a. Compute the mean, standard deviation, and variance of a two dimensional random integer array along\n",
    "the second axis.\n",
    "\n",
    "b. Create a 2-dimensional array of size m x n integer elements, also print the shape, type and data type \n",
    "of the array and then reshape it into an n x m array, where n and m are user inputs given at the run time.\n",
    "\n",
    "c. Test whether the elements of a given 1D array are zero, non-zero and NaN. Record the indices of these\n",
    "elements in three separate arrays.\n",
    "\n",
    "d. Create three random arrays of the same size: Array1, Array2 and Array3. Subtract Array 2 from Array3 \n",
    "and store in Array4. Create another array Array5 having two times the values in Array1. Find Co-variance \n",
    "and Correlation of Array1 with Array4 and Array5 respectively.\n",
    "\n",
    "e. Create two random arrays of the same size 10: Array1, and Array2. Find the sum of the first half of both\n",
    "the arrays and product of the second half of both the arrays."
   ]
  },
  {
   "cell_type": "code",
   "execution_count": 2,
   "id": "a56af140",
   "metadata": {},
   "outputs": [
    {
     "data": {
      "text/plain": [
       "array([[-19, -31,  20, -46,  55, -62,   6,  72, -30,  56],\n",
       "       [ 36,  71, -29,  10,  43,  83,  36,  99, -81,  66],\n",
       "       [ 15,  -8, -41, -92,  96,  20,  -8,  69, -36, -34],\n",
       "       [-62, -36, -67, -84, -31,  -5, -85, -55,  -9,  33],\n",
       "       [ 75,   5,  74,  -6,  89, -61, -13,  49,  90, -70],\n",
       "       [ 57, -12,  35,   1, -73,  74, -93, -50,  14, -24],\n",
       "       [-99,   7,  -7,  44,  73, -83,  15, -45,   4,  50],\n",
       "       [ 65,  97, -85,  61,  50,  47, -59, -50,  93,  40],\n",
       "       [ 56,  26, -24,  95,  22,  19,  60,  43,  19,   7],\n",
       "       [ 10, -14, -15, -82, -75,  81,  56,  64, -59,  93]])"
      ]
     },
     "execution_count": 2,
     "metadata": {},
     "output_type": "execute_result"
    }
   ],
   "source": [
    "#a\n",
    "a1=np.random.randint(-100,100,size=(10,10))\n",
    "a1"
   ]
  },
  {
   "cell_type": "code",
   "execution_count": 3,
   "id": "fd35d633",
   "metadata": {},
   "outputs": [
    {
     "data": {
      "text/plain": [
       "array([  2.1,  33.4,  -1.9, -40.1,  23.2,  -7.1,  -4.1,  25.9,  32.3,\n",
       "         5.9])"
      ]
     },
     "execution_count": 3,
     "metadata": {},
     "output_type": "execute_result"
    }
   ],
   "source": [
    "a1.mean(axis=1)"
   ]
  },
  {
   "cell_type": "code",
   "execution_count": 4,
   "id": "e72cbf35",
   "metadata": {},
   "outputs": [
    {
     "data": {
      "text/plain": [
       "array([44.63059489, 51.84052469, 52.24069295, 36.07062517, 57.43831474,\n",
       "       51.80820398, 53.52653548, 62.29839484, 31.11928662, 62.00395149])"
      ]
     },
     "execution_count": 4,
     "metadata": {},
     "output_type": "execute_result"
    }
   ],
   "source": [
    "a1.std(axis=1)"
   ]
  },
  {
   "cell_type": "code",
   "execution_count": 5,
   "id": "097b2272",
   "metadata": {},
   "outputs": [
    {
     "data": {
      "text/plain": [
       "array([1991.89, 2687.44, 2729.09, 1301.09, 3299.16, 2684.09, 2865.09,\n",
       "       3881.09,  968.41, 3844.49])"
      ]
     },
     "execution_count": 5,
     "metadata": {},
     "output_type": "execute_result"
    }
   ],
   "source": [
    "a1.var(axis=1)"
   ]
  },
  {
   "cell_type": "code",
   "execution_count": 6,
   "id": "379abacf",
   "metadata": {},
   "outputs": [
    {
     "name": "stdout",
     "output_type": "stream",
     "text": [
      "Enter No. of Rows:4\n",
      "Enter No. of Cols:5\n",
      "Shape: (4, 5)\n"
     ]
    }
   ],
   "source": [
    "#b\n",
    "m=int(input(\"Enter No. of Rows:\"))\n",
    "n=int(input(\"Enter No. of Cols:\"))\n",
    "b1=np.random.randint(-100,100,size=(m,n))\n",
    "b2=b1.reshape(n,m)\n",
    "print(\"Shape:\",b1.shape)"
   ]
  },
  {
   "cell_type": "code",
   "execution_count": 7,
   "id": "593d1a50",
   "metadata": {},
   "outputs": [
    {
     "name": "stdout",
     "output_type": "stream",
     "text": [
      "Type: <class 'numpy.ndarray'>\n",
      "Datatype: int32\n"
     ]
    }
   ],
   "source": [
    "print(\"Type:\",type(b1))\n",
    "print(\"Datatype:\",b1.dtype)"
   ]
  },
  {
   "cell_type": "code",
   "execution_count": 8,
   "id": "9e6818f1",
   "metadata": {},
   "outputs": [
    {
     "name": "stdout",
     "output_type": "stream",
     "text": [
      "Array 1:\n",
      "[[-32 -42 -37  16  88]\n",
      " [-98   6  51  38  54]\n",
      " [-49 -26  21 -70  58]\n",
      " [-34 -77  52 -39 -10]]\n",
      "Array 2:\n",
      "[[-32 -42 -37  16]\n",
      " [ 88 -98   6  51]\n",
      " [ 38  54 -49 -26]\n",
      " [ 21 -70  58 -34]\n",
      " [-77  52 -39 -10]]\n"
     ]
    }
   ],
   "source": [
    "print(\"Array 1:\")\n",
    "print(b1)\n",
    "print(\"Array 2:\")\n",
    "print(b2)"
   ]
  },
  {
   "cell_type": "code",
   "execution_count": 9,
   "id": "5a734ffb",
   "metadata": {},
   "outputs": [
    {
     "data": {
      "text/plain": [
       "array([nan, -2.,  2.,  0.,  0.,  0., nan, -2., nan, -0.,  0.,  1.,  1.,\n",
       "       nan, -0.,  1.,  1.,  1., nan, -0.,  1.,  0.,  1.,  0., -0., -2.,\n",
       "        0.,  1., -0., -0., nan, -0., -0., -2.,  0., -0., nan,  1.,  2.,\n",
       "        1.,  1., -0., -2., nan,  1.,  2., nan, -0., -2., -2., nan, -0.,\n",
       "       nan,  0., -2., -0.,  1.,  2., -2., nan, nan, -2., -2.,  0.,  1.,\n",
       "        1., nan,  2.,  0., nan,  1.,  1.,  0.,  2., -0., -2., nan,  1.,\n",
       "        2.,  0., -0.,  1.,  0.,  1.,  1., -0., -0.,  1., nan, -2.,  0.,\n",
       "       -0., nan, -0., nan, nan, -2., nan, -2.,  2.])"
      ]
     },
     "execution_count": 9,
     "metadata": {},
     "output_type": "execute_result"
    }
   ],
   "source": [
    "#c\n",
    "c1=np.random.randn(100)\n",
    "c1=np.round(c1)\n",
    "c1[c1==-1]=np.nan\n",
    "c1"
   ]
  },
  {
   "cell_type": "code",
   "execution_count": 10,
   "id": "14c9e200",
   "metadata": {},
   "outputs": [
    {
     "name": "stdout",
     "output_type": "stream",
     "text": [
      "Indices of Zero elements:\n"
     ]
    },
    {
     "data": {
      "text/plain": [
       "array([ 3,  4,  5,  9, 10, 14, 19, 21, 23, 24, 26, 28, 29, 31, 32, 34, 35,\n",
       "       41, 47, 51, 53, 55, 63, 68, 72, 74, 79, 80, 82, 85, 86, 90, 91, 93],\n",
       "      dtype=int64)"
      ]
     },
     "execution_count": 10,
     "metadata": {},
     "output_type": "execute_result"
    }
   ],
   "source": [
    "zero_indices = np.where(c1 == 0)[0]\n",
    "print(\"Indices of Zero elements:\")\n",
    "zero_indices"
   ]
  },
  {
   "cell_type": "code",
   "execution_count": 11,
   "id": "04b2a419",
   "metadata": {},
   "outputs": [
    {
     "name": "stdout",
     "output_type": "stream",
     "text": [
      "Indices of Non-Zero elements:\n"
     ]
    },
    {
     "data": {
      "text/plain": [
       "array([ 0,  1,  2,  6,  7,  8, 11, 12, 13, 15, 16, 17, 18, 20, 22, 25, 27,\n",
       "       30, 33, 36, 37, 38, 39, 40, 42, 43, 44, 45, 46, 48, 49, 50, 52, 54,\n",
       "       56, 57, 58, 59, 60, 61, 62, 64, 65, 66, 67, 69, 70, 71, 73, 75, 76,\n",
       "       77, 78, 81, 83, 84, 87, 88, 89, 92, 94, 95, 96, 97, 98, 99],\n",
       "      dtype=int64)"
      ]
     },
     "execution_count": 11,
     "metadata": {},
     "output_type": "execute_result"
    }
   ],
   "source": [
    "non_zero_indices = np.where(c1 != 0)[0]\n",
    "print(\"Indices of Non-Zero elements:\")\n",
    "non_zero_indices"
   ]
  },
  {
   "cell_type": "code",
   "execution_count": 12,
   "id": "df11d2e1",
   "metadata": {
    "scrolled": true
   },
   "outputs": [
    {
     "name": "stdout",
     "output_type": "stream",
     "text": [
      "Indices of NaN elements:\n"
     ]
    },
    {
     "data": {
      "text/plain": [
       "array([ 0,  6,  8, 13, 18, 30, 36, 43, 46, 50, 52, 59, 60, 66, 69, 76, 88,\n",
       "       92, 94, 95, 97], dtype=int64)"
      ]
     },
     "execution_count": 12,
     "metadata": {},
     "output_type": "execute_result"
    }
   ],
   "source": [
    "nan_indices = np.where(np.isnan(c1))[0]\n",
    "print(\"Indices of NaN elements:\")\n",
    "nan_indices"
   ]
  },
  {
   "cell_type": "code",
   "execution_count": 13,
   "id": "ef4aa3d8",
   "metadata": {},
   "outputs": [],
   "source": [
    "#d\n",
    "d1=np.random.randint(-100,100, size =(20))\n",
    "d2=np.random.randint(-100,100, size =(20))\n",
    "d3=np.random.randint(-100,100, size =(20))\n",
    "d4=d3-d2\n",
    "d5=d1*2"
   ]
  },
  {
   "cell_type": "code",
   "execution_count": 14,
   "id": "53e76a88",
   "metadata": {},
   "outputs": [
    {
     "data": {
      "text/plain": [
       "1822.328947368421"
      ]
     },
     "execution_count": 14,
     "metadata": {},
     "output_type": "execute_result"
    }
   ],
   "source": [
    "cov1=np.cov(d1,d4)[0,1]\n",
    "cov2=np.cov(d1,d5)[0,1]\n",
    "cov1"
   ]
  },
  {
   "cell_type": "code",
   "execution_count": 15,
   "id": "421cb5f5",
   "metadata": {},
   "outputs": [
    {
     "data": {
      "text/plain": [
       "7437.321052631579"
      ]
     },
     "execution_count": 15,
     "metadata": {},
     "output_type": "execute_result"
    }
   ],
   "source": [
    "cov2"
   ]
  },
  {
   "cell_type": "code",
   "execution_count": 16,
   "id": "ad20b5f1",
   "metadata": {},
   "outputs": [
    {
     "data": {
      "text/plain": [
       "0.31540936090534144"
      ]
     },
     "execution_count": 16,
     "metadata": {},
     "output_type": "execute_result"
    }
   ],
   "source": [
    "corr1=np.corrcoef(d1,d4)[0,1]\n",
    "corr2=np.corrcoef(d1,d5)[0,1]\n",
    "corr1"
   ]
  },
  {
   "cell_type": "code",
   "execution_count": 17,
   "id": "347fd8d1",
   "metadata": {},
   "outputs": [
    {
     "data": {
      "text/plain": [
       "1.0"
      ]
     },
     "execution_count": 17,
     "metadata": {},
     "output_type": "execute_result"
    }
   ],
   "source": [
    "corr2"
   ]
  },
  {
   "cell_type": "code",
   "execution_count": 18,
   "id": "577190bf",
   "metadata": {},
   "outputs": [
    {
     "name": "stderr",
     "output_type": "stream",
     "text": [
      "C:\\Users\\adars\\AppData\\Local\\Temp\\ipykernel_9620\\520316015.py:8: RuntimeWarning: overflow encountered in scalar multiply\n",
      "  prod = np.prod(array1[half_length:]) * np.prod(array2[half_length:])\n"
     ]
    }
   ],
   "source": [
    "#e\n",
    "array1 = np.random.randint(-100, 100, size=(10))\n",
    "array2 = np.random.randint(-100, 100, size=(10))\n",
    "\n",
    "# Calculate sums and products\n",
    "half_length = len(array1) // 2 \n",
    "summ = np.sum(array1[:half_length]) + np.sum(array2[:half_length])  \n",
    "prod = np.prod(array1[half_length:]) * np.prod(array2[half_length:]) \n",
    "\n"
   ]
  },
  {
   "cell_type": "code",
   "execution_count": 19,
   "id": "d70c5b28",
   "metadata": {},
   "outputs": [
    {
     "data": {
      "text/plain": [
       "-17"
      ]
     },
     "execution_count": 19,
     "metadata": {},
     "output_type": "execute_result"
    }
   ],
   "source": [
    "summ"
   ]
  },
  {
   "cell_type": "code",
   "execution_count": 20,
   "id": "0c325277",
   "metadata": {},
   "outputs": [
    {
     "data": {
      "text/plain": [
       "-1326978048"
      ]
     },
     "execution_count": 20,
     "metadata": {},
     "output_type": "execute_result"
    }
   ],
   "source": [
    "prod"
   ]
  },
  {
   "cell_type": "markdown",
   "id": "518e1a52",
   "metadata": {},
   "source": [
    " ####  "
   ]
  },
  {
   "cell_type": "markdown",
   "id": "07cedf92",
   "metadata": {},
   "source": [
    "#### Q2"
   ]
  },
  {
   "cell_type": "markdown",
   "id": "572d78e0",
   "metadata": {},
   "source": [
    "Do the following using PANDAS Series:\n",
    "\n",
    "a. Create a series with 5 elements. Display the series sorted on index and also sorted on values seperately\n",
    "\n",
    "b. Create a series with N elements with some duplicate values. Find the minimum and maximum ranks\n",
    "assigned to the values using ‘first’ and ‘max’ methods\n",
    "\n",
    "c. Display the index value of the minimum and maximum element of a Series"
   ]
  },
  {
   "cell_type": "code",
   "execution_count": 21,
   "id": "133c02ba",
   "metadata": {},
   "outputs": [
    {
     "data": {
      "text/plain": [
       "2   -1.493162\n",
       "5   -0.248116\n",
       "4    0.805287\n",
       "3   -0.732692\n",
       "1    0.464995\n",
       "dtype: float64"
      ]
     },
     "execution_count": 21,
     "metadata": {},
     "output_type": "execute_result"
    }
   ],
   "source": [
    "#a\n",
    "a1 = pd.Series(np.random.randn(5),index=np.arange(1,6))\n",
    "a1 = a1.sample(frac=0.99)\n",
    "a1"
   ]
  },
  {
   "cell_type": "code",
   "execution_count": 22,
   "id": "0b1870e4",
   "metadata": {
    "scrolled": true
   },
   "outputs": [
    {
     "data": {
      "text/plain": [
       "1    0.464995\n",
       "2   -1.493162\n",
       "3   -0.732692\n",
       "4    0.805287\n",
       "5   -0.248116\n",
       "dtype: float64"
      ]
     },
     "execution_count": 22,
     "metadata": {},
     "output_type": "execute_result"
    }
   ],
   "source": [
    "a1.sort_index()"
   ]
  },
  {
   "cell_type": "code",
   "execution_count": 23,
   "id": "13ff1ef4",
   "metadata": {},
   "outputs": [
    {
     "data": {
      "text/plain": [
       "2   -1.493162\n",
       "3   -0.732692\n",
       "5   -0.248116\n",
       "1    0.464995\n",
       "4    0.805287\n",
       "dtype: float64"
      ]
     },
     "execution_count": 23,
     "metadata": {},
     "output_type": "execute_result"
    }
   ],
   "source": [
    "a1.sort_values(ascending=1)"
   ]
  },
  {
   "cell_type": "code",
   "execution_count": 24,
   "id": "962914c9",
   "metadata": {},
   "outputs": [
    {
     "data": {
      "text/plain": [
       "1      7\n",
       "2     -5\n",
       "3     -5\n",
       "4      6\n",
       "5      8\n",
       "6      0\n",
       "7     -6\n",
       "8     -3\n",
       "9     -1\n",
       "10    -7\n",
       "11     2\n",
       "12   -10\n",
       "13    -5\n",
       "14     4\n",
       "15    -4\n",
       "16    -9\n",
       "17    -2\n",
       "18     4\n",
       "19    -6\n",
       "20   -10\n",
       "21    -7\n",
       "22   -10\n",
       "23     7\n",
       "24    -3\n",
       "25    -8\n",
       "26     4\n",
       "27     4\n",
       "dtype: int32"
      ]
     },
     "execution_count": 24,
     "metadata": {},
     "output_type": "execute_result"
    }
   ],
   "source": [
    "#b\n",
    "b1 = pd.Series(np.random.randint(-10,10,size=(27)),index=np.arange(1,28))\n",
    "b1"
   ]
  },
  {
   "cell_type": "code",
   "execution_count": 25,
   "id": "db8d063b",
   "metadata": {},
   "outputs": [
    {
     "name": "stdout",
     "output_type": "stream",
     "text": [
      "Min from First Method: 1.0\n",
      "Max from First Method: 27.0\n",
      "Min from Max Method: 3.0\n",
      "Max from Max Method: 27.0\n"
     ]
    }
   ],
   "source": [
    "franks=b1.rank(method=\"first\")\n",
    "print(\"Min from First Method:\",franks.min())\n",
    "print(\"Max from First Method:\",franks.max())\n",
    "\n",
    "mranks=b1.rank(method=\"max\")\n",
    "print(\"Min from Max Method:\",mranks.min())\n",
    "print(\"Max from Max Method:\",mranks.max())"
   ]
  },
  {
   "cell_type": "code",
   "execution_count": 26,
   "id": "40ea2088",
   "metadata": {},
   "outputs": [
    {
     "data": {
      "text/plain": [
       "1     -9\n",
       "2     -7\n",
       "3      3\n",
       "4      5\n",
       "5      5\n",
       "6      6\n",
       "7      2\n",
       "8     -6\n",
       "9    -10\n",
       "10     3\n",
       "dtype: int32"
      ]
     },
     "execution_count": 26,
     "metadata": {},
     "output_type": "execute_result"
    }
   ],
   "source": [
    "#c\n",
    "c1 = pd.Series(np.random.randint(-10,10,size=(10)),index=np.arange(1,11))\n",
    "c1"
   ]
  },
  {
   "cell_type": "code",
   "execution_count": 27,
   "id": "6243b806",
   "metadata": {},
   "outputs": [
    {
     "data": {
      "text/plain": [
       "9"
      ]
     },
     "execution_count": 27,
     "metadata": {},
     "output_type": "execute_result"
    }
   ],
   "source": [
    "c1[c1 == c1.min()].index[0]"
   ]
  },
  {
   "cell_type": "code",
   "execution_count": 28,
   "id": "e6cfcedc",
   "metadata": {},
   "outputs": [
    {
     "data": {
      "text/plain": [
       "6"
      ]
     },
     "execution_count": 28,
     "metadata": {},
     "output_type": "execute_result"
    }
   ],
   "source": [
    "c1[c1 == c1.max()].index[0]"
   ]
  },
  {
   "cell_type": "markdown",
   "id": "99a7c96c",
   "metadata": {},
   "source": [
    "####  "
   ]
  },
  {
   "cell_type": "markdown",
   "id": "50f93cce",
   "metadata": {},
   "source": [
    "#### Q3"
   ]
  },
  {
   "cell_type": "markdown",
   "id": "d02cf1f7",
   "metadata": {},
   "source": [
    "Create a data frame having at least 3 columns and 50 rows to store numeric data generated using a random\n",
    "function. Replace 10% of the values by null values whose index positions are generated using random function.\n",
    "Do the following:\n",
    "\n",
    "a. Identify and count missing values in a data frame.\n",
    "\n",
    "b. Drop the column having more than 5 null values.\n",
    "\n",
    "c. Identify the row label having maximum of the sum of all values in a row and drop that row.\n",
    "\n",
    "d. Sort the data frame on the basis of the first column.\n",
    "\n",
    "e. Remove all duplicates from the first column.\n",
    "\n",
    "f. Find the correlation between first and second column and covariance between second and third\n",
    "column.\n",
    "\n",
    "g. Discretize the second column and create 5 bins."
   ]
  },
  {
   "cell_type": "code",
   "execution_count": 29,
   "id": "2b759325",
   "metadata": {},
   "outputs": [],
   "source": [
    "df = pd.DataFrame(np.random.randint(-100,100,size=(10000,10)),\n",
    "                                    columns=\"A B C D E F G H I J\".split(),\n",
    "                                    index=np.arange(1,10001))\n",
    "df.dtype='float'"
   ]
  },
  {
   "cell_type": "code",
   "execution_count": 30,
   "id": "5302d4ba",
   "metadata": {},
   "outputs": [
    {
     "data": {
      "text/html": [
       "<div>\n",
       "<style scoped>\n",
       "    .dataframe tbody tr th:only-of-type {\n",
       "        vertical-align: middle;\n",
       "    }\n",
       "\n",
       "    .dataframe tbody tr th {\n",
       "        vertical-align: top;\n",
       "    }\n",
       "\n",
       "    .dataframe thead th {\n",
       "        text-align: right;\n",
       "    }\n",
       "</style>\n",
       "<table border=\"1\" class=\"dataframe\">\n",
       "  <thead>\n",
       "    <tr style=\"text-align: right;\">\n",
       "      <th></th>\n",
       "      <th>A</th>\n",
       "      <th>B</th>\n",
       "      <th>C</th>\n",
       "      <th>D</th>\n",
       "      <th>E</th>\n",
       "      <th>F</th>\n",
       "      <th>G</th>\n",
       "      <th>H</th>\n",
       "      <th>I</th>\n",
       "      <th>J</th>\n",
       "    </tr>\n",
       "  </thead>\n",
       "  <tbody>\n",
       "    <tr>\n",
       "      <th>1</th>\n",
       "      <td>NaN</td>\n",
       "      <td>33.0</td>\n",
       "      <td>96.0</td>\n",
       "      <td>18.0</td>\n",
       "      <td>-14.0</td>\n",
       "      <td>88.0</td>\n",
       "      <td>66.0</td>\n",
       "      <td>74.0</td>\n",
       "      <td>-64.0</td>\n",
       "      <td>-69.0</td>\n",
       "    </tr>\n",
       "    <tr>\n",
       "      <th>2</th>\n",
       "      <td>10.0</td>\n",
       "      <td>-12.0</td>\n",
       "      <td>24.0</td>\n",
       "      <td>66.0</td>\n",
       "      <td>-52.0</td>\n",
       "      <td>79.0</td>\n",
       "      <td>49.0</td>\n",
       "      <td>29.0</td>\n",
       "      <td>-93.0</td>\n",
       "      <td>85.0</td>\n",
       "    </tr>\n",
       "    <tr>\n",
       "      <th>3</th>\n",
       "      <td>-5.0</td>\n",
       "      <td>-91.0</td>\n",
       "      <td>61.0</td>\n",
       "      <td>9.0</td>\n",
       "      <td>-69.0</td>\n",
       "      <td>74.0</td>\n",
       "      <td>64.0</td>\n",
       "      <td>NaN</td>\n",
       "      <td>NaN</td>\n",
       "      <td>72.0</td>\n",
       "    </tr>\n",
       "    <tr>\n",
       "      <th>4</th>\n",
       "      <td>54.0</td>\n",
       "      <td>42.0</td>\n",
       "      <td>0.0</td>\n",
       "      <td>64.0</td>\n",
       "      <td>96.0</td>\n",
       "      <td>-95.0</td>\n",
       "      <td>NaN</td>\n",
       "      <td>-18.0</td>\n",
       "      <td>59.0</td>\n",
       "      <td>-31.0</td>\n",
       "    </tr>\n",
       "    <tr>\n",
       "      <th>5</th>\n",
       "      <td>63.0</td>\n",
       "      <td>-96.0</td>\n",
       "      <td>25.0</td>\n",
       "      <td>NaN</td>\n",
       "      <td>87.0</td>\n",
       "      <td>-6.0</td>\n",
       "      <td>-36.0</td>\n",
       "      <td>59.0</td>\n",
       "      <td>-65.0</td>\n",
       "      <td>-88.0</td>\n",
       "    </tr>\n",
       "    <tr>\n",
       "      <th>...</th>\n",
       "      <td>...</td>\n",
       "      <td>...</td>\n",
       "      <td>...</td>\n",
       "      <td>...</td>\n",
       "      <td>...</td>\n",
       "      <td>...</td>\n",
       "      <td>...</td>\n",
       "      <td>...</td>\n",
       "      <td>...</td>\n",
       "      <td>...</td>\n",
       "    </tr>\n",
       "    <tr>\n",
       "      <th>9996</th>\n",
       "      <td>31.0</td>\n",
       "      <td>-9.0</td>\n",
       "      <td>9.0</td>\n",
       "      <td>-30.0</td>\n",
       "      <td>-23.0</td>\n",
       "      <td>-88.0</td>\n",
       "      <td>-30.0</td>\n",
       "      <td>-35.0</td>\n",
       "      <td>28.0</td>\n",
       "      <td>-86.0</td>\n",
       "    </tr>\n",
       "    <tr>\n",
       "      <th>9997</th>\n",
       "      <td>27.0</td>\n",
       "      <td>44.0</td>\n",
       "      <td>NaN</td>\n",
       "      <td>26.0</td>\n",
       "      <td>8.0</td>\n",
       "      <td>-75.0</td>\n",
       "      <td>-85.0</td>\n",
       "      <td>95.0</td>\n",
       "      <td>-75.0</td>\n",
       "      <td>-48.0</td>\n",
       "    </tr>\n",
       "    <tr>\n",
       "      <th>9998</th>\n",
       "      <td>-98.0</td>\n",
       "      <td>67.0</td>\n",
       "      <td>-55.0</td>\n",
       "      <td>-72.0</td>\n",
       "      <td>-79.0</td>\n",
       "      <td>-58.0</td>\n",
       "      <td>NaN</td>\n",
       "      <td>60.0</td>\n",
       "      <td>-16.0</td>\n",
       "      <td>NaN</td>\n",
       "    </tr>\n",
       "    <tr>\n",
       "      <th>9999</th>\n",
       "      <td>-85.0</td>\n",
       "      <td>-2.0</td>\n",
       "      <td>-73.0</td>\n",
       "      <td>-58.0</td>\n",
       "      <td>-19.0</td>\n",
       "      <td>NaN</td>\n",
       "      <td>19.0</td>\n",
       "      <td>-34.0</td>\n",
       "      <td>76.0</td>\n",
       "      <td>12.0</td>\n",
       "    </tr>\n",
       "    <tr>\n",
       "      <th>10000</th>\n",
       "      <td>-94.0</td>\n",
       "      <td>34.0</td>\n",
       "      <td>-22.0</td>\n",
       "      <td>-19.0</td>\n",
       "      <td>-93.0</td>\n",
       "      <td>-64.0</td>\n",
       "      <td>-38.0</td>\n",
       "      <td>60.0</td>\n",
       "      <td>NaN</td>\n",
       "      <td>-91.0</td>\n",
       "    </tr>\n",
       "  </tbody>\n",
       "</table>\n",
       "<p>10000 rows × 10 columns</p>\n",
       "</div>"
      ],
      "text/plain": [
       "          A     B     C     D     E     F     G     H     I     J\n",
       "1       NaN  33.0  96.0  18.0 -14.0  88.0  66.0  74.0 -64.0 -69.0\n",
       "2      10.0 -12.0  24.0  66.0 -52.0  79.0  49.0  29.0 -93.0  85.0\n",
       "3      -5.0 -91.0  61.0   9.0 -69.0  74.0  64.0   NaN   NaN  72.0\n",
       "4      54.0  42.0   0.0  64.0  96.0 -95.0   NaN -18.0  59.0 -31.0\n",
       "5      63.0 -96.0  25.0   NaN  87.0  -6.0 -36.0  59.0 -65.0 -88.0\n",
       "...     ...   ...   ...   ...   ...   ...   ...   ...   ...   ...\n",
       "9996   31.0  -9.0   9.0 -30.0 -23.0 -88.0 -30.0 -35.0  28.0 -86.0\n",
       "9997   27.0  44.0   NaN  26.0   8.0 -75.0 -85.0  95.0 -75.0 -48.0\n",
       "9998  -98.0  67.0 -55.0 -72.0 -79.0 -58.0   NaN  60.0 -16.0   NaN\n",
       "9999  -85.0  -2.0 -73.0 -58.0 -19.0   NaN  19.0 -34.0  76.0  12.0\n",
       "10000 -94.0  34.0 -22.0 -19.0 -93.0 -64.0 -38.0  60.0   NaN -91.0\n",
       "\n",
       "[10000 rows x 10 columns]"
      ]
     },
     "execution_count": 30,
     "metadata": {},
     "output_type": "execute_result"
    }
   ],
   "source": [
    "repvals = np.random.choice([True, False], size=df.shape, p=[0.1,0.90])\n",
    "df = df.mask(repvals)\n",
    "df"
   ]
  },
  {
   "cell_type": "code",
   "execution_count": 31,
   "id": "aa49a362",
   "metadata": {},
   "outputs": [
    {
     "name": "stdout",
     "output_type": "stream",
     "text": [
      "Null Value Percentage in Data:\n"
     ]
    },
    {
     "data": {
      "text/plain": [
       "10.13"
      ]
     },
     "execution_count": 31,
     "metadata": {},
     "output_type": "execute_result"
    }
   ],
   "source": [
    "#a\n",
    "print(\"Null Value Percentage in Data:\")\n",
    "np.round((df.isnull().sum().sum()/df.size)*100,2)"
   ]
  },
  {
   "cell_type": "code",
   "execution_count": 32,
   "id": "d5528d60",
   "metadata": {},
   "outputs": [],
   "source": [
    "#b\n",
    "df.drop(df.columns[df.isnull().sum() > 0.1*df.shape[0]],axis=1,inplace=True)"
   ]
  },
  {
   "cell_type": "code",
   "execution_count": 33,
   "id": "22dc84e8",
   "metadata": {},
   "outputs": [],
   "source": [
    "#c\n",
    "df.drop(df.columns[df.sum()==df.sum(axis=0).max()],axis=1,inplace=True)"
   ]
  },
  {
   "cell_type": "code",
   "execution_count": 34,
   "id": "4148c63f",
   "metadata": {},
   "outputs": [],
   "source": [
    "#d\n",
    "df.sort_values(by=df.columns[0],inplace=True)"
   ]
  },
  {
   "cell_type": "code",
   "execution_count": 35,
   "id": "b917ebd2",
   "metadata": {},
   "outputs": [],
   "source": [
    "#e\n",
    "df.drop_duplicates(subset=df.columns[0],keep='first',inplace=True)"
   ]
  },
  {
   "cell_type": "code",
   "execution_count": 36,
   "id": "297692d6",
   "metadata": {},
   "outputs": [
    {
     "data": {
      "text/html": [
       "<div>\n",
       "<style scoped>\n",
       "    .dataframe tbody tr th:only-of-type {\n",
       "        vertical-align: middle;\n",
       "    }\n",
       "\n",
       "    .dataframe tbody tr th {\n",
       "        vertical-align: top;\n",
       "    }\n",
       "\n",
       "    .dataframe thead th {\n",
       "        text-align: right;\n",
       "    }\n",
       "</style>\n",
       "<table border=\"1\" class=\"dataframe\">\n",
       "  <thead>\n",
       "    <tr style=\"text-align: right;\">\n",
       "      <th></th>\n",
       "      <th>A</th>\n",
       "      <th>D</th>\n",
       "      <th>G</th>\n",
       "    </tr>\n",
       "  </thead>\n",
       "  <tbody>\n",
       "    <tr>\n",
       "      <th>8244</th>\n",
       "      <td>-100.0</td>\n",
       "      <td>-88.0</td>\n",
       "      <td>72.0</td>\n",
       "    </tr>\n",
       "    <tr>\n",
       "      <th>5821</th>\n",
       "      <td>-99.0</td>\n",
       "      <td>-3.0</td>\n",
       "      <td>-90.0</td>\n",
       "    </tr>\n",
       "    <tr>\n",
       "      <th>8209</th>\n",
       "      <td>-98.0</td>\n",
       "      <td>37.0</td>\n",
       "      <td>5.0</td>\n",
       "    </tr>\n",
       "    <tr>\n",
       "      <th>7851</th>\n",
       "      <td>-97.0</td>\n",
       "      <td>68.0</td>\n",
       "      <td>95.0</td>\n",
       "    </tr>\n",
       "    <tr>\n",
       "      <th>8589</th>\n",
       "      <td>-96.0</td>\n",
       "      <td>-98.0</td>\n",
       "      <td>-1.0</td>\n",
       "    </tr>\n",
       "    <tr>\n",
       "      <th>...</th>\n",
       "      <td>...</td>\n",
       "      <td>...</td>\n",
       "      <td>...</td>\n",
       "    </tr>\n",
       "    <tr>\n",
       "      <th>5881</th>\n",
       "      <td>96.0</td>\n",
       "      <td>-92.0</td>\n",
       "      <td>NaN</td>\n",
       "    </tr>\n",
       "    <tr>\n",
       "      <th>6576</th>\n",
       "      <td>97.0</td>\n",
       "      <td>45.0</td>\n",
       "      <td>3.0</td>\n",
       "    </tr>\n",
       "    <tr>\n",
       "      <th>1903</th>\n",
       "      <td>98.0</td>\n",
       "      <td>2.0</td>\n",
       "      <td>11.0</td>\n",
       "    </tr>\n",
       "    <tr>\n",
       "      <th>787</th>\n",
       "      <td>99.0</td>\n",
       "      <td>-10.0</td>\n",
       "      <td>40.0</td>\n",
       "    </tr>\n",
       "    <tr>\n",
       "      <th>1</th>\n",
       "      <td>NaN</td>\n",
       "      <td>18.0</td>\n",
       "      <td>66.0</td>\n",
       "    </tr>\n",
       "  </tbody>\n",
       "</table>\n",
       "<p>201 rows × 3 columns</p>\n",
       "</div>"
      ],
      "text/plain": [
       "          A     D     G\n",
       "8244 -100.0 -88.0  72.0\n",
       "5821  -99.0  -3.0 -90.0\n",
       "8209  -98.0  37.0   5.0\n",
       "7851  -97.0  68.0  95.0\n",
       "8589  -96.0 -98.0  -1.0\n",
       "...     ...   ...   ...\n",
       "5881   96.0 -92.0   NaN\n",
       "6576   97.0  45.0   3.0\n",
       "1903   98.0   2.0  11.0\n",
       "787    99.0 -10.0  40.0\n",
       "1       NaN  18.0  66.0\n",
       "\n",
       "[201 rows x 3 columns]"
      ]
     },
     "execution_count": 36,
     "metadata": {},
     "output_type": "execute_result"
    }
   ],
   "source": [
    "df"
   ]
  },
  {
   "cell_type": "code",
   "execution_count": 37,
   "id": "969666b9",
   "metadata": {},
   "outputs": [
    {
     "data": {
      "text/plain": [
       "-0.08051655485808565"
      ]
     },
     "execution_count": 37,
     "metadata": {},
     "output_type": "execute_result"
    }
   ],
   "source": [
    "#f\n",
    "df[df.columns[0]].corr(df[df.columns[1]])"
   ]
  },
  {
   "cell_type": "code",
   "execution_count": 38,
   "id": "d148a015",
   "metadata": {},
   "outputs": [
    {
     "data": {
      "text/plain": [
       "-315.07520325203257"
      ]
     },
     "execution_count": 38,
     "metadata": {},
     "output_type": "execute_result"
    }
   ],
   "source": [
    "df[df.columns[1]].cov(df[df.columns[2]])"
   ]
  },
  {
   "cell_type": "code",
   "execution_count": 39,
   "id": "ddf10677",
   "metadata": {},
   "outputs": [],
   "source": [
    "#g\n",
    "df[df.columns[1]] = pd.cut(df[df.columns[1]],bins=5)"
   ]
  },
  {
   "cell_type": "code",
   "execution_count": 40,
   "id": "b8a4b08c",
   "metadata": {},
   "outputs": [
    {
     "data": {
      "text/html": [
       "<div>\n",
       "<style scoped>\n",
       "    .dataframe tbody tr th:only-of-type {\n",
       "        vertical-align: middle;\n",
       "    }\n",
       "\n",
       "    .dataframe tbody tr th {\n",
       "        vertical-align: top;\n",
       "    }\n",
       "\n",
       "    .dataframe thead th {\n",
       "        text-align: right;\n",
       "    }\n",
       "</style>\n",
       "<table border=\"1\" class=\"dataframe\">\n",
       "  <thead>\n",
       "    <tr style=\"text-align: right;\">\n",
       "      <th></th>\n",
       "      <th>A</th>\n",
       "      <th>D</th>\n",
       "      <th>G</th>\n",
       "    </tr>\n",
       "  </thead>\n",
       "  <tbody>\n",
       "    <tr>\n",
       "      <th>1</th>\n",
       "      <td>-100.0</td>\n",
       "      <td>(-99.198, -59.4]</td>\n",
       "      <td>72.0</td>\n",
       "    </tr>\n",
       "    <tr>\n",
       "      <th>2</th>\n",
       "      <td>-99.0</td>\n",
       "      <td>(-19.8, 19.8]</td>\n",
       "      <td>-90.0</td>\n",
       "    </tr>\n",
       "    <tr>\n",
       "      <th>3</th>\n",
       "      <td>-98.0</td>\n",
       "      <td>(19.8, 59.4]</td>\n",
       "      <td>5.0</td>\n",
       "    </tr>\n",
       "    <tr>\n",
       "      <th>4</th>\n",
       "      <td>-97.0</td>\n",
       "      <td>(59.4, 99.0]</td>\n",
       "      <td>95.0</td>\n",
       "    </tr>\n",
       "    <tr>\n",
       "      <th>5</th>\n",
       "      <td>-96.0</td>\n",
       "      <td>(-99.198, -59.4]</td>\n",
       "      <td>-1.0</td>\n",
       "    </tr>\n",
       "    <tr>\n",
       "      <th>...</th>\n",
       "      <td>...</td>\n",
       "      <td>...</td>\n",
       "      <td>...</td>\n",
       "    </tr>\n",
       "    <tr>\n",
       "      <th>197</th>\n",
       "      <td>96.0</td>\n",
       "      <td>(-99.198, -59.4]</td>\n",
       "      <td>NaN</td>\n",
       "    </tr>\n",
       "    <tr>\n",
       "      <th>198</th>\n",
       "      <td>97.0</td>\n",
       "      <td>(19.8, 59.4]</td>\n",
       "      <td>3.0</td>\n",
       "    </tr>\n",
       "    <tr>\n",
       "      <th>199</th>\n",
       "      <td>98.0</td>\n",
       "      <td>(-19.8, 19.8]</td>\n",
       "      <td>11.0</td>\n",
       "    </tr>\n",
       "    <tr>\n",
       "      <th>200</th>\n",
       "      <td>99.0</td>\n",
       "      <td>(-19.8, 19.8]</td>\n",
       "      <td>40.0</td>\n",
       "    </tr>\n",
       "    <tr>\n",
       "      <th>201</th>\n",
       "      <td>NaN</td>\n",
       "      <td>(-19.8, 19.8]</td>\n",
       "      <td>66.0</td>\n",
       "    </tr>\n",
       "  </tbody>\n",
       "</table>\n",
       "<p>201 rows × 3 columns</p>\n",
       "</div>"
      ],
      "text/plain": [
       "         A                 D     G\n",
       "1   -100.0  (-99.198, -59.4]  72.0\n",
       "2    -99.0     (-19.8, 19.8] -90.0\n",
       "3    -98.0      (19.8, 59.4]   5.0\n",
       "4    -97.0      (59.4, 99.0]  95.0\n",
       "5    -96.0  (-99.198, -59.4]  -1.0\n",
       "..     ...               ...   ...\n",
       "197   96.0  (-99.198, -59.4]   NaN\n",
       "198   97.0      (19.8, 59.4]   3.0\n",
       "199   98.0     (-19.8, 19.8]  11.0\n",
       "200   99.0     (-19.8, 19.8]  40.0\n",
       "201    NaN     (-19.8, 19.8]  66.0\n",
       "\n",
       "[201 rows x 3 columns]"
      ]
     },
     "execution_count": 40,
     "metadata": {},
     "output_type": "execute_result"
    }
   ],
   "source": [
    "df.reset_index(inplace=True,drop=True)\n",
    "df.index+=1\n",
    "df"
   ]
  },
  {
   "cell_type": "markdown",
   "id": "dddce8a9",
   "metadata": {},
   "source": [
    "#### \n"
   ]
  },
  {
   "cell_type": "markdown",
   "id": "a0211023",
   "metadata": {},
   "source": [
    "#### Q4"
   ]
  },
  {
   "cell_type": "markdown",
   "id": "749bcf54",
   "metadata": {},
   "source": [
    "Consider two excel files having attendance of two workshos. Each file has three fields ‘Name’, ‘Date, duration\n",
    "(in minutes) where names are unique within a file. Note that duration may take one of three values (30, 40, 50)\n",
    "only. Import the data into two data frames and do the following:\n",
    "\n",
    "a. Perform merging of the two data frames to find the names of students who had attended both\n",
    "workshops.\n",
    "\n",
    "b. Find names of all students who have attended a single workshop only.\n",
    "\n",
    "c. Merge two data frames row-wise and find the total number of records in the data frame.\n",
    "\n",
    "d. Merge two data frames row-wise and use two columns viz. names and dates as multi-row indexes.\n",
    "\n",
    "Generate descriptive statistics for this hierarchical data frame."
   ]
  },
  {
   "cell_type": "code",
   "execution_count": 41,
   "id": "fe5a2700",
   "metadata": {},
   "outputs": [],
   "source": [
    "att1=pd.read_csv(\"workshop1_attendance.csv\",header=[0])\n",
    "att2=pd.read_csv(\"workshop2_attendance.csv\",header=[0])"
   ]
  },
  {
   "cell_type": "code",
   "execution_count": 42,
   "id": "5705a9aa",
   "metadata": {},
   "outputs": [
    {
     "data": {
      "text/html": [
       "<div>\n",
       "<style scoped>\n",
       "    .dataframe tbody tr th:only-of-type {\n",
       "        vertical-align: middle;\n",
       "    }\n",
       "\n",
       "    .dataframe tbody tr th {\n",
       "        vertical-align: top;\n",
       "    }\n",
       "\n",
       "    .dataframe thead th {\n",
       "        text-align: right;\n",
       "    }\n",
       "</style>\n",
       "<table border=\"1\" class=\"dataframe\">\n",
       "  <thead>\n",
       "    <tr style=\"text-align: right;\">\n",
       "      <th></th>\n",
       "      <th>Name</th>\n",
       "      <th>Date</th>\n",
       "      <th>Duration</th>\n",
       "    </tr>\n",
       "  </thead>\n",
       "  <tbody>\n",
       "    <tr>\n",
       "      <th>0</th>\n",
       "      <td>Gloria Phillips</td>\n",
       "      <td>2024-01-12</td>\n",
       "      <td>30</td>\n",
       "    </tr>\n",
       "    <tr>\n",
       "      <th>1</th>\n",
       "      <td>Mark Simmons</td>\n",
       "      <td>2024-01-19</td>\n",
       "      <td>40</td>\n",
       "    </tr>\n",
       "    <tr>\n",
       "      <th>2</th>\n",
       "      <td>Dylan Jones</td>\n",
       "      <td>2024-01-16</td>\n",
       "      <td>30</td>\n",
       "    </tr>\n",
       "    <tr>\n",
       "      <th>3</th>\n",
       "      <td>Traci Walls</td>\n",
       "      <td>2024-01-25</td>\n",
       "      <td>50</td>\n",
       "    </tr>\n",
       "    <tr>\n",
       "      <th>4</th>\n",
       "      <td>Christian Clark</td>\n",
       "      <td>2024-01-15</td>\n",
       "      <td>50</td>\n",
       "    </tr>\n",
       "    <tr>\n",
       "      <th>...</th>\n",
       "      <td>...</td>\n",
       "      <td>...</td>\n",
       "      <td>...</td>\n",
       "    </tr>\n",
       "    <tr>\n",
       "      <th>9995</th>\n",
       "      <td>Susan Welch</td>\n",
       "      <td>2024-01-02</td>\n",
       "      <td>40</td>\n",
       "    </tr>\n",
       "    <tr>\n",
       "      <th>9996</th>\n",
       "      <td>Randy Bradley</td>\n",
       "      <td>2024-01-10</td>\n",
       "      <td>50</td>\n",
       "    </tr>\n",
       "    <tr>\n",
       "      <th>9997</th>\n",
       "      <td>Amanda Cox</td>\n",
       "      <td>2024-01-29</td>\n",
       "      <td>40</td>\n",
       "    </tr>\n",
       "    <tr>\n",
       "      <th>9998</th>\n",
       "      <td>Ashley Jones</td>\n",
       "      <td>2024-01-18</td>\n",
       "      <td>30</td>\n",
       "    </tr>\n",
       "    <tr>\n",
       "      <th>9999</th>\n",
       "      <td>Sarah Spencer</td>\n",
       "      <td>2024-01-24</td>\n",
       "      <td>40</td>\n",
       "    </tr>\n",
       "  </tbody>\n",
       "</table>\n",
       "<p>10000 rows × 3 columns</p>\n",
       "</div>"
      ],
      "text/plain": [
       "                 Name        Date  Duration\n",
       "0     Gloria Phillips  2024-01-12        30\n",
       "1        Mark Simmons  2024-01-19        40\n",
       "2         Dylan Jones  2024-01-16        30\n",
       "3         Traci Walls  2024-01-25        50\n",
       "4     Christian Clark  2024-01-15        50\n",
       "...               ...         ...       ...\n",
       "9995      Susan Welch  2024-01-02        40\n",
       "9996    Randy Bradley  2024-01-10        50\n",
       "9997       Amanda Cox  2024-01-29        40\n",
       "9998     Ashley Jones  2024-01-18        30\n",
       "9999    Sarah Spencer  2024-01-24        40\n",
       "\n",
       "[10000 rows x 3 columns]"
      ]
     },
     "execution_count": 42,
     "metadata": {},
     "output_type": "execute_result"
    }
   ],
   "source": [
    "att1"
   ]
  },
  {
   "cell_type": "code",
   "execution_count": 43,
   "id": "3d758af1",
   "metadata": {},
   "outputs": [],
   "source": [
    "#a\n",
    "BothAtt = att1.merge(att2,\n",
    "                    on=\"Name\").drop_duplicates(subset=att1.columns[0],\n",
    "                                               keep='first')"
   ]
  },
  {
   "cell_type": "code",
   "execution_count": 44,
   "id": "f631a550",
   "metadata": {},
   "outputs": [
    {
     "data": {
      "text/html": [
       "<div>\n",
       "<style scoped>\n",
       "    .dataframe tbody tr th:only-of-type {\n",
       "        vertical-align: middle;\n",
       "    }\n",
       "\n",
       "    .dataframe tbody tr th {\n",
       "        vertical-align: top;\n",
       "    }\n",
       "\n",
       "    .dataframe thead th {\n",
       "        text-align: right;\n",
       "    }\n",
       "</style>\n",
       "<table border=\"1\" class=\"dataframe\">\n",
       "  <thead>\n",
       "    <tr style=\"text-align: right;\">\n",
       "      <th></th>\n",
       "      <th>Name</th>\n",
       "      <th>Date_x</th>\n",
       "      <th>Duration_x</th>\n",
       "      <th>Date_y</th>\n",
       "      <th>Duration_y</th>\n",
       "    </tr>\n",
       "  </thead>\n",
       "  <tbody>\n",
       "    <tr>\n",
       "      <th>1</th>\n",
       "      <td>Michael Howard</td>\n",
       "      <td>2024-01-22</td>\n",
       "      <td>50</td>\n",
       "      <td>2024-01-10</td>\n",
       "      <td>50</td>\n",
       "    </tr>\n",
       "    <tr>\n",
       "      <th>2</th>\n",
       "      <td>Robert Anderson</td>\n",
       "      <td>2024-01-19</td>\n",
       "      <td>40</td>\n",
       "      <td>2024-01-10</td>\n",
       "      <td>40</td>\n",
       "    </tr>\n",
       "    <tr>\n",
       "      <th>3</th>\n",
       "      <td>Emily Clark</td>\n",
       "      <td>2024-01-19</td>\n",
       "      <td>40</td>\n",
       "      <td>2024-01-17</td>\n",
       "      <td>30</td>\n",
       "    </tr>\n",
       "    <tr>\n",
       "      <th>4</th>\n",
       "      <td>John Morgan</td>\n",
       "      <td>2024-01-19</td>\n",
       "      <td>40</td>\n",
       "      <td>2024-01-29</td>\n",
       "      <td>30</td>\n",
       "    </tr>\n",
       "    <tr>\n",
       "      <th>5</th>\n",
       "      <td>William Kim</td>\n",
       "      <td>2024-01-23</td>\n",
       "      <td>50</td>\n",
       "      <td>2024-01-30</td>\n",
       "      <td>40</td>\n",
       "    </tr>\n",
       "    <tr>\n",
       "      <th>...</th>\n",
       "      <td>...</td>\n",
       "      <td>...</td>\n",
       "      <td>...</td>\n",
       "      <td>...</td>\n",
       "      <td>...</td>\n",
       "    </tr>\n",
       "    <tr>\n",
       "      <th>429</th>\n",
       "      <td>Brian Smith</td>\n",
       "      <td>2024-01-23</td>\n",
       "      <td>50</td>\n",
       "      <td>2024-01-20</td>\n",
       "      <td>30</td>\n",
       "    </tr>\n",
       "    <tr>\n",
       "      <th>430</th>\n",
       "      <td>Shannon Carter</td>\n",
       "      <td>2024-01-02</td>\n",
       "      <td>40</td>\n",
       "      <td>2024-01-25</td>\n",
       "      <td>50</td>\n",
       "    </tr>\n",
       "    <tr>\n",
       "      <th>431</th>\n",
       "      <td>Heather Brown</td>\n",
       "      <td>2024-01-11</td>\n",
       "      <td>30</td>\n",
       "      <td>2024-01-19</td>\n",
       "      <td>30</td>\n",
       "    </tr>\n",
       "    <tr>\n",
       "      <th>432</th>\n",
       "      <td>Kimberly Hernandez</td>\n",
       "      <td>2024-01-21</td>\n",
       "      <td>50</td>\n",
       "      <td>2024-01-26</td>\n",
       "      <td>40</td>\n",
       "    </tr>\n",
       "    <tr>\n",
       "      <th>433</th>\n",
       "      <td>David Buchanan</td>\n",
       "      <td>2024-01-19</td>\n",
       "      <td>50</td>\n",
       "      <td>2024-01-25</td>\n",
       "      <td>40</td>\n",
       "    </tr>\n",
       "  </tbody>\n",
       "</table>\n",
       "<p>433 rows × 5 columns</p>\n",
       "</div>"
      ],
      "text/plain": [
       "                   Name      Date_x  Duration_x      Date_y  Duration_y\n",
       "1        Michael Howard  2024-01-22          50  2024-01-10          50\n",
       "2       Robert Anderson  2024-01-19          40  2024-01-10          40\n",
       "3           Emily Clark  2024-01-19          40  2024-01-17          30\n",
       "4           John Morgan  2024-01-19          40  2024-01-29          30\n",
       "5           William Kim  2024-01-23          50  2024-01-30          40\n",
       "..                  ...         ...         ...         ...         ...\n",
       "429         Brian Smith  2024-01-23          50  2024-01-20          30\n",
       "430      Shannon Carter  2024-01-02          40  2024-01-25          50\n",
       "431       Heather Brown  2024-01-11          30  2024-01-19          30\n",
       "432  Kimberly Hernandez  2024-01-21          50  2024-01-26          40\n",
       "433      David Buchanan  2024-01-19          50  2024-01-25          40\n",
       "\n",
       "[433 rows x 5 columns]"
      ]
     },
     "execution_count": 44,
     "metadata": {},
     "output_type": "execute_result"
    }
   ],
   "source": [
    "BothAtt.reset_index(drop=True,inplace=True)\n",
    "BothAtt.index+=1\n",
    "BothAtt"
   ]
  },
  {
   "cell_type": "code",
   "execution_count": 45,
   "id": "4dea5b69",
   "metadata": {},
   "outputs": [],
   "source": [
    "total= pd.concat([att1,att2])\n",
    "total.drop_duplicates(subset=att1.columns[0],keep='first',inplace=True)"
   ]
  },
  {
   "cell_type": "code",
   "execution_count": 46,
   "id": "a62c81ed",
   "metadata": {},
   "outputs": [
    {
     "data": {
      "text/plain": [
       "1        Gloria Phillips\n",
       "2           Mark Simmons\n",
       "3            Dylan Jones\n",
       "4            Traci Walls\n",
       "5        Christian Clark\n",
       "              ...       \n",
       "11332         Sarah Hill\n",
       "11333       Doris Waller\n",
       "11334      Travis Morton\n",
       "11335     Crystal Lawson\n",
       "11336       Ashley Simon\n",
       "Name: Name, Length: 11336, dtype: object"
      ]
     },
     "execution_count": 46,
     "metadata": {},
     "output_type": "execute_result"
    }
   ],
   "source": [
    "#b\n",
    "SingleAtt= total.loc[~total['Name'].isin(BothAtt['Name']), 'Name']\n",
    "SingleAtt= SingleAtt.reset_index(drop=True)\n",
    "SingleAtt.index+=1\n",
    "SingleAtt"
   ]
  },
  {
   "cell_type": "code",
   "execution_count": 47,
   "id": "7962de4f",
   "metadata": {},
   "outputs": [
    {
     "data": {
      "text/plain": [
       "20000"
      ]
     },
     "execution_count": 47,
     "metadata": {},
     "output_type": "execute_result"
    }
   ],
   "source": [
    "#c\n",
    "pd.concat([att1, att2], ignore_index=True).shape[0]"
   ]
  },
  {
   "cell_type": "code",
   "execution_count": 48,
   "id": "954e5251",
   "metadata": {},
   "outputs": [
    {
     "data": {
      "text/html": [
       "<div>\n",
       "<style scoped>\n",
       "    .dataframe tbody tr th:only-of-type {\n",
       "        vertical-align: middle;\n",
       "    }\n",
       "\n",
       "    .dataframe tbody tr th {\n",
       "        vertical-align: top;\n",
       "    }\n",
       "\n",
       "    .dataframe thead th {\n",
       "        text-align: right;\n",
       "    }\n",
       "</style>\n",
       "<table border=\"1\" class=\"dataframe\">\n",
       "  <thead>\n",
       "    <tr style=\"text-align: right;\">\n",
       "      <th></th>\n",
       "      <th></th>\n",
       "      <th>Duration</th>\n",
       "    </tr>\n",
       "    <tr>\n",
       "      <th>Date</th>\n",
       "      <th>Name</th>\n",
       "      <th></th>\n",
       "    </tr>\n",
       "  </thead>\n",
       "  <tbody>\n",
       "    <tr>\n",
       "      <th>2024-01-12</th>\n",
       "      <th>Gloria Phillips</th>\n",
       "      <td>30</td>\n",
       "    </tr>\n",
       "    <tr>\n",
       "      <th>2024-01-19</th>\n",
       "      <th>Mark Simmons</th>\n",
       "      <td>40</td>\n",
       "    </tr>\n",
       "    <tr>\n",
       "      <th>2024-01-16</th>\n",
       "      <th>Dylan Jones</th>\n",
       "      <td>30</td>\n",
       "    </tr>\n",
       "    <tr>\n",
       "      <th>2024-01-25</th>\n",
       "      <th>Traci Walls</th>\n",
       "      <td>50</td>\n",
       "    </tr>\n",
       "    <tr>\n",
       "      <th>2024-01-15</th>\n",
       "      <th>Christian Clark</th>\n",
       "      <td>50</td>\n",
       "    </tr>\n",
       "    <tr>\n",
       "      <th>...</th>\n",
       "      <th>...</th>\n",
       "      <td>...</td>\n",
       "    </tr>\n",
       "    <tr>\n",
       "      <th>2024-01-16</th>\n",
       "      <th>Sarah Hill</th>\n",
       "      <td>30</td>\n",
       "    </tr>\n",
       "    <tr>\n",
       "      <th>2024-01-27</th>\n",
       "      <th>Doris Waller</th>\n",
       "      <td>30</td>\n",
       "    </tr>\n",
       "    <tr>\n",
       "      <th>2024-01-10</th>\n",
       "      <th>Travis Morton</th>\n",
       "      <td>50</td>\n",
       "    </tr>\n",
       "    <tr>\n",
       "      <th>2024-01-04</th>\n",
       "      <th>Crystal Lawson</th>\n",
       "      <td>50</td>\n",
       "    </tr>\n",
       "    <tr>\n",
       "      <th>2024-01-26</th>\n",
       "      <th>Ashley Simon</th>\n",
       "      <td>30</td>\n",
       "    </tr>\n",
       "  </tbody>\n",
       "</table>\n",
       "<p>11769 rows × 1 columns</p>\n",
       "</div>"
      ],
      "text/plain": [
       "                            Duration\n",
       "Date       Name                     \n",
       "2024-01-12 Gloria Phillips        30\n",
       "2024-01-19 Mark Simmons           40\n",
       "2024-01-16 Dylan Jones            30\n",
       "2024-01-25 Traci Walls            50\n",
       "2024-01-15 Christian Clark        50\n",
       "...                              ...\n",
       "2024-01-16 Sarah Hill             30\n",
       "2024-01-27 Doris Waller           30\n",
       "2024-01-10 Travis Morton          50\n",
       "2024-01-04 Crystal Lawson         50\n",
       "2024-01-26 Ashley Simon           30\n",
       "\n",
       "[11769 rows x 1 columns]"
      ]
     },
     "execution_count": 48,
     "metadata": {},
     "output_type": "execute_result"
    }
   ],
   "source": [
    "#d\n",
    "total.set_index([\"Date\",\"Name\"])"
   ]
  },
  {
   "cell_type": "code",
   "execution_count": 49,
   "id": "0f158d81",
   "metadata": {},
   "outputs": [
    {
     "data": {
      "text/html": [
       "<div>\n",
       "<style scoped>\n",
       "    .dataframe tbody tr th:only-of-type {\n",
       "        vertical-align: middle;\n",
       "    }\n",
       "\n",
       "    .dataframe tbody tr th {\n",
       "        vertical-align: top;\n",
       "    }\n",
       "\n",
       "    .dataframe thead th {\n",
       "        text-align: right;\n",
       "    }\n",
       "</style>\n",
       "<table border=\"1\" class=\"dataframe\">\n",
       "  <thead>\n",
       "    <tr style=\"text-align: right;\">\n",
       "      <th></th>\n",
       "      <th>Duration</th>\n",
       "    </tr>\n",
       "  </thead>\n",
       "  <tbody>\n",
       "    <tr>\n",
       "      <th>count</th>\n",
       "      <td>11769.000000</td>\n",
       "    </tr>\n",
       "    <tr>\n",
       "      <th>mean</th>\n",
       "      <td>39.892089</td>\n",
       "    </tr>\n",
       "    <tr>\n",
       "      <th>std</th>\n",
       "      <td>8.098240</td>\n",
       "    </tr>\n",
       "    <tr>\n",
       "      <th>min</th>\n",
       "      <td>30.000000</td>\n",
       "    </tr>\n",
       "    <tr>\n",
       "      <th>25%</th>\n",
       "      <td>30.000000</td>\n",
       "    </tr>\n",
       "    <tr>\n",
       "      <th>50%</th>\n",
       "      <td>40.000000</td>\n",
       "    </tr>\n",
       "    <tr>\n",
       "      <th>75%</th>\n",
       "      <td>50.000000</td>\n",
       "    </tr>\n",
       "    <tr>\n",
       "      <th>max</th>\n",
       "      <td>50.000000</td>\n",
       "    </tr>\n",
       "  </tbody>\n",
       "</table>\n",
       "</div>"
      ],
      "text/plain": [
       "           Duration\n",
       "count  11769.000000\n",
       "mean      39.892089\n",
       "std        8.098240\n",
       "min       30.000000\n",
       "25%       30.000000\n",
       "50%       40.000000\n",
       "75%       50.000000\n",
       "max       50.000000"
      ]
     },
     "execution_count": 49,
     "metadata": {},
     "output_type": "execute_result"
    }
   ],
   "source": [
    "total.describe()"
   ]
  },
  {
   "cell_type": "markdown",
   "id": "5d4df011",
   "metadata": {},
   "source": [
    "####  "
   ]
  },
  {
   "cell_type": "markdown",
   "id": "56e45f9f",
   "metadata": {},
   "source": [
    "#### Q5"
   ]
  },
  {
   "cell_type": "markdown",
   "id": "1a289292",
   "metadata": {},
   "source": [
    "Using Iris data, plot the following with proper legend and axis labels: \n",
    "(Download IRIS data from:https://archive.ics.uci.edu/ml/datasets/iris or import it from sklearn datasets)\n",
    "\n",
    "a. Plot bar chart to show the frequency of each class label in the data.\n",
    "\n",
    "b. Draw a scatter plot for Petal width vs sepal width and fit a regression line\n",
    "\n",
    "c. Plot density distribution for feature petal length.\n",
    "\n",
    "d. Use a pair plot to show pairwise bivariate distribution in the Iris Dataset.\n",
    "\n",
    "e. Draw heatmap for the four numeric attributes\n",
    "\n",
    "f. Compute mean, mode, median, standard deviation, confidence interval and standard error for each\n",
    "feature\n",
    "\n",
    "g. Compute correlation coefficients between each pair of features and plot heatmap"
   ]
  },
  {
   "cell_type": "code",
   "execution_count": 50,
   "id": "264cf595",
   "metadata": {},
   "outputs": [],
   "source": [
    "X=pd.read_csv(\"FlowerDataX.csv\",header=[0],index_col=[0])\n",
    "y=pd.read_csv(\"FlowerDatay.csv\",header=[0],index_col=[0])"
   ]
  },
  {
   "cell_type": "code",
   "execution_count": 51,
   "id": "9ff9c3f5",
   "metadata": {},
   "outputs": [
    {
     "data": {
      "text/html": [
       "<div>\n",
       "<style scoped>\n",
       "    .dataframe tbody tr th:only-of-type {\n",
       "        vertical-align: middle;\n",
       "    }\n",
       "\n",
       "    .dataframe tbody tr th {\n",
       "        vertical-align: top;\n",
       "    }\n",
       "\n",
       "    .dataframe thead th {\n",
       "        text-align: right;\n",
       "    }\n",
       "</style>\n",
       "<table border=\"1\" class=\"dataframe\">\n",
       "  <thead>\n",
       "    <tr style=\"text-align: right;\">\n",
       "      <th></th>\n",
       "      <th>SepalLen</th>\n",
       "      <th>SepalWidth</th>\n",
       "      <th>PetalLen</th>\n",
       "      <th>PetalWidth</th>\n",
       "    </tr>\n",
       "    <tr>\n",
       "      <th>Indx</th>\n",
       "      <th></th>\n",
       "      <th></th>\n",
       "      <th></th>\n",
       "      <th></th>\n",
       "    </tr>\n",
       "  </thead>\n",
       "  <tbody>\n",
       "    <tr>\n",
       "      <th>1</th>\n",
       "      <td>5.1</td>\n",
       "      <td>3.5</td>\n",
       "      <td>1.4</td>\n",
       "      <td>0.2</td>\n",
       "    </tr>\n",
       "    <tr>\n",
       "      <th>2</th>\n",
       "      <td>4.9</td>\n",
       "      <td>3.0</td>\n",
       "      <td>1.4</td>\n",
       "      <td>0.2</td>\n",
       "    </tr>\n",
       "    <tr>\n",
       "      <th>3</th>\n",
       "      <td>4.7</td>\n",
       "      <td>3.2</td>\n",
       "      <td>1.3</td>\n",
       "      <td>0.2</td>\n",
       "    </tr>\n",
       "    <tr>\n",
       "      <th>4</th>\n",
       "      <td>4.6</td>\n",
       "      <td>3.1</td>\n",
       "      <td>1.5</td>\n",
       "      <td>0.2</td>\n",
       "    </tr>\n",
       "    <tr>\n",
       "      <th>5</th>\n",
       "      <td>5.0</td>\n",
       "      <td>3.6</td>\n",
       "      <td>1.4</td>\n",
       "      <td>0.2</td>\n",
       "    </tr>\n",
       "    <tr>\n",
       "      <th>...</th>\n",
       "      <td>...</td>\n",
       "      <td>...</td>\n",
       "      <td>...</td>\n",
       "      <td>...</td>\n",
       "    </tr>\n",
       "    <tr>\n",
       "      <th>146</th>\n",
       "      <td>6.7</td>\n",
       "      <td>3.0</td>\n",
       "      <td>5.2</td>\n",
       "      <td>2.3</td>\n",
       "    </tr>\n",
       "    <tr>\n",
       "      <th>147</th>\n",
       "      <td>6.3</td>\n",
       "      <td>2.5</td>\n",
       "      <td>5.0</td>\n",
       "      <td>1.9</td>\n",
       "    </tr>\n",
       "    <tr>\n",
       "      <th>148</th>\n",
       "      <td>6.5</td>\n",
       "      <td>3.0</td>\n",
       "      <td>5.2</td>\n",
       "      <td>2.0</td>\n",
       "    </tr>\n",
       "    <tr>\n",
       "      <th>149</th>\n",
       "      <td>6.2</td>\n",
       "      <td>3.4</td>\n",
       "      <td>5.4</td>\n",
       "      <td>2.3</td>\n",
       "    </tr>\n",
       "    <tr>\n",
       "      <th>150</th>\n",
       "      <td>5.9</td>\n",
       "      <td>3.0</td>\n",
       "      <td>5.1</td>\n",
       "      <td>1.8</td>\n",
       "    </tr>\n",
       "  </tbody>\n",
       "</table>\n",
       "<p>150 rows × 4 columns</p>\n",
       "</div>"
      ],
      "text/plain": [
       "      SepalLen  SepalWidth  PetalLen  PetalWidth\n",
       "Indx                                            \n",
       "1          5.1         3.5       1.4         0.2\n",
       "2          4.9         3.0       1.4         0.2\n",
       "3          4.7         3.2       1.3         0.2\n",
       "4          4.6         3.1       1.5         0.2\n",
       "5          5.0         3.6       1.4         0.2\n",
       "...        ...         ...       ...         ...\n",
       "146        6.7         3.0       5.2         2.3\n",
       "147        6.3         2.5       5.0         1.9\n",
       "148        6.5         3.0       5.2         2.0\n",
       "149        6.2         3.4       5.4         2.3\n",
       "150        5.9         3.0       5.1         1.8\n",
       "\n",
       "[150 rows x 4 columns]"
      ]
     },
     "execution_count": 51,
     "metadata": {},
     "output_type": "execute_result"
    }
   ],
   "source": [
    "X"
   ]
  },
  {
   "cell_type": "code",
   "execution_count": 52,
   "id": "108e7b3c",
   "metadata": {},
   "outputs": [
    {
     "data": {
      "image/png": "[encoded data removed]",
      "text/plain": [
       "<Figure size 1000x600 with 1 Axes>"
      ]
     },
     "metadata": {
      "needs_background": "light"
     },
     "output_type": "display_data"
    }
   ],
   "source": [
    "#a\n",
    "ax = y.value_counts().plot(kind='barh')\n",
    "ax.bar_label(ax.containers[0])\n",
    "\n",
    "plt.show()"
   ]
  },
  {
   "cell_type": "code",
   "execution_count": 53,
   "id": "07eb4996",
   "metadata": {},
   "outputs": [
    {
     "data": {
      "image/png": "[encoded data removed]",
      "text/plain": [
       "<Figure size 1000x600 with 1 Axes>"
      ]
     },
     "metadata": {
      "needs_background": "light"
     },
     "output_type": "display_data"
    }
   ],
   "source": [
    "#b\n",
    "# Fit regression line and get slope and intercept\n",
    "regression = sns.regplot(data=X, \n",
    "                         x='SepalWidth', y='PetalWidth', \n",
    "                         scatter=True, ci=None)\n",
    "\n",
    "slope, intercept = np.polyfit(X['SepalWidth'], X['PetalWidth'], 1)\n",
    "\n",
    "# Add legend with slope and intercept\n",
    "plt.legend([f'Slope: {slope:.2f}\\nIntercept: {intercept:.2f}'], loc='upper left')\n",
    "\n",
    "# Labels and title\n",
    "plt.xlabel('Sepal Width (cm)')\n",
    "plt.ylabel('Petal Width (cm)')\n",
    "plt.title('Petal Width vs Sepal Width')\n",
    "\n",
    "plt.show()"
   ]
  },
  {
   "cell_type": "code",
   "execution_count": 54,
   "id": "341325af",
   "metadata": {},
   "outputs": [
    {
     "data": {
      "image/png": "[encoded data removed]",
      "text/plain": [
       "<Figure size 1000x600 with 1 Axes>"
      ]
     },
     "metadata": {
      "needs_background": "light"
     },
     "output_type": "display_data"
    }
   ],
   "source": [
    "#c\n",
    "X['PetalLen'].plot(kind='density')\n",
    "plt.show()"
   ]
  },
  {
   "cell_type": "code",
   "execution_count": 55,
   "id": "66e443aa",
   "metadata": {},
   "outputs": [
    {
     "data": {
      "image/png": "[encoded data removed]",
      "text/plain": [
       "<Figure size 1000x1000 with 20 Axes>"
      ]
     },
     "metadata": {
      "needs_background": "light"
     },
     "output_type": "display_data"
    }
   ],
   "source": [
    "#d\n",
    "sns.pairplot(X)\n",
    "plt.show()"
   ]
  },
  {
   "cell_type": "code",
   "execution_count": 56,
   "id": "85c8fa58",
   "metadata": {},
   "outputs": [
    {
     "data": {
      "text/html": [
       "<div>\n",
       "<style scoped>\n",
       "    .dataframe tbody tr th:only-of-type {\n",
       "        vertical-align: middle;\n",
       "    }\n",
       "\n",
       "    .dataframe tbody tr th {\n",
       "        vertical-align: top;\n",
       "    }\n",
       "\n",
       "    .dataframe thead th {\n",
       "        text-align: right;\n",
       "    }\n",
       "</style>\n",
       "<table border=\"1\" class=\"dataframe\">\n",
       "  <thead>\n",
       "    <tr style=\"text-align: right;\">\n",
       "      <th></th>\n",
       "      <th>SepalLen</th>\n",
       "      <th>SepalWidth</th>\n",
       "      <th>PetalLen</th>\n",
       "      <th>PetalWidth</th>\n",
       "    </tr>\n",
       "  </thead>\n",
       "  <tbody>\n",
       "    <tr>\n",
       "      <th>1</th>\n",
       "      <td>5.028</td>\n",
       "      <td>3.480</td>\n",
       "      <td>1.460</td>\n",
       "      <td>0.248</td>\n",
       "    </tr>\n",
       "    <tr>\n",
       "      <th>2</th>\n",
       "      <td>4.984</td>\n",
       "      <td>3.356</td>\n",
       "      <td>1.468</td>\n",
       "      <td>0.240</td>\n",
       "    </tr>\n",
       "    <tr>\n",
       "      <th>3</th>\n",
       "      <td>6.012</td>\n",
       "      <td>2.776</td>\n",
       "      <td>4.312</td>\n",
       "      <td>1.344</td>\n",
       "    </tr>\n",
       "    <tr>\n",
       "      <th>4</th>\n",
       "      <td>5.860</td>\n",
       "      <td>2.764</td>\n",
       "      <td>4.208</td>\n",
       "      <td>1.308</td>\n",
       "    </tr>\n",
       "    <tr>\n",
       "      <th>5</th>\n",
       "      <td>6.576</td>\n",
       "      <td>2.928</td>\n",
       "      <td>5.640</td>\n",
       "      <td>2.044</td>\n",
       "    </tr>\n",
       "    <tr>\n",
       "      <th>6</th>\n",
       "      <td>6.600</td>\n",
       "      <td>3.020</td>\n",
       "      <td>5.464</td>\n",
       "      <td>2.008</td>\n",
       "    </tr>\n",
       "  </tbody>\n",
       "</table>\n",
       "</div>"
      ],
      "text/plain": [
       "   SepalLen  SepalWidth  PetalLen  PetalWidth\n",
       "1     5.028       3.480     1.460       0.248\n",
       "2     4.984       3.356     1.468       0.240\n",
       "3     6.012       2.776     4.312       1.344\n",
       "4     5.860       2.764     4.208       1.308\n",
       "5     6.576       2.928     5.640       2.044\n",
       "6     6.600       3.020     5.464       2.008"
      ]
     },
     "execution_count": 56,
     "metadata": {},
     "output_type": "execute_result"
    }
   ],
   "source": [
    "# Initialize Xsmooth with zeros\n",
    "Xsmooth = np.zeros((X.shape[0] // 25, X.shape[1]))\n",
    "\n",
    "# Iterate over every 10 rows and calculate the average for each feature\n",
    "for i in range(0, X.shape[0], 25):\n",
    "    Xsmooth[i // 25] = X[i:i+25].mean(axis=0)\n",
    "\n",
    "Xsmooth = pd.DataFrame(Xsmooth,columns= X.columns,index=np.arange(1,7))\n",
    "Xsmooth"
   ]
  },
  {
   "cell_type": "code",
   "execution_count": 57,
   "id": "89c434d7",
   "metadata": {},
   "outputs": [
    {
     "data": {
      "image/png": "[encoded data removed]",
      "text/plain": [
       "<Figure size 1000x600 with 2 Axes>"
      ]
     },
     "metadata": {
      "needs_background": "light"
     },
     "output_type": "display_data"
    }
   ],
   "source": [
    "#e\n",
    "sns.heatmap(Xsmooth,cmap='Blues',yticklabels=np.arange(15,150,25))\n",
    "plt.ylabel('Index')\n",
    "plt.show() "
   ]
  },
  {
   "cell_type": "code",
   "execution_count": 58,
   "id": "9f39d9df",
   "metadata": {},
   "outputs": [
    {
     "name": "stderr",
     "output_type": "stream",
     "text": [
      "C:\\Users\\adars\\AppData\\Local\\Temp\\ipykernel_9620\\705047555.py:24: UserWarning: FixedFormatter should only be used together with FixedLocator\n",
      "  ax.set_xticklabels(X.columns, rotation=60, ha='right')\n"
     ]
    },
    {
     "data": {
      "image/png": "[encoded data removed]",
      "text/plain": [
       "<Figure size 1000x800 with 4 Axes>"
      ]
     },
     "metadata": {
      "needs_background": "light"
     },
     "output_type": "display_data"
    }
   ],
   "source": [
    "#f\n",
    "means = np.mean(X, axis=0)\n",
    "medians = np.median(X, axis=0)\n",
    "modes = list(X.mode().iloc[0])\n",
    "std_devs = np.std(X, axis=0)\n",
    "\n",
    "#Plot\n",
    "fig, axs = plt.subplots(2, 2, figsize=(10, 8))\n",
    "\n",
    "axs[0, 0].bar(X.columns, means)\n",
    "axs[0, 0].set_title('Mean')\n",
    "\n",
    "axs[0, 1].bar(X.columns, medians)\n",
    "axs[0, 1].set_title('Median')\n",
    "\n",
    "axs[1, 0].bar(X.columns, modes)\n",
    "axs[1, 0].set_title('Mode')\n",
    "\n",
    "axs[1, 1].bar(X.columns, std_devs)\n",
    "axs[1, 1].set_title('Standard Deviation')\n",
    "\n",
    "# Rotate x-axis labels for better readability\n",
    "for ax in axs.flat:\n",
    "    ax.set_xticklabels(X.columns, rotation=60, ha='right')\n",
    "\n",
    "plt.tight_layout()\n",
    "plt.show()"
   ]
  },
  {
   "cell_type": "code",
   "execution_count": 59,
   "id": "8a246f31",
   "metadata": {},
   "outputs": [
    {
     "data": {
      "image/png": "[encoded data removed]",
      "text/plain": [
       "<Figure size 900x500 with 1 Axes>"
      ]
     },
     "metadata": {
      "needs_background": "light"
     },
     "output_type": "display_data"
    }
   ],
   "source": [
    "# Calculate standard errors and confidence intervals\n",
    "standard_errors = std_devs / np.sqrt(len(X))\n",
    "ci = []\n",
    "for i in range(len(X.columns)):\n",
    "    margin_of_error = 1.96 * standard_errors[i]\n",
    "    ci.append((means[i] - margin_of_error, means[i] + margin_of_error))\n",
    "\n",
    "# Plotting\n",
    "plt.figure(figsize=(9, 5))\n",
    "\n",
    "# Plotting the confidence intervals as horizontal bars\n",
    "for i, col in enumerate(X.columns):\n",
    "    plt.plot([ci[i][0], ci[i][1]], [i, i], color='blue', linewidth=8)\n",
    "    plt.text(ci[i][1] + 0.1, i, \n",
    "             f'({ci[i][0]:.2f}, {ci[i][1]:.2f})', \n",
    "             va='center')\n",
    "\n",
    "# Plotting the means\n",
    "plt.plot(means, range(len(X.columns)), 'o', label='Mean', color='blue')\n",
    "\n",
    "plt.yticks(range(len(X.columns)), X.columns)\n",
    "plt.xlabel('Values')\n",
    "plt.title('Confidence Intervals for Features')\n",
    "plt.grid(True)\n",
    "plt.show()"
   ]
  },
  {
   "cell_type": "code",
   "execution_count": 60,
   "id": "8f79569d",
   "metadata": {},
   "outputs": [
    {
     "data": {
      "text/plain": [
       "<Axes: >"
      ]
     },
     "execution_count": 60,
     "metadata": {},
     "output_type": "execute_result"
    },
    {
     "data": {
      "image/png": "[encoded data removed]",
      "text/plain": [
       "<Figure size 1000x600 with 2 Axes>"
      ]
     },
     "metadata": {
      "needs_background": "light"
     },
     "output_type": "display_data"
    }
   ],
   "source": [
    "#g\n",
    "sns.heatmap(X.corr(),cmap='Blues',yticklabels=X.columns)"
   ]
  },
  {
   "cell_type": "code",
   "execution_count": 61,
   "id": "894569dd",
   "metadata": {},
   "outputs": [
    {
     "data": {
      "text/html": [
       "<div>\n",
       "<style scoped>\n",
       "    .dataframe tbody tr th:only-of-type {\n",
       "        vertical-align: middle;\n",
       "    }\n",
       "\n",
       "    .dataframe tbody tr th {\n",
       "        vertical-align: top;\n",
       "    }\n",
       "\n",
       "    .dataframe thead th {\n",
       "        text-align: right;\n",
       "    }\n",
       "</style>\n",
       "<table border=\"1\" class=\"dataframe\">\n",
       "  <thead>\n",
       "    <tr style=\"text-align: right;\">\n",
       "      <th></th>\n",
       "      <th>SepalLen</th>\n",
       "      <th>SepalWidth</th>\n",
       "      <th>PetalLen</th>\n",
       "      <th>PetalWidth</th>\n",
       "    </tr>\n",
       "  </thead>\n",
       "  <tbody>\n",
       "    <tr>\n",
       "      <th>count</th>\n",
       "      <td>150.000000</td>\n",
       "      <td>150.000000</td>\n",
       "      <td>150.000000</td>\n",
       "      <td>150.000000</td>\n",
       "    </tr>\n",
       "    <tr>\n",
       "      <th>mean</th>\n",
       "      <td>5.843333</td>\n",
       "      <td>3.054000</td>\n",
       "      <td>3.758667</td>\n",
       "      <td>1.198667</td>\n",
       "    </tr>\n",
       "    <tr>\n",
       "      <th>std</th>\n",
       "      <td>0.828066</td>\n",
       "      <td>0.433594</td>\n",
       "      <td>1.764420</td>\n",
       "      <td>0.763161</td>\n",
       "    </tr>\n",
       "    <tr>\n",
       "      <th>min</th>\n",
       "      <td>4.300000</td>\n",
       "      <td>2.000000</td>\n",
       "      <td>1.000000</td>\n",
       "      <td>0.100000</td>\n",
       "    </tr>\n",
       "    <tr>\n",
       "      <th>25%</th>\n",
       "      <td>5.100000</td>\n",
       "      <td>2.800000</td>\n",
       "      <td>1.600000</td>\n",
       "      <td>0.300000</td>\n",
       "    </tr>\n",
       "    <tr>\n",
       "      <th>50%</th>\n",
       "      <td>5.800000</td>\n",
       "      <td>3.000000</td>\n",
       "      <td>4.350000</td>\n",
       "      <td>1.300000</td>\n",
       "    </tr>\n",
       "    <tr>\n",
       "      <th>75%</th>\n",
       "      <td>6.400000</td>\n",
       "      <td>3.300000</td>\n",
       "      <td>5.100000</td>\n",
       "      <td>1.800000</td>\n",
       "    </tr>\n",
       "    <tr>\n",
       "      <th>max</th>\n",
       "      <td>7.900000</td>\n",
       "      <td>4.400000</td>\n",
       "      <td>6.900000</td>\n",
       "      <td>2.500000</td>\n",
       "    </tr>\n",
       "  </tbody>\n",
       "</table>\n",
       "</div>"
      ],
      "text/plain": [
       "         SepalLen  SepalWidth    PetalLen  PetalWidth\n",
       "count  150.000000  150.000000  150.000000  150.000000\n",
       "mean     5.843333    3.054000    3.758667    1.198667\n",
       "std      0.828066    0.433594    1.764420    0.763161\n",
       "min      4.300000    2.000000    1.000000    0.100000\n",
       "25%      5.100000    2.800000    1.600000    0.300000\n",
       "50%      5.800000    3.000000    4.350000    1.300000\n",
       "75%      6.400000    3.300000    5.100000    1.800000\n",
       "max      7.900000    4.400000    6.900000    2.500000"
      ]
     },
     "execution_count": 61,
     "metadata": {},
     "output_type": "execute_result"
    }
   ],
   "source": [
    "X.describe()"
   ]
  },
  {
   "cell_type": "markdown",
   "id": "c2c4b6ae",
   "metadata": {},
   "source": [
    "####  "
   ]
  },
  {
   "cell_type": "markdown",
   "id": "3b4ccb01",
   "metadata": {},
   "source": [
    "#### Q6"
   ]
  },
  {
   "cell_type": "markdown",
   "id": "1c55f0de",
   "metadata": {},
   "source": [
    "Consider the following data frame containing a family name, gender of the family member and her/his monthly\n",
    "income in each record.\n",
    "\n",
    "\n",
    "Name Gender MonthlyIncome (Rs.)\n",
    "\n",
    "Shah  Male  114000.00\n",
    "\n",
    ".\n",
    "\n",
    ".\n",
    "\n",
    ".\n",
    "\n",
    "Vats  Male  71900.00\n",
    "\n",
    "Write a program in Python using Pandas to perform the following:\n",
    "\n",
    "    a. Calculate and display familywise gross monthly income.\n",
    "\n",
    "    b. Calculate and display the member with the highest monthly income.\n",
    "\n",
    "    c. Calculate and display monthly income of all members with income greater than Rs. 60000.00.\n",
    "\n",
    "    d. Calculate and display the average monthly income of the female members"
   ]
  },
  {
   "cell_type": "code",
   "execution_count": 62,
   "id": "57336840",
   "metadata": {},
   "outputs": [
    {
     "data": {
      "text/html": [
       "<div>\n",
       "<style scoped>\n",
       "    .dataframe tbody tr th:only-of-type {\n",
       "        vertical-align: middle;\n",
       "    }\n",
       "\n",
       "    .dataframe tbody tr th {\n",
       "        vertical-align: top;\n",
       "    }\n",
       "\n",
       "    .dataframe thead th {\n",
       "        text-align: right;\n",
       "    }\n",
       "</style>\n",
       "<table border=\"1\" class=\"dataframe\">\n",
       "  <thead>\n",
       "    <tr style=\"text-align: right;\">\n",
       "      <th></th>\n",
       "      <th>Name</th>\n",
       "      <th>Gender</th>\n",
       "      <th>MonthlyIncome</th>\n",
       "    </tr>\n",
       "  </thead>\n",
       "  <tbody>\n",
       "    <tr>\n",
       "      <th>0</th>\n",
       "      <td>Shah</td>\n",
       "      <td>Male</td>\n",
       "      <td>114000.0</td>\n",
       "    </tr>\n",
       "    <tr>\n",
       "      <th>1</th>\n",
       "      <td>Vats</td>\n",
       "      <td>Male</td>\n",
       "      <td>65000.0</td>\n",
       "    </tr>\n",
       "    <tr>\n",
       "      <th>2</th>\n",
       "      <td>Vats</td>\n",
       "      <td>Female</td>\n",
       "      <td>43150.0</td>\n",
       "    </tr>\n",
       "    <tr>\n",
       "      <th>3</th>\n",
       "      <td>Kumar</td>\n",
       "      <td>Female</td>\n",
       "      <td>69500.0</td>\n",
       "    </tr>\n",
       "    <tr>\n",
       "      <th>4</th>\n",
       "      <td>Vats</td>\n",
       "      <td>Female</td>\n",
       "      <td>155000.0</td>\n",
       "    </tr>\n",
       "    <tr>\n",
       "      <th>5</th>\n",
       "      <td>Kumar</td>\n",
       "      <td>Male</td>\n",
       "      <td>103000.0</td>\n",
       "    </tr>\n",
       "    <tr>\n",
       "      <th>6</th>\n",
       "      <td>Shah</td>\n",
       "      <td>Male</td>\n",
       "      <td>55000.0</td>\n",
       "    </tr>\n",
       "    <tr>\n",
       "      <th>7</th>\n",
       "      <td>Shah</td>\n",
       "      <td>Female</td>\n",
       "      <td>112400.0</td>\n",
       "    </tr>\n",
       "    <tr>\n",
       "      <th>8</th>\n",
       "      <td>Kumar</td>\n",
       "      <td>Female</td>\n",
       "      <td>81030.0</td>\n",
       "    </tr>\n",
       "    <tr>\n",
       "      <th>9</th>\n",
       "      <td>Vats</td>\n",
       "      <td>Male</td>\n",
       "      <td>71900.0</td>\n",
       "    </tr>\n",
       "  </tbody>\n",
       "</table>\n",
       "</div>"
      ],
      "text/plain": [
       "    Name  Gender  MonthlyIncome\n",
       "0   Shah    Male       114000.0\n",
       "1   Vats    Male        65000.0\n",
       "2   Vats  Female        43150.0\n",
       "3  Kumar  Female        69500.0\n",
       "4   Vats  Female       155000.0\n",
       "5  Kumar    Male       103000.0\n",
       "6   Shah    Male        55000.0\n",
       "7   Shah  Female       112400.0\n",
       "8  Kumar  Female        81030.0\n",
       "9   Vats    Male        71900.0"
      ]
     },
     "execution_count": 62,
     "metadata": {},
     "output_type": "execute_result"
    }
   ],
   "source": [
    "# Create the dataframe\n",
    "data = {\n",
    "    'Name': ['Shah', 'Vats', 'Vats', \n",
    "             'Kumar', 'Vats', 'Kumar', \n",
    "             'Shah', 'Shah', 'Kumar', 'Vats'],\n",
    "    'Gender': ['Male', 'Male', 'Female', \n",
    "               'Female', 'Female', 'Male', \n",
    "               'Male', 'Female', 'Female', 'Male'],\n",
    "    'MonthlyIncome': [114000.00, 65000.00, 43150.00, \n",
    "                      69500.00, 155000.00, 103000.00, \n",
    "                      55000.00, 112400.00, 81030.00, 71900.00]\n",
    "}\n",
    "\n",
    "df = pd.DataFrame(data)\n",
    "df"
   ]
  },
  {
   "cell_type": "code",
   "execution_count": 63,
   "id": "7480a013",
   "metadata": {},
   "outputs": [
    {
     "name": "stdout",
     "output_type": "stream",
     "text": [
      "Familywise Gross Monthly Income:\n"
     ]
    },
    {
     "data": {
      "text/plain": [
       "Name\n",
       "Kumar    253530.0\n",
       "Shah     281400.0\n",
       "Vats     335050.0\n",
       "Name: MonthlyIncome, dtype: float64"
      ]
     },
     "execution_count": 63,
     "metadata": {},
     "output_type": "execute_result"
    }
   ],
   "source": [
    "# a\n",
    "familywise_income = df.groupby('Name')['MonthlyIncome'].sum()\n",
    "print(\"Familywise Gross Monthly Income:\")\n",
    "familywise_income"
   ]
  },
  {
   "cell_type": "code",
   "execution_count": 64,
   "id": "d78c2c31",
   "metadata": {},
   "outputs": [
    {
     "name": "stdout",
     "output_type": "stream",
     "text": [
      "\n",
      "Member with the highest monthly income:\n"
     ]
    },
    {
     "data": {
      "text/plain": [
       "Name                 Vats\n",
       "Gender             Female\n",
       "MonthlyIncome    155000.0\n",
       "Name: 4, dtype: object"
      ]
     },
     "execution_count": 64,
     "metadata": {},
     "output_type": "execute_result"
    }
   ],
   "source": [
    "# b\n",
    "highest_income_member = df.loc[df['MonthlyIncome'].idxmax()]\n",
    "print(\"\\nMember with the highest monthly income:\")\n",
    "highest_income_member"
   ]
  },
  {
   "cell_type": "code",
   "execution_count": 65,
   "id": "78b4e2f8",
   "metadata": {},
   "outputs": [
    {
     "name": "stdout",
     "output_type": "stream",
     "text": [
      "\n",
      "Members with income greater than Rs. 60000.00:\n"
     ]
    },
    {
     "data": {
      "text/html": [
       "<div>\n",
       "<style scoped>\n",
       "    .dataframe tbody tr th:only-of-type {\n",
       "        vertical-align: middle;\n",
       "    }\n",
       "\n",
       "    .dataframe tbody tr th {\n",
       "        vertical-align: top;\n",
       "    }\n",
       "\n",
       "    .dataframe thead th {\n",
       "        text-align: right;\n",
       "    }\n",
       "</style>\n",
       "<table border=\"1\" class=\"dataframe\">\n",
       "  <thead>\n",
       "    <tr style=\"text-align: right;\">\n",
       "      <th></th>\n",
       "      <th>Name</th>\n",
       "      <th>MonthlyIncome</th>\n",
       "    </tr>\n",
       "  </thead>\n",
       "  <tbody>\n",
       "    <tr>\n",
       "      <th>0</th>\n",
       "      <td>Shah</td>\n",
       "      <td>114000.0</td>\n",
       "    </tr>\n",
       "    <tr>\n",
       "      <th>1</th>\n",
       "      <td>Vats</td>\n",
       "      <td>65000.0</td>\n",
       "    </tr>\n",
       "    <tr>\n",
       "      <th>3</th>\n",
       "      <td>Kumar</td>\n",
       "      <td>69500.0</td>\n",
       "    </tr>\n",
       "    <tr>\n",
       "      <th>4</th>\n",
       "      <td>Vats</td>\n",
       "      <td>155000.0</td>\n",
       "    </tr>\n",
       "    <tr>\n",
       "      <th>5</th>\n",
       "      <td>Kumar</td>\n",
       "      <td>103000.0</td>\n",
       "    </tr>\n",
       "    <tr>\n",
       "      <th>7</th>\n",
       "      <td>Shah</td>\n",
       "      <td>112400.0</td>\n",
       "    </tr>\n",
       "    <tr>\n",
       "      <th>8</th>\n",
       "      <td>Kumar</td>\n",
       "      <td>81030.0</td>\n",
       "    </tr>\n",
       "    <tr>\n",
       "      <th>9</th>\n",
       "      <td>Vats</td>\n",
       "      <td>71900.0</td>\n",
       "    </tr>\n",
       "  </tbody>\n",
       "</table>\n",
       "</div>"
      ],
      "text/plain": [
       "    Name  MonthlyIncome\n",
       "0   Shah       114000.0\n",
       "1   Vats        65000.0\n",
       "3  Kumar        69500.0\n",
       "4   Vats       155000.0\n",
       "5  Kumar       103000.0\n",
       "7   Shah       112400.0\n",
       "8  Kumar        81030.0\n",
       "9   Vats        71900.0"
      ]
     },
     "execution_count": 65,
     "metadata": {},
     "output_type": "execute_result"
    }
   ],
   "source": [
    "# c\n",
    "high_income_members = df[df['MonthlyIncome'] > 60000.00]\n",
    "print(\"\\nMembers with income greater than Rs. 60000.00:\")\n",
    "high_income_members[['Name', 'MonthlyIncome']]\n"
   ]
  },
  {
   "cell_type": "code",
   "execution_count": 66,
   "id": "d0096bcd",
   "metadata": {
    "scrolled": true
   },
   "outputs": [
    {
     "name": "stdout",
     "output_type": "stream",
     "text": [
      "\n",
      "Average monthly income of female members: Rs 92216.0\n"
     ]
    }
   ],
   "source": [
    "# d\n",
    "avg_female_income = df[df['Gender'] == 'Female']['MonthlyIncome'].mean()\n",
    "print(\"\\nAverage monthly income of female members: Rs\", \n",
    "      avg_female_income)"
   ]
  },
  {
   "cell_type": "markdown",
   "id": "b338705c",
   "metadata": {},
   "source": [
    " "
   ]
  },
  {
   "cell_type": "markdown",
   "id": "de51c5f8",
   "metadata": {},
   "source": [
    " "
   ]
  },
  {
   "cell_type": "markdown",
   "id": "4c553e69",
   "metadata": {},
   "source": [
    "#### Q7"
   ]
  },
  {
   "cell_type": "markdown",
   "id": "2e3c1a53",
   "metadata": {},
   "source": [
    "Using Titanic dataset, to do the following:\n",
    "\n",
    "a. Find total number of passengers with age less than 30\n",
    "\n",
    "b. Find total fare paid by passengers of first class\n",
    "\n",
    "c. Compare number of survivors of each passenger class\n",
    "\n",
    "d. Compute descriptive statistics for any numeric attribute genderwise"
   ]
  },
  {
   "cell_type": "code",
   "execution_count": 67,
   "id": "49b44960",
   "metadata": {},
   "outputs": [
    {
     "name": "stdout",
     "output_type": "stream",
     "text": [
      "Skipping, found downloaded files in \".\\titanic\" (use force=True to force download)\n",
      "<class 'pandas.core.frame.DataFrame'>\n",
      "Int64Index: 891 entries, 1 to 891\n",
      "Data columns (total 11 columns):\n",
      " #   Column    Non-Null Count  Dtype  \n",
      "---  ------    --------------  -----  \n",
      " 0   Survived  891 non-null    int64  \n",
      " 1   Pclass    891 non-null    int64  \n",
      " 2   Name      891 non-null    object \n",
      " 3   Sex       891 non-null    object \n",
      " 4   Age       714 non-null    float64\n",
      " 5   SibSp     891 non-null    int64  \n",
      " 6   Parch     891 non-null    int64  \n",
      " 7   Ticket    891 non-null    object \n",
      " 8   Fare      891 non-null    float64\n",
      " 9   Cabin     204 non-null    object \n",
      " 10  Embarked  889 non-null    object \n",
      "dtypes: float64(2), int64(4), object(5)\n",
      "memory usage: 83.5+ KB\n"
     ]
    }
   ],
   "source": [
    "rawdf = pd.read_csv('train.csv',header=[0],index_col=[0])\n",
    "rawdf.info()"
   ]
  },
  {
   "cell_type": "code",
   "execution_count": 68,
   "id": "efbb39fb",
   "metadata": {},
   "outputs": [
    {
     "data": {
      "text/plain": [
       "Survived         0\n",
       "Pclass           0\n",
       "Sex              0\n",
       "Age            177\n",
       "Fare (in $)      0\n",
       "dtype: int64"
      ]
     },
     "execution_count": 68,
     "metadata": {},
     "output_type": "execute_result"
    }
   ],
   "source": [
    "df=rawdf.copy()[['Survived', 'Pclass', 'Sex', 'Age','Fare']]\n",
    "df.rename(columns = {'Fare':'Fare (in $)'},inplace=True)\n",
    "df.isnull().sum()"
   ]
  },
  {
   "cell_type": "code",
   "execution_count": 69,
   "id": "b58d2e37",
   "metadata": {},
   "outputs": [
    {
     "data": {
      "text/html": [
       "<div>\n",
       "<style scoped>\n",
       "    .dataframe tbody tr th:only-of-type {\n",
       "        vertical-align: middle;\n",
       "    }\n",
       "\n",
       "    .dataframe tbody tr th {\n",
       "        vertical-align: top;\n",
       "    }\n",
       "\n",
       "    .dataframe thead th {\n",
       "        text-align: right;\n",
       "    }\n",
       "</style>\n",
       "<table border=\"1\" class=\"dataframe\">\n",
       "  <thead>\n",
       "    <tr style=\"text-align: right;\">\n",
       "      <th></th>\n",
       "      <th>Survived</th>\n",
       "      <th>Pclass</th>\n",
       "      <th>Sex</th>\n",
       "      <th>Age</th>\n",
       "      <th>Fare (in $)</th>\n",
       "    </tr>\n",
       "    <tr>\n",
       "      <th>PassengerId</th>\n",
       "      <th></th>\n",
       "      <th></th>\n",
       "      <th></th>\n",
       "      <th></th>\n",
       "      <th></th>\n",
       "    </tr>\n",
       "  </thead>\n",
       "  <tbody>\n",
       "    <tr>\n",
       "      <th>1</th>\n",
       "      <td>0</td>\n",
       "      <td>3</td>\n",
       "      <td>male</td>\n",
       "      <td>22</td>\n",
       "      <td>7.2500</td>\n",
       "    </tr>\n",
       "    <tr>\n",
       "      <th>2</th>\n",
       "      <td>1</td>\n",
       "      <td>1</td>\n",
       "      <td>female</td>\n",
       "      <td>38</td>\n",
       "      <td>71.2833</td>\n",
       "    </tr>\n",
       "    <tr>\n",
       "      <th>3</th>\n",
       "      <td>1</td>\n",
       "      <td>3</td>\n",
       "      <td>female</td>\n",
       "      <td>26</td>\n",
       "      <td>7.9250</td>\n",
       "    </tr>\n",
       "    <tr>\n",
       "      <th>4</th>\n",
       "      <td>1</td>\n",
       "      <td>1</td>\n",
       "      <td>female</td>\n",
       "      <td>35</td>\n",
       "      <td>53.1000</td>\n",
       "    </tr>\n",
       "    <tr>\n",
       "      <th>5</th>\n",
       "      <td>0</td>\n",
       "      <td>3</td>\n",
       "      <td>male</td>\n",
       "      <td>35</td>\n",
       "      <td>8.0500</td>\n",
       "    </tr>\n",
       "    <tr>\n",
       "      <th>...</th>\n",
       "      <td>...</td>\n",
       "      <td>...</td>\n",
       "      <td>...</td>\n",
       "      <td>...</td>\n",
       "      <td>...</td>\n",
       "    </tr>\n",
       "    <tr>\n",
       "      <th>710</th>\n",
       "      <td>0</td>\n",
       "      <td>3</td>\n",
       "      <td>female</td>\n",
       "      <td>39</td>\n",
       "      <td>29.1250</td>\n",
       "    </tr>\n",
       "    <tr>\n",
       "      <th>711</th>\n",
       "      <td>0</td>\n",
       "      <td>2</td>\n",
       "      <td>male</td>\n",
       "      <td>27</td>\n",
       "      <td>13.0000</td>\n",
       "    </tr>\n",
       "    <tr>\n",
       "      <th>712</th>\n",
       "      <td>1</td>\n",
       "      <td>1</td>\n",
       "      <td>female</td>\n",
       "      <td>19</td>\n",
       "      <td>30.0000</td>\n",
       "    </tr>\n",
       "    <tr>\n",
       "      <th>713</th>\n",
       "      <td>1</td>\n",
       "      <td>1</td>\n",
       "      <td>male</td>\n",
       "      <td>26</td>\n",
       "      <td>30.0000</td>\n",
       "    </tr>\n",
       "    <tr>\n",
       "      <th>714</th>\n",
       "      <td>0</td>\n",
       "      <td>3</td>\n",
       "      <td>male</td>\n",
       "      <td>32</td>\n",
       "      <td>7.7500</td>\n",
       "    </tr>\n",
       "  </tbody>\n",
       "</table>\n",
       "<p>714 rows × 5 columns</p>\n",
       "</div>"
      ],
      "text/plain": [
       "             Survived  Pclass     Sex  Age  Fare (in $)\n",
       "PassengerId                                            \n",
       "1                   0       3    male   22       7.2500\n",
       "2                   1       1  female   38      71.2833\n",
       "3                   1       3  female   26       7.9250\n",
       "4                   1       1  female   35      53.1000\n",
       "5                   0       3    male   35       8.0500\n",
       "...               ...     ...     ...  ...          ...\n",
       "710                 0       3  female   39      29.1250\n",
       "711                 0       2    male   27      13.0000\n",
       "712                 1       1  female   19      30.0000\n",
       "713                 1       1    male   26      30.0000\n",
       "714                 0       3    male   32       7.7500\n",
       "\n",
       "[714 rows x 5 columns]"
      ]
     },
     "execution_count": 69,
     "metadata": {},
     "output_type": "execute_result"
    }
   ],
   "source": [
    "df.dropna(inplace=True)\n",
    "df['Age']= df['Age'].astype('int')\n",
    "\n",
    "df.reset_index(drop=True,inplace=True)\n",
    "df.index.names=['PassengerId']\n",
    "df.index+=1\n",
    "df"
   ]
  },
  {
   "cell_type": "code",
   "execution_count": 70,
   "id": "4d989530",
   "metadata": {},
   "outputs": [
    {
     "name": "stdout",
     "output_type": "stream",
     "text": [
      "Total passengers under 30 years old: 384\n"
     ]
    }
   ],
   "source": [
    "# a\n",
    "a1 =  (df[df['Age'] < 30]).shape[0]\n",
    "\n",
    "print(\"Total passengers under 30 years old:\", a1)\n"
   ]
  },
  {
   "cell_type": "code",
   "execution_count": 71,
   "id": "51633033",
   "metadata": {},
   "outputs": [
    {
     "name": "stdout",
     "output_type": "stream",
     "text": [
      "Total fare paid by passengers of first class: $ 16360.85\n"
     ]
    }
   ],
   "source": [
    "# b\n",
    "b1 = df[df['Pclass'] == 1]['Fare (in $)'].sum()\n",
    "print(\"Total fare paid by passengers of first class: $\", np.round(b1,2))"
   ]
  },
  {
   "cell_type": "code",
   "execution_count": 72,
   "id": "fb7b6190",
   "metadata": {},
   "outputs": [
    {
     "name": "stdout",
     "output_type": "stream",
     "text": [
      "Survivors by passenger class:\n"
     ]
    },
    {
     "data": {
      "text/plain": [
       "Pclass\n",
       "1    122\n",
       "2     83\n",
       "3     85\n",
       "Name: Survived, dtype: int64"
      ]
     },
     "execution_count": 72,
     "metadata": {},
     "output_type": "execute_result"
    }
   ],
   "source": [
    "# c\n",
    "c1 = df.groupby('Pclass')['Survived'].sum()\n",
    "print(\"Survivors by passenger class:\")\n",
    "c1"
   ]
  },
  {
   "cell_type": "code",
   "execution_count": 73,
   "id": "a6f1cd44",
   "metadata": {},
   "outputs": [
    {
     "name": "stdout",
     "output_type": "stream",
     "text": [
      "Descriptive statistics for numeric attributes genderwise:\n"
     ]
    },
    {
     "name": "stderr",
     "output_type": "stream",
     "text": [
      "C:\\Users\\adars\\AppData\\Local\\Temp\\ipykernel_9620\\456071897.py:2: FutureWarning: Indexing with multiple keys (implicitly converted to a tuple of keys) will be deprecated, use a list instead.\n",
      "  d1 = df.groupby('Sex')['Age','Fare (in $)'].describe()\n"
     ]
    },
    {
     "data": {
      "text/html": [
       "<div>\n",
       "<style scoped>\n",
       "    .dataframe tbody tr th:only-of-type {\n",
       "        vertical-align: middle;\n",
       "    }\n",
       "\n",
       "    .dataframe tbody tr th {\n",
       "        vertical-align: top;\n",
       "    }\n",
       "\n",
       "    .dataframe thead th {\n",
       "        text-align: right;\n",
       "    }\n",
       "</style>\n",
       "<table border=\"1\" class=\"dataframe\">\n",
       "  <thead>\n",
       "    <tr style=\"text-align: right;\">\n",
       "      <th></th>\n",
       "      <th>Sex</th>\n",
       "      <th>female</th>\n",
       "      <th>male</th>\n",
       "    </tr>\n",
       "    <tr>\n",
       "      <th>Variable</th>\n",
       "      <th>Stat</th>\n",
       "      <th></th>\n",
       "      <th></th>\n",
       "    </tr>\n",
       "  </thead>\n",
       "  <tbody>\n",
       "    <tr>\n",
       "      <th rowspan=\"8\" valign=\"top\">Age</th>\n",
       "      <th>count</th>\n",
       "      <td>261.000000</td>\n",
       "      <td>453.000000</td>\n",
       "    </tr>\n",
       "    <tr>\n",
       "      <th>mean</th>\n",
       "      <td>27.904215</td>\n",
       "      <td>30.701987</td>\n",
       "    </tr>\n",
       "    <tr>\n",
       "      <th>std</th>\n",
       "      <td>14.122351</td>\n",
       "      <td>14.687961</td>\n",
       "    </tr>\n",
       "    <tr>\n",
       "      <th>min</th>\n",
       "      <td>0.000000</td>\n",
       "      <td>0.000000</td>\n",
       "    </tr>\n",
       "    <tr>\n",
       "      <th>25%</th>\n",
       "      <td>18.000000</td>\n",
       "      <td>21.000000</td>\n",
       "    </tr>\n",
       "    <tr>\n",
       "      <th>50%</th>\n",
       "      <td>27.000000</td>\n",
       "      <td>29.000000</td>\n",
       "    </tr>\n",
       "    <tr>\n",
       "      <th>75%</th>\n",
       "      <td>37.000000</td>\n",
       "      <td>39.000000</td>\n",
       "    </tr>\n",
       "    <tr>\n",
       "      <th>max</th>\n",
       "      <td>63.000000</td>\n",
       "      <td>80.000000</td>\n",
       "    </tr>\n",
       "    <tr>\n",
       "      <th rowspan=\"8\" valign=\"top\">Fare (in $)</th>\n",
       "      <th>count</th>\n",
       "      <td>261.000000</td>\n",
       "      <td>453.000000</td>\n",
       "    </tr>\n",
       "    <tr>\n",
       "      <th>mean</th>\n",
       "      <td>47.582759</td>\n",
       "      <td>27.268836</td>\n",
       "    </tr>\n",
       "    <tr>\n",
       "      <th>std</th>\n",
       "      <td>61.346854</td>\n",
       "      <td>45.841889</td>\n",
       "    </tr>\n",
       "    <tr>\n",
       "      <th>min</th>\n",
       "      <td>6.750000</td>\n",
       "      <td>0.000000</td>\n",
       "    </tr>\n",
       "    <tr>\n",
       "      <th>25%</th>\n",
       "      <td>13.000000</td>\n",
       "      <td>7.895800</td>\n",
       "    </tr>\n",
       "    <tr>\n",
       "      <th>50%</th>\n",
       "      <td>26.000000</td>\n",
       "      <td>13.000000</td>\n",
       "    </tr>\n",
       "    <tr>\n",
       "      <th>75%</th>\n",
       "      <td>57.979200</td>\n",
       "      <td>28.500000</td>\n",
       "    </tr>\n",
       "    <tr>\n",
       "      <th>max</th>\n",
       "      <td>512.329200</td>\n",
       "      <td>512.329200</td>\n",
       "    </tr>\n",
       "  </tbody>\n",
       "</table>\n",
       "</div>"
      ],
      "text/plain": [
       "Sex                    female        male\n",
       "Variable    Stat                         \n",
       "Age         count  261.000000  453.000000\n",
       "            mean    27.904215   30.701987\n",
       "            std     14.122351   14.687961\n",
       "            min      0.000000    0.000000\n",
       "            25%     18.000000   21.000000\n",
       "            50%     27.000000   29.000000\n",
       "            75%     37.000000   39.000000\n",
       "            max     63.000000   80.000000\n",
       "Fare (in $) count  261.000000  453.000000\n",
       "            mean    47.582759   27.268836\n",
       "            std     61.346854   45.841889\n",
       "            min      6.750000    0.000000\n",
       "            25%     13.000000    7.895800\n",
       "            50%     26.000000   13.000000\n",
       "            75%     57.979200   28.500000\n",
       "            max    512.329200  512.329200"
      ]
     },
     "execution_count": 73,
     "metadata": {},
     "output_type": "execute_result"
    }
   ],
   "source": [
    "# d\n",
    "d1 = df.groupby('Sex')['Age','Fare (in $)'].describe()\n",
    "d1=d1.T\n",
    "d1.index.names=['Variable','Stat']\n",
    "print(\"Descriptive statistics for numeric attributes genderwise:\")\n",
    "d1"
   ]
  }
 ],
 "metadata": {
  "kernelspec": {
   "display_name": "Python 3 (ipykernel)",
   "language": "python",
   "name": "python3"
  },
  "language_info": {
   "codemirror_mode": {
    "name": "ipython",
    "version": 3
   },
   "file_extension": ".py",
   "mimetype": "text/x-python",
   "name": "python",
   "nbconvert_exporter": "python",
   "pygments_lexer": "ipython3",
   "version": "3.11.4"
  }
 },
 "nbformat": 4,
 "nbformat_minor": 5
}

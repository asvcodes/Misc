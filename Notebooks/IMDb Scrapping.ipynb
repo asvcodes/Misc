{
 "cells": [
  {
   "cell_type": "markdown",
   "id": "a1bc9b75",
   "metadata": {},
   "source": [
    "Importing Neccessary Modules"
   ]
  },
  {
   "cell_type": "code",
   "execution_count": 1,
   "id": "33700031",
   "metadata": {},
   "outputs": [],
   "source": [
    "import pandas as pd\n",
    "import requests\n",
    "from bs4 import BeautifulSoup as BS"
   ]
  },
  {
   "cell_type": "code",
   "execution_count": 2,
   "id": "109e7ea5",
   "metadata": {},
   "outputs": [],
   "source": [
    "URL=\"https://www.imdb.com/list/ls055592025/\"\n",
    "Webcontent = requests.get(URL)\n",
    "info = BS(Webcontent.content,\"html.parser\")"
   ]
  },
  {
   "cell_type": "code",
   "execution_count": 3,
   "id": "d31f3996",
   "metadata": {},
   "outputs": [],
   "source": [
    "Movie = []\n",
    "Year = []\n",
    "Runtime = []\n",
    "Ratings = []\n",
    "Gross_Collection = [] "
   ]
  },
  {
   "cell_type": "markdown",
   "id": "ba669e75",
   "metadata": {},
   "source": [
    "Sorting Out Useful Data"
   ]
  },
  {
   "cell_type": "code",
   "execution_count": 4,
   "id": "2cfb550e",
   "metadata": {},
   "outputs": [],
   "source": [
    "MovieData= info.findAll(\"div\", attrs={\"class\":\"lister-item mode-detail\"})"
   ]
  },
  {
   "cell_type": "markdown",
   "id": "278e8c11",
   "metadata": {},
   "source": [
    "Scrapping The Data"
   ]
  },
  {
   "cell_type": "code",
   "execution_count": 5,
   "id": "6665fc4b",
   "metadata": {},
   "outputs": [],
   "source": [
    "for i in MovieData:\n",
    "    #Movie\n",
    "    Title = i.h3.a.text\n",
    "    Movie.append(Title)\n",
    "    #Year\n",
    "    Release_Year = i.h3.find(\"span\",class_ = \"lister-item-year text-muted unbold\" ).text.replace(\"(\",\"\").replace(\")\",\"\")\n",
    "    Year.append(Release_Year)\n",
    "    #Runtime\n",
    "    Duration = i.p.find(\"span\",class_=\"runtime\").text.replace(\"min\",\" \")\n",
    "    Runtime.append(Duration)\n",
    "    #Ratings\n",
    "    Score = i.find(\"span\", class_=\"ipl-rating-star__rating\").text\n",
    "    Ratings.append(Score)\n",
    "    #Collection\n",
    "    Val= i.find_all(\"span\",attrs = {\"name\":\"nv\"})\n",
    "    Collection = Val[1].text if len(Val) > 1 else '0'\n",
    "    Gross_Collection.append(Collection )\n",
    "   "
   ]
  },
  {
   "cell_type": "markdown",
   "id": "d980c352",
   "metadata": {},
   "source": [
    "Creating a Dataframe out of the Data using pandas Module"
   ]
  },
  {
   "cell_type": "code",
   "execution_count": 6,
   "id": "aef7e3c0",
   "metadata": {},
   "outputs": [],
   "source": [
    "Dataset = pd.DataFrame({\"Title\": Movie ,\"Release Year\": Year,\"Runtime\": Runtime,\"Ratings\": Ratings, \"Gross Collection (USD)\":Gross_Collection})"
   ]
  },
  {
   "cell_type": "markdown",
   "id": "bb7b29b8",
   "metadata": {},
   "source": [
    "Converting the Dataframe to an MS Excel file for further Analysis"
   ]
  }
 ],
 "metadata": {
  "kernelspec": {
   "display_name": "Python 3 (ipykernel)",
   "language": "python",
   "name": "python3"
  },
  "language_info": {
   "codemirror_mode": {
    "name": "ipython",
    "version": 3
   },
   "file_extension": ".py",
   "mimetype": "text/x-python",
   "name": "python",
   "nbconvert_exporter": "python",
   "pygments_lexer": "ipython3",
   "version": "3.11.4"
  }
 },
 "nbformat": 4,
 "nbformat_minor": 5
}

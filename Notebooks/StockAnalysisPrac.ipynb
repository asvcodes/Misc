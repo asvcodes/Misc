{
 "cells": [
  {
   "cell_type": "markdown",
   "id": "2717ac3d",
   "metadata": {},
   "source": [
    "# Importing Libraries"
   ]
  },
  {
   "cell_type": "code",
   "execution_count": 1,
   "id": "baf02a6b",
   "metadata": {},
   "outputs": [],
   "source": [
    "import numpy as np\n",
    "import pandas as pd\n",
    "import matplotlib.pyplot as plt\n",
    "%matplotlib inline "
   ]
  },
  {
   "cell_type": "markdown",
   "id": "046e5208",
   "metadata": {},
   "source": [
    "# Creating Datasets (NumPy)"
   ]
  },
  {
   "cell_type": "code",
   "execution_count": 2,
   "id": "a40c361d",
   "metadata": {},
   "outputs": [
    {
     "data": {
      "text/plain": [
       "array([20.5, 23.5, 26.5, 29.5, 32.5, 35.5, 38.5, 41.5, 44.5, 47.5])"
      ]
     },
     "execution_count": 2,
     "metadata": {},
     "output_type": "execute_result"
    }
   ],
   "source": [
    "# 1. Create stock_1 array\n",
    "Stock_1 = np.arange(20.5, 50, 3)\n",
    "Stock_1"
   ]
  },
  {
   "cell_type": "code",
   "execution_count": 3,
   "id": "2a4e5c06",
   "metadata": {},
   "outputs": [
    {
     "data": {
      "text/plain": [
       "array([80, 78, 76, 74, 72, 70, 68, 66, 64, 62])"
      ]
     },
     "execution_count": 3,
     "metadata": {},
     "output_type": "execute_result"
    }
   ],
   "source": [
    "# 2. Create stock_2 array\n",
    "Stock_2 = np.arange(80, 60, -2)\n",
    "Stock_2"
   ]
  },
  {
   "cell_type": "code",
   "execution_count": 4,
   "id": "7751eec8",
   "metadata": {},
   "outputs": [
    {
     "data": {
      "text/plain": [
       "array([47, 48, 34, 45, 30, 34, 39, 39, 33, 35])"
      ]
     },
     "execution_count": 4,
     "metadata": {},
     "output_type": "execute_result"
    }
   ],
   "source": [
    "# 3. Generate stock_3 array with random values\n",
    "Stock_3 = np.random.randint(30,51,size=10)\n",
    "Stock_3"
   ]
  },
  {
   "cell_type": "code",
   "execution_count": 5,
   "id": "2317d8bc",
   "metadata": {},
   "outputs": [
    {
     "data": {
      "text/plain": [
       "array([8., 8., 8., 8., 8., 8., 8., 8., 8., 8.])"
      ]
     },
     "execution_count": 5,
     "metadata": {},
     "output_type": "execute_result"
    }
   ],
   "source": [
    "# 4. Create stock_4 array\n",
    "Stock_4 = np.full_like(Stock_1, fill_value=8)\n",
    "Stock_4"
   ]
  },
  {
   "cell_type": "code",
   "execution_count": 6,
   "id": "fe6e420d",
   "metadata": {},
   "outputs": [
    {
     "data": {
      "text/plain": [
       "array([1242, 1394, 1351, 1456, 1207, 1019, 1394, 1094, 1461, 1102])"
      ]
     },
     "execution_count": 6,
     "metadata": {},
     "output_type": "execute_result"
    }
   ],
   "source": [
    "# 5. Generate trading_vol array with random integer values\n",
    "Trading_Vol = np.random.randint(1000, 1501, size=10)\n",
    "Trading_Vol"
   ]
  },
  {
   "cell_type": "code",
   "execution_count": 7,
   "id": "0df1ead9",
   "metadata": {},
   "outputs": [
    {
     "data": {
      "text/plain": [
       "array([[  20.5,   80. ,   47. ,    8. , 1242. ],\n",
       "       [  23.5,   78. ,   48. ,    8. , 1394. ],\n",
       "       [  26.5,   76. ,   34. ,    8. , 1351. ],\n",
       "       [  29.5,   74. ,   45. ,    8. , 1456. ],\n",
       "       [  32.5,   72. ,   30. ,    8. , 1207. ],\n",
       "       [  35.5,   70. ,   34. ,    8. , 1019. ],\n",
       "       [  38.5,   68. ,   39. ,    8. , 1394. ],\n",
       "       [  41.5,   66. ,   39. ,    8. , 1094. ],\n",
       "       [  44.5,   64. ,   33. ,    8. , 1461. ],\n",
       "       [  47.5,   62. ,   35. ,    8. , 1102. ]])"
      ]
     },
     "execution_count": 7,
     "metadata": {},
     "output_type": "execute_result"
    }
   ],
   "source": [
    "# 6. Combine arrays into a single 2D array\n",
    "Stock_Prices = np.array([Stock_1, Stock_2, Stock_3, Stock_4, Trading_Vol]).T\n",
    "Stock_Prices"
   ]
  },
  {
   "cell_type": "markdown",
   "id": "6dae0d52",
   "metadata": {},
   "source": [
    "# Analysis (Pandas)"
   ]
  },
  {
   "cell_type": "code",
   "execution_count": 8,
   "id": "adf73480",
   "metadata": {
    "scrolled": true
   },
   "outputs": [
    {
     "data": {
      "text/html": [
       "<div>\n",
       "<style scoped>\n",
       "    .dataframe tbody tr th:only-of-type {\n",
       "        vertical-align: middle;\n",
       "    }\n",
       "\n",
       "    .dataframe tbody tr th {\n",
       "        vertical-align: top;\n",
       "    }\n",
       "\n",
       "    .dataframe thead th {\n",
       "        text-align: right;\n",
       "    }\n",
       "</style>\n",
       "<table border=\"1\" class=\"dataframe\">\n",
       "  <thead>\n",
       "    <tr style=\"text-align: right;\">\n",
       "      <th></th>\n",
       "      <th>Stock_1</th>\n",
       "      <th>Stock_2</th>\n",
       "      <th>Stock_3</th>\n",
       "      <th>Stock_4</th>\n",
       "      <th>Trading_Vol</th>\n",
       "    </tr>\n",
       "    <tr>\n",
       "      <th>Day</th>\n",
       "      <th></th>\n",
       "      <th></th>\n",
       "      <th></th>\n",
       "      <th></th>\n",
       "      <th></th>\n",
       "    </tr>\n",
       "  </thead>\n",
       "  <tbody>\n",
       "    <tr>\n",
       "      <th>1</th>\n",
       "      <td>20.5</td>\n",
       "      <td>80.0</td>\n",
       "      <td>47.0</td>\n",
       "      <td>8.0</td>\n",
       "      <td>1242.0</td>\n",
       "    </tr>\n",
       "    <tr>\n",
       "      <th>2</th>\n",
       "      <td>23.5</td>\n",
       "      <td>78.0</td>\n",
       "      <td>48.0</td>\n",
       "      <td>8.0</td>\n",
       "      <td>1394.0</td>\n",
       "    </tr>\n",
       "    <tr>\n",
       "      <th>3</th>\n",
       "      <td>26.5</td>\n",
       "      <td>76.0</td>\n",
       "      <td>34.0</td>\n",
       "      <td>8.0</td>\n",
       "      <td>1351.0</td>\n",
       "    </tr>\n",
       "    <tr>\n",
       "      <th>4</th>\n",
       "      <td>29.5</td>\n",
       "      <td>74.0</td>\n",
       "      <td>45.0</td>\n",
       "      <td>8.0</td>\n",
       "      <td>1456.0</td>\n",
       "    </tr>\n",
       "    <tr>\n",
       "      <th>5</th>\n",
       "      <td>32.5</td>\n",
       "      <td>72.0</td>\n",
       "      <td>30.0</td>\n",
       "      <td>8.0</td>\n",
       "      <td>1207.0</td>\n",
       "    </tr>\n",
       "    <tr>\n",
       "      <th>6</th>\n",
       "      <td>35.5</td>\n",
       "      <td>70.0</td>\n",
       "      <td>34.0</td>\n",
       "      <td>8.0</td>\n",
       "      <td>1019.0</td>\n",
       "    </tr>\n",
       "    <tr>\n",
       "      <th>7</th>\n",
       "      <td>38.5</td>\n",
       "      <td>68.0</td>\n",
       "      <td>39.0</td>\n",
       "      <td>8.0</td>\n",
       "      <td>1394.0</td>\n",
       "    </tr>\n",
       "    <tr>\n",
       "      <th>8</th>\n",
       "      <td>41.5</td>\n",
       "      <td>66.0</td>\n",
       "      <td>39.0</td>\n",
       "      <td>8.0</td>\n",
       "      <td>1094.0</td>\n",
       "    </tr>\n",
       "    <tr>\n",
       "      <th>9</th>\n",
       "      <td>44.5</td>\n",
       "      <td>64.0</td>\n",
       "      <td>33.0</td>\n",
       "      <td>8.0</td>\n",
       "      <td>1461.0</td>\n",
       "    </tr>\n",
       "    <tr>\n",
       "      <th>10</th>\n",
       "      <td>47.5</td>\n",
       "      <td>62.0</td>\n",
       "      <td>35.0</td>\n",
       "      <td>8.0</td>\n",
       "      <td>1102.0</td>\n",
       "    </tr>\n",
       "  </tbody>\n",
       "</table>\n",
       "</div>"
      ],
      "text/plain": [
       "     Stock_1  Stock_2  Stock_3  Stock_4  Trading_Vol\n",
       "Day                                                 \n",
       "1       20.5     80.0     47.0      8.0       1242.0\n",
       "2       23.5     78.0     48.0      8.0       1394.0\n",
       "3       26.5     76.0     34.0      8.0       1351.0\n",
       "4       29.5     74.0     45.0      8.0       1456.0\n",
       "5       32.5     72.0     30.0      8.0       1207.0\n",
       "6       35.5     70.0     34.0      8.0       1019.0\n",
       "7       38.5     68.0     39.0      8.0       1394.0\n",
       "8       41.5     66.0     39.0      8.0       1094.0\n",
       "9       44.5     64.0     33.0      8.0       1461.0\n",
       "10      47.5     62.0     35.0      8.0       1102.0"
      ]
     },
     "execution_count": 8,
     "metadata": {},
     "output_type": "execute_result"
    }
   ],
   "source": [
    "# 1. Convert NumPy array to Pandas DataFrame\n",
    "Stocks = pd.DataFrame(Stock_Prices, columns=['Stock_1', 'Stock_2', 'Stock_3', 'Stock_4', 'Trading_Vol'], index=np.arange(1, 11))\n",
    "Stocks.rename_axis('Day',inplace=True)\n",
    "Stocks"
   ]
  },
  {
   "cell_type": "code",
   "execution_count": 9,
   "id": "5b2abcc5",
   "metadata": {},
   "outputs": [
    {
     "name": "stdout",
     "output_type": "stream",
     "text": [
      "Head:\n"
     ]
    },
    {
     "data": {
      "text/html": [
       "<div>\n",
       "<style scoped>\n",
       "    .dataframe tbody tr th:only-of-type {\n",
       "        vertical-align: middle;\n",
       "    }\n",
       "\n",
       "    .dataframe tbody tr th {\n",
       "        vertical-align: top;\n",
       "    }\n",
       "\n",
       "    .dataframe thead th {\n",
       "        text-align: right;\n",
       "    }\n",
       "</style>\n",
       "<table border=\"1\" class=\"dataframe\">\n",
       "  <thead>\n",
       "    <tr style=\"text-align: right;\">\n",
       "      <th></th>\n",
       "      <th>Stock_1</th>\n",
       "      <th>Stock_2</th>\n",
       "      <th>Stock_3</th>\n",
       "      <th>Stock_4</th>\n",
       "      <th>Trading_Vol</th>\n",
       "    </tr>\n",
       "    <tr>\n",
       "      <th>Day</th>\n",
       "      <th></th>\n",
       "      <th></th>\n",
       "      <th></th>\n",
       "      <th></th>\n",
       "      <th></th>\n",
       "    </tr>\n",
       "  </thead>\n",
       "  <tbody>\n",
       "    <tr>\n",
       "      <th>1</th>\n",
       "      <td>20.5</td>\n",
       "      <td>80.0</td>\n",
       "      <td>47.0</td>\n",
       "      <td>8.0</td>\n",
       "      <td>1242.0</td>\n",
       "    </tr>\n",
       "    <tr>\n",
       "      <th>2</th>\n",
       "      <td>23.5</td>\n",
       "      <td>78.0</td>\n",
       "      <td>48.0</td>\n",
       "      <td>8.0</td>\n",
       "      <td>1394.0</td>\n",
       "    </tr>\n",
       "    <tr>\n",
       "      <th>3</th>\n",
       "      <td>26.5</td>\n",
       "      <td>76.0</td>\n",
       "      <td>34.0</td>\n",
       "      <td>8.0</td>\n",
       "      <td>1351.0</td>\n",
       "    </tr>\n",
       "  </tbody>\n",
       "</table>\n",
       "</div>"
      ],
      "text/plain": [
       "     Stock_1  Stock_2  Stock_3  Stock_4  Trading_Vol\n",
       "Day                                                 \n",
       "1       20.5     80.0     47.0      8.0       1242.0\n",
       "2       23.5     78.0     48.0      8.0       1394.0\n",
       "3       26.5     76.0     34.0      8.0       1351.0"
      ]
     },
     "execution_count": 9,
     "metadata": {},
     "output_type": "execute_result"
    }
   ],
   "source": [
    "# 2. Print head and tail\n",
    "print(\"Head:\")\n",
    "Stocks.head(3)"
   ]
  },
  {
   "cell_type": "code",
   "execution_count": 10,
   "id": "05c25b87",
   "metadata": {},
   "outputs": [
    {
     "name": "stdout",
     "output_type": "stream",
     "text": [
      "Tail:\n"
     ]
    },
    {
     "data": {
      "text/html": [
       "<div>\n",
       "<style scoped>\n",
       "    .dataframe tbody tr th:only-of-type {\n",
       "        vertical-align: middle;\n",
       "    }\n",
       "\n",
       "    .dataframe tbody tr th {\n",
       "        vertical-align: top;\n",
       "    }\n",
       "\n",
       "    .dataframe thead th {\n",
       "        text-align: right;\n",
       "    }\n",
       "</style>\n",
       "<table border=\"1\" class=\"dataframe\">\n",
       "  <thead>\n",
       "    <tr style=\"text-align: right;\">\n",
       "      <th></th>\n",
       "      <th>Stock_1</th>\n",
       "      <th>Stock_2</th>\n",
       "      <th>Stock_3</th>\n",
       "      <th>Stock_4</th>\n",
       "      <th>Trading_Vol</th>\n",
       "    </tr>\n",
       "    <tr>\n",
       "      <th>Day</th>\n",
       "      <th></th>\n",
       "      <th></th>\n",
       "      <th></th>\n",
       "      <th></th>\n",
       "      <th></th>\n",
       "    </tr>\n",
       "  </thead>\n",
       "  <tbody>\n",
       "    <tr>\n",
       "      <th>8</th>\n",
       "      <td>41.5</td>\n",
       "      <td>66.0</td>\n",
       "      <td>39.0</td>\n",
       "      <td>8.0</td>\n",
       "      <td>1094.0</td>\n",
       "    </tr>\n",
       "    <tr>\n",
       "      <th>9</th>\n",
       "      <td>44.5</td>\n",
       "      <td>64.0</td>\n",
       "      <td>33.0</td>\n",
       "      <td>8.0</td>\n",
       "      <td>1461.0</td>\n",
       "    </tr>\n",
       "    <tr>\n",
       "      <th>10</th>\n",
       "      <td>47.5</td>\n",
       "      <td>62.0</td>\n",
       "      <td>35.0</td>\n",
       "      <td>8.0</td>\n",
       "      <td>1102.0</td>\n",
       "    </tr>\n",
       "  </tbody>\n",
       "</table>\n",
       "</div>"
      ],
      "text/plain": [
       "     Stock_1  Stock_2  Stock_3  Stock_4  Trading_Vol\n",
       "Day                                                 \n",
       "8       41.5     66.0     39.0      8.0       1094.0\n",
       "9       44.5     64.0     33.0      8.0       1461.0\n",
       "10      47.5     62.0     35.0      8.0       1102.0"
      ]
     },
     "execution_count": 10,
     "metadata": {},
     "output_type": "execute_result"
    }
   ],
   "source": [
    "# 2. Print head and tail\n",
    "print(\"Tail:\")\n",
    "Stocks.tail(3)"
   ]
  },
  {
   "cell_type": "code",
   "execution_count": 11,
   "id": "cd39131d",
   "metadata": {},
   "outputs": [
    {
     "name": "stdout",
     "output_type": "stream",
     "text": [
      "\n",
      "Average Stock-Price for each Stock:\n"
     ]
    },
    {
     "data": {
      "text/plain": [
       "Stock_1          34.0\n",
       "Stock_2          71.0\n",
       "Stock_3          38.4\n",
       "Stock_4           8.0\n",
       "Trading_Vol    1272.0\n",
       "dtype: float64"
      ]
     },
     "execution_count": 11,
     "metadata": {},
     "output_type": "execute_result"
    }
   ],
   "source": [
    "# 3. Average stock price for each stock\n",
    "Avg_Prices = Stocks.mean()\n",
    "print(\"\\nAverage Stock-Price for each Stock:\")\n",
    "Avg_Prices"
   ]
  },
  {
   "cell_type": "code",
   "execution_count": 12,
   "id": "16de991a",
   "metadata": {},
   "outputs": [
    {
     "name": "stdout",
     "output_type": "stream",
     "text": [
      "\n",
      "Stock 1 Price on days when Stock 2 Price was greater than its Average:\n"
     ]
    },
    {
     "data": {
      "text/plain": [
       "Day\n",
       "1    20.5\n",
       "2    23.5\n",
       "3    26.5\n",
       "4    29.5\n",
       "5    32.5\n",
       "Name: Stock_1, dtype: float64"
      ]
     },
     "execution_count": 12,
     "metadata": {},
     "output_type": "execute_result"
    }
   ],
   "source": [
    "# 4. Price of stock_1 on days stock_2 > average price of stock_2\n",
    "print(\"\\nStock 1 Price on days when Stock 2 Price was greater than its Average:\")\n",
    "Stocks['Stock_1'][Stocks['Stock_2'] > Avg_Prices['Stock_2']]"
   ]
  },
  {
   "cell_type": "code",
   "execution_count": 13,
   "id": "31d439fd",
   "metadata": {},
   "outputs": [
    {
     "name": "stdout",
     "output_type": "stream",
     "text": [
      "\n",
      "Percentage change in price for each stock:\n"
     ]
    },
    {
     "data": {
      "text/html": [
       "<div>\n",
       "<style scoped>\n",
       "    .dataframe tbody tr th:only-of-type {\n",
       "        vertical-align: middle;\n",
       "    }\n",
       "\n",
       "    .dataframe tbody tr th {\n",
       "        vertical-align: top;\n",
       "    }\n",
       "\n",
       "    .dataframe thead th {\n",
       "        text-align: right;\n",
       "    }\n",
       "</style>\n",
       "<table border=\"1\" class=\"dataframe\">\n",
       "  <thead>\n",
       "    <tr style=\"text-align: right;\">\n",
       "      <th></th>\n",
       "      <th>Stock_1</th>\n",
       "      <th>Stock_2</th>\n",
       "      <th>Stock_3</th>\n",
       "      <th>Stock_4</th>\n",
       "    </tr>\n",
       "    <tr>\n",
       "      <th>Day</th>\n",
       "      <th></th>\n",
       "      <th></th>\n",
       "      <th></th>\n",
       "      <th></th>\n",
       "    </tr>\n",
       "  </thead>\n",
       "  <tbody>\n",
       "    <tr>\n",
       "      <th>2</th>\n",
       "      <td>14.634146</td>\n",
       "      <td>-2.500000</td>\n",
       "      <td>2.127660</td>\n",
       "      <td>0.0</td>\n",
       "    </tr>\n",
       "    <tr>\n",
       "      <th>3</th>\n",
       "      <td>12.765957</td>\n",
       "      <td>-2.564103</td>\n",
       "      <td>-29.166667</td>\n",
       "      <td>0.0</td>\n",
       "    </tr>\n",
       "    <tr>\n",
       "      <th>4</th>\n",
       "      <td>11.320755</td>\n",
       "      <td>-2.631579</td>\n",
       "      <td>32.352941</td>\n",
       "      <td>0.0</td>\n",
       "    </tr>\n",
       "    <tr>\n",
       "      <th>5</th>\n",
       "      <td>10.169492</td>\n",
       "      <td>-2.702703</td>\n",
       "      <td>-33.333333</td>\n",
       "      <td>0.0</td>\n",
       "    </tr>\n",
       "    <tr>\n",
       "      <th>6</th>\n",
       "      <td>9.230769</td>\n",
       "      <td>-2.777778</td>\n",
       "      <td>13.333333</td>\n",
       "      <td>0.0</td>\n",
       "    </tr>\n",
       "    <tr>\n",
       "      <th>7</th>\n",
       "      <td>8.450704</td>\n",
       "      <td>-2.857143</td>\n",
       "      <td>14.705882</td>\n",
       "      <td>0.0</td>\n",
       "    </tr>\n",
       "    <tr>\n",
       "      <th>8</th>\n",
       "      <td>7.792208</td>\n",
       "      <td>-2.941176</td>\n",
       "      <td>0.000000</td>\n",
       "      <td>0.0</td>\n",
       "    </tr>\n",
       "    <tr>\n",
       "      <th>9</th>\n",
       "      <td>7.228916</td>\n",
       "      <td>-3.030303</td>\n",
       "      <td>-15.384615</td>\n",
       "      <td>0.0</td>\n",
       "    </tr>\n",
       "    <tr>\n",
       "      <th>10</th>\n",
       "      <td>6.741573</td>\n",
       "      <td>-3.125000</td>\n",
       "      <td>6.060606</td>\n",
       "      <td>0.0</td>\n",
       "    </tr>\n",
       "  </tbody>\n",
       "</table>\n",
       "</div>"
      ],
      "text/plain": [
       "       Stock_1   Stock_2    Stock_3  Stock_4\n",
       "Day                                         \n",
       "2    14.634146 -2.500000   2.127660      0.0\n",
       "3    12.765957 -2.564103 -29.166667      0.0\n",
       "4    11.320755 -2.631579  32.352941      0.0\n",
       "5    10.169492 -2.702703 -33.333333      0.0\n",
       "6     9.230769 -2.777778  13.333333      0.0\n",
       "7     8.450704 -2.857143  14.705882      0.0\n",
       "8     7.792208 -2.941176   0.000000      0.0\n",
       "9     7.228916 -3.030303 -15.384615      0.0\n",
       "10    6.741573 -3.125000   6.060606      0.0"
      ]
     },
     "execution_count": 13,
     "metadata": {},
     "output_type": "execute_result"
    }
   ],
   "source": [
    "# Assuming PCT_Change is a DataFrame with percentage change in price for each stock\n",
    "PCT_Change = ((Stocks.drop(['Trading_Vol'], axis=1)).pct_change() * 100).dropna()\n",
    "print(\"\\nPercentage change in price for each stock:\")\n",
    "PCT_Change"
   ]
  },
  {
   "cell_type": "code",
   "execution_count": 14,
   "id": "bca58187",
   "metadata": {},
   "outputs": [
    {
     "name": "stdout",
     "output_type": "stream",
     "text": [
      "\n",
      "Correlation between Stock-Price and Trading Volume:\n"
     ]
    },
    {
     "data": {
      "text/html": [
       "<div>\n",
       "<style scoped>\n",
       "    .dataframe tbody tr th:only-of-type {\n",
       "        vertical-align: middle;\n",
       "    }\n",
       "\n",
       "    .dataframe tbody tr th {\n",
       "        vertical-align: top;\n",
       "    }\n",
       "\n",
       "    .dataframe thead th {\n",
       "        text-align: right;\n",
       "    }\n",
       "</style>\n",
       "<table border=\"1\" class=\"dataframe\">\n",
       "  <thead>\n",
       "    <tr style=\"text-align: right;\">\n",
       "      <th></th>\n",
       "      <th>Trading_Vol</th>\n",
       "    </tr>\n",
       "  </thead>\n",
       "  <tbody>\n",
       "    <tr>\n",
       "      <th>Stock_1</th>\n",
       "      <td>-0.278032</td>\n",
       "    </tr>\n",
       "    <tr>\n",
       "      <th>Stock_2</th>\n",
       "      <td>0.278032</td>\n",
       "    </tr>\n",
       "    <tr>\n",
       "      <th>Stock_3</th>\n",
       "      <td>0.321754</td>\n",
       "    </tr>\n",
       "    <tr>\n",
       "      <th>Stock_4</th>\n",
       "      <td>NaN</td>\n",
       "    </tr>\n",
       "  </tbody>\n",
       "</table>\n",
       "</div>"
      ],
      "text/plain": [
       "         Trading_Vol\n",
       "Stock_1    -0.278032\n",
       "Stock_2     0.278032\n",
       "Stock_3     0.321754\n",
       "Stock_4          NaN"
      ]
     },
     "execution_count": 14,
     "metadata": {},
     "output_type": "execute_result"
    }
   ],
   "source": [
    "# 6. Correlation between Stock-Price and Trading Volume\n",
    "print(\"\\nCorrelation between Stock-Price and Trading Volume:\")\n",
    "correlation=((Stocks.corr()).drop(['Stock_1', 'Stock_2', 'Stock_3', 'Stock_4'],axis=1)).drop(['Trading_Vol'])\n",
    "correlation"
   ]
  },
  {
   "cell_type": "code",
   "execution_count": 15,
   "id": "2bb622cd",
   "metadata": {},
   "outputs": [
    {
     "name": "stdout",
     "output_type": "stream",
     "text": [
      "\n",
      "Rank of each day based on the Price of Stock_3:\n",
      "Day\n",
      "1      2\n",
      "2      1\n",
      "3      7\n",
      "4      3\n",
      "5     10\n",
      "6      7\n",
      "7      4\n",
      "8      4\n",
      "9      9\n",
      "10     6\n",
      "Name: Stock_3, dtype: int32\n"
     ]
    }
   ],
   "source": [
    "# 7. Rank of each day based on the price of stock_3\n",
    "Ranked_Stock_3 = Stocks['Stock_3'].rank(ascending=False)  # Ranking the prices of Stock_3\n",
    "print(\"\\nRank of each day based on the Price of Stock_3:\")\n",
    "print(Ranked_Stock_3.astype(int))  # Converting ranks to integers for better readability"
   ]
  },
  {
   "cell_type": "markdown",
   "id": "1a40fc7f",
   "metadata": {},
   "source": [
    "# Visualisation (Matplotlib)"
   ]
  },
  {
   "cell_type": "code",
   "execution_count": 17,
   "id": "3062dae0",
   "metadata": {},
   "outputs": [
    {
     "data": {
      "image/png": "[encoded data removed]",
      "text/plain": [
       "<Figure size 1200x1000 with 2 Axes>"
      ]
     },
     "metadata": {},
     "output_type": "display_data"
    }
   ],
   "source": [
    "# Create a figure and subplots\n",
    "fig, axes = plt.subplots(nrows=2, ncols=1, figsize=(12, 10))\n",
    "\n",
    "# a. Line plot for first 5 days\n",
    "Stocks.iloc[:5, :4].plot(ax=axes[0])\n",
    "axes[0].set_title('Stock Prices for First 5 Days')\n",
    "axes[0].legend()\n",
    "\n",
    "# b. Horizontal bar graph for trading volume\n",
    "Stocks['Trading_Vol'].plot(kind='barh', ax=axes[1], color='skyblue')\n",
    "axes[1].set_title('Trading Volume')\n",
    "axes[1].set_xlabel('Volume')\n",
    "\n",
    "plt.show()\n"
   ]
  },
  {
   "cell_type": "code",
   "execution_count": 18,
   "id": "16f418be",
   "metadata": {},
   "outputs": [
    {
     "data": {
      "image/png": "[encoded data removed]",
      "text/plain": [
       "<Figure size 640x480 with 2 Axes>"
      ]
     },
     "metadata": {},
     "output_type": "display_data"
    }
   ],
   "source": [
    "plt.figure()\n",
    "# Create the heatmap\n",
    "heatmap = plt.imshow((Stocks.corr()).fillna(0), cmap='coolwarm', interpolation='nearest')\n",
    "# Add colorbar to show the scale\n",
    "plt.colorbar(heatmap)\n",
    "# Set title\n",
    "plt.title('Correlation Heatmap')\n",
    "# Set x and y labels\n",
    "plt.xticks(np.arange(len(Stocks.columns)), Stocks.columns)\n",
    "plt.yticks(np.arange(len(Stocks.columns)), Stocks.columns)\n",
    "\n",
    "# Show the plot\n",
    "plt.show()"
   ]
  }
 ],
 "metadata": {
  "kernelspec": {
   "display_name": "Python 3 (ipykernel)",
   "language": "python",
   "name": "python3"
  },
  "language_info": {
   "codemirror_mode": {
    "name": "ipython",
    "version": 3
   },
   "file_extension": ".py",
   "mimetype": "text/x-python",
   "name": "python",
   "nbconvert_exporter": "python",
   "pygments_lexer": "ipython3",
   "version": "3.11.4"
  }
 },
 "nbformat": 4,
 "nbformat_minor": 5
}

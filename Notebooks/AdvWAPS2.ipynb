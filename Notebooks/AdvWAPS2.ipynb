{
 "cells": [
  {
   "cell_type": "markdown",
   "id": "8b1fd8d9",
   "metadata": {},
   "source": [
    "Fibonacci"
   ]
  },
  {
   "cell_type": "code",
   "execution_count": 38,
   "id": "9dd7c68c",
   "metadata": {},
   "outputs": [
    {
     "name": "stdout",
     "output_type": "stream",
     "text": [
      "Enter How many elements of the fibonacci sequence you want: 7\n",
      "0,1,1,2,3,5,8,"
     ]
    }
   ],
   "source": [
    "def fibs(n):\n",
    "    seq =[]\n",
    "    a, b =0,1\n",
    "    for i in range(n):\n",
    "        seq.append(a)\n",
    "        a, b = b, a + b\n",
    "    return seq\n",
    "n=int(input(\"Enter How many elements of the fibonacci sequence you want: \"))\n",
    "\n",
    "for i,v in enumerate(fibs(n+1)):\n",
    "    if i==n:\n",
    "        break\n",
    "    print(v,end=\",\")"
   ]
  },
  {
   "cell_type": "code",
   "execution_count": 2,
   "id": "73c06a6d",
   "metadata": {},
   "outputs": [
    {
     "name": "stdout",
     "output_type": "stream",
     "text": [
      "Enter Element 1 for the List: 2\n",
      "Enter Element 2 for the List: 2\n",
      "Enter Element 3 for the List: \n",
      "Enter Element 4 for the List: \n",
      "Enter Element 5 for the List: \n",
      "Enter Element 6 for the List: \n",
      "Enter Element 7 for the List: \n",
      "Enter Element 8 for the List: \n",
      "Enter Element 9 for the List: \n",
      "Enter Element 10 for the List: \n",
      "{'2': 2, '': 8}\n",
      "Max count element is \n"
     ]
    }
   ],
   "source": [
    "def OPList():\n",
    "    L = [input(f\"Enter Element {i+1} for the List: \") for i in range(10)]\n",
    "    countsD={}\n",
    "    for every_element in L:\n",
    "        countsD[every_element]=L.count(every_element) \n",
    "    print(countsD)\n",
    "    max_element = max(countsD, key=countsD.get)\n",
    "    print(\"Max count element is\", max_element)\n",
    "    \n",
    "OPList()"
   ]
  },
  {
   "cell_type": "markdown",
   "id": "59c7d6ea",
   "metadata": {},
   "source": [
    "OUTPUT SEARCHING"
   ]
  },
  {
   "cell_type": "code",
   "execution_count": 3,
   "id": "30d80c26",
   "metadata": {},
   "outputs": [
    {
     "name": "stdout",
     "output_type": "stream",
     "text": [
      "25\n"
     ]
    }
   ],
   "source": [
    "t=0\n",
    "for i in range(1,11):\n",
    "    if i%2==0:\n",
    "        continue\n",
    "    for j in range(1,i+1):\n",
    "        t+=1\n",
    "        if j == i/2.0:\n",
    "            break\n",
    "print(t)"
   ]
  },
  {
   "cell_type": "code",
   "execution_count": 4,
   "id": "573dff5f",
   "metadata": {},
   "outputs": [
    {
     "data": {
      "text/plain": [
       "[1, 2, 3, 1, 2, 3]"
      ]
     },
     "execution_count": 4,
     "metadata": {},
     "output_type": "execute_result"
    }
   ],
   "source": [
    "a=[1,2,3]\n",
    "b=a*2\n",
    "b"
   ]
  },
  {
   "cell_type": "code",
   "execution_count": 5,
   "id": "59f7d931",
   "metadata": {},
   "outputs": [
    {
     "name": "stdout",
     "output_type": "stream",
     "text": [
      "987654321\n",
      " 87654321\n",
      "  7654321\n",
      "   654321\n",
      "    54321\n",
      "     4321\n",
      "      321\n",
      "       21\n",
      "        1\n"
     ]
    }
   ],
   "source": [
    "n=9\n",
    "l=[i for i in range(n,0,-1)]\n",
    "for i in range(n):\n",
    "    print(\" \"*i,end='')\n",
    "    for j in l[i:]:\n",
    "        print(j,end='')\n",
    "    print()"
   ]
  },
  {
   "cell_type": "code",
   "execution_count": 6,
   "id": "09e0b87e",
   "metadata": {},
   "outputs": [
    {
     "data": {
      "text/plain": [
       "'a,b,c,d'"
      ]
     },
     "execution_count": 6,
     "metadata": {},
     "output_type": "execute_result"
    }
   ],
   "source": [
    "str=\"abcd\"\n",
    "s=\",\"\n",
    "s.join(str)"
   ]
  },
  {
   "cell_type": "code",
   "execution_count": 7,
   "id": "3ae113e6",
   "metadata": {},
   "outputs": [
    {
     "name": "stdout",
     "output_type": "stream",
     "text": [
      "Enter: 1\n",
      "Enter: 2\n",
      "Enter: 3\n",
      "Enter: 4\n",
      "Enter: 5\n",
      "List:  1,2,3,4,5\n"
     ]
    }
   ],
   "source": [
    "L=[input(\"Enter: \") for i in range(5)]\n",
    "print(\"List: \",\",\".join(L))"
   ]
  },
  {
   "cell_type": "code",
   "execution_count": 8,
   "id": "d34b5486",
   "metadata": {},
   "outputs": [
    {
     "data": {
      "text/plain": [
       "False"
      ]
     },
     "execution_count": 8,
     "metadata": {},
     "output_type": "execute_result"
    }
   ],
   "source": [
    "greeting = 'Good Morning. Have a Good Day!!'\n",
    "greeting.startswith('good')"
   ]
  },
  {
   "cell_type": "code",
   "execution_count": 12,
   "id": "ea2e4887",
   "metadata": {},
   "outputs": [],
   "source": [
    "n=24\n",
    "l={n: [i for i in range(1,n+1) if n%i==0]}\n",
    "s=l[24]"
   ]
  },
  {
   "cell_type": "code",
   "execution_count": 15,
   "id": "d014ef78",
   "metadata": {},
   "outputs": [
    {
     "name": "stdout",
     "output_type": "stream",
     "text": [
      "0 1\n",
      "1 2\n",
      "2 3\n",
      "3 4\n",
      "4 6\n",
      "5 8\n",
      "6 12\n",
      "7 24\n"
     ]
    }
   ],
   "source": [
    "for i,v in enumerate(s):\n",
    "    print(i,v)"
   ]
  },
  {
   "cell_type": "markdown",
   "id": "29738836",
   "metadata": {},
   "source": [
    "Table Printing"
   ]
  },
  {
   "cell_type": "code",
   "execution_count": 82,
   "id": "6dc90a00",
   "metadata": {},
   "outputs": [
    {
     "name": "stdout",
     "output_type": "stream",
     "text": [
      "1 * 1 =  1  2 * 1 =  2  3 * 1 =  3  4 * 1 =  4  5 * 1 =  5  6 * 1 =  6  7 * 1 =  7  8 * 1 =  8  9 * 1 =  9  10 * 1 = 10  \n",
      "1 * 2 =  2  2 * 2 =  4  3 * 2 =  6  4 * 2 =  8  5 * 2 = 10  6 * 2 = 12  7 * 2 = 14  8 * 2 = 16  9 * 2 = 18  10 * 2 = 20  \n",
      "1 * 3 =  3  2 * 3 =  6  3 * 3 =  9  4 * 3 = 12  5 * 3 = 15  6 * 3 = 18  7 * 3 = 21  8 * 3 = 24  9 * 3 = 27  10 * 3 = 30  \n",
      "1 * 4 =  4  2 * 4 =  8  3 * 4 = 12  4 * 4 = 16  5 * 4 = 20  6 * 4 = 24  7 * 4 = 28  8 * 4 = 32  9 * 4 = 36  10 * 4 = 40  \n",
      "1 * 5 =  5  2 * 5 = 10  3 * 5 = 15  4 * 5 = 20  5 * 5 = 25  6 * 5 = 30  7 * 5 = 35  8 * 5 = 40  9 * 5 = 45  10 * 5 = 50  \n",
      "1 * 6 =  6  2 * 6 = 12  3 * 6 = 18  4 * 6 = 24  5 * 6 = 30  6 * 6 = 36  7 * 6 = 42  8 * 6 = 48  9 * 6 = 54  10 * 6 = 60  \n",
      "1 * 7 =  7  2 * 7 = 14  3 * 7 = 21  4 * 7 = 28  5 * 7 = 35  6 * 7 = 42  7 * 7 = 49  8 * 7 = 56  9 * 7 = 63  10 * 7 = 70  \n",
      "1 * 8 =  8  2 * 8 = 16  3 * 8 = 24  4 * 8 = 32  5 * 8 = 40  6 * 8 = 48  7 * 8 = 56  8 * 8 = 64  9 * 8 = 72  10 * 8 = 80  \n",
      "1 * 9 =  9  2 * 9 = 18  3 * 9 = 27  4 * 9 = 36  5 * 9 = 45  6 * 9 = 54  7 * 9 = 63  8 * 9 = 72  9 * 9 = 81  10 * 9 = 90  \n",
      "1 *10 = 10  2 *10 = 20  3 *10 = 30  4 *10 = 40  5 *10 = 50  6 *10 = 60  7 *10 = 70  8 *10 = 80  9 *10 = 90  10 *10 =100  \n"
     ]
    }
   ],
   "source": [
    "for i in range(1,11):\n",
    "    for j in range(1,11):\n",
    "        print(f\"{j} *{i:2} ={j*i:3}\",end=\"  \")\n",
    "    print()"
   ]
  }
 ],
 "metadata": {
  "kernelspec": {
   "display_name": "Python 3 (ipykernel)",
   "language": "python",
   "name": "python3"
  },
  "language_info": {
   "codemirror_mode": {
    "name": "ipython",
    "version": 3
   },
   "file_extension": ".py",
   "mimetype": "text/x-python",
   "name": "python",
   "nbconvert_exporter": "python",
   "pygments_lexer": "ipython3",
   "version": "3.11.4"
  }
 },
 "nbformat": 4,
 "nbformat_minor": 5
}

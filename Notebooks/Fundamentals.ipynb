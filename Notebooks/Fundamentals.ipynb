{
 "cells": [
  {
   "cell_type": "markdown",
   "id": "56c84b72",
   "metadata": {},
   "source": [
    "1. WAP to find the roots of a Quadratic Equation"
   ]
  },
  {
   "cell_type": "code",
   "execution_count": 1,
   "id": "28fc2290",
   "metadata": {},
   "outputs": [
    {
     "name": "stdout",
     "output_type": "stream",
     "text": [
      ">>>Enter 'a':1\n",
      ">>>Enter 'b':1\n",
      ">>>Enter 'c':1\n",
      "The roots of the given complex equation are: -0.5+0.8660254037844386i and -0.5-0.8660254037844386i\n"
     ]
    }
   ],
   "source": [
    "'''A Quadratic Equation is of form: a(x^2)+b(x)+c=0\n",
    "and Roots can be calculated using coefficients a,b and c.\n",
    "Step 1:Take a,b and c as inputs.\n",
    "Step 2: Calculate D=(b^2)-4ac.\n",
    "Step 3: Execute If-Block based on the value of \"D\"'''\n",
    "#Inputting Variables\n",
    "a=int(input(\">>>Enter 'a':\"))\n",
    "b=int(input(\">>>Enter 'b':\"))\n",
    "c=int(input(\">>>Enter 'c':\"))\n",
    "#Calculating D\n",
    "D=b**2-4*a*c\n",
    "#Executing If Block\n",
    "if D>0:\n",
    "    Root1=((-b)+(D)**(0.5))/2*a\n",
    "    Root2=((-b)-(D)**(0.5))/2*a\n",
    "    print(\"The roots of the given equation are:\",Root1,\"and\",Root2)\n",
    "elif D==0:\n",
    "    Root=((-b)/2)\n",
    "    print(\"The equal roots of the given equation are :\",Root)\n",
    "else:\n",
    "    #Roots are imaginary.\n",
    "    Im=str((-D)**(0.5)/2*a)+\"i\" #Imaginary Part\n",
    "    Re=(-b)/(2*a)\n",
    "    Root1=f\"{Re}+{Im}\"\n",
    "    Root2=f\"{Re}-{Im}\"\n",
    "    print(\"The roots of the given complex equation are:\",Root1,\"and\",Root2)"
   ]
  },
  {
   "cell_type": "markdown",
   "id": "0f7e58ea",
   "metadata": {},
   "source": [
    "2. WAP to accept a number ‘n’ and\n",
    "    \n",
    "   a. Check if ’n’ is prime\n",
    "  \n",
    "   b. Generate all prime numbers till ‘n’\n",
    "  \n",
    "   c. Generate first ‘n’ prime numbers\n",
    "  \n",
    "   This program may be done using functions"
   ]
  },
  {
   "cell_type": "code",
   "execution_count": 2,
   "id": "e48081ea",
   "metadata": {},
   "outputs": [
    {
     "name": "stdout",
     "output_type": "stream",
     "text": [
      "Enter Number: 10\n",
      "False\n",
      ">>>All Primes till 10 are:\n",
      "2,3,5,7,\n",
      ">>>First 10 Prime Numbers are:\n",
      "2,3,5,7,11,13,17,19,23,29,\n"
     ]
    }
   ],
   "source": [
    "n=int(input(\"Enter Number: \"))\n",
    "def CheckPrime(n):\n",
    "    #For Checking if a number is Prime\n",
    "    #0,1 are not primes\n",
    "    if n==0 or n==1:\n",
    "        return False\n",
    "    #This loop will return False if given number has a factor other than 1 or itself\n",
    "    for i in range(2,n):\n",
    "        if n%i==0:\n",
    "            return False\n",
    "            break\n",
    "    else:\n",
    "        return True       \n",
    "print(CheckPrime(n))\n",
    "\n",
    "\n",
    "def GenPrimes(n):\n",
    "    '''Checks if a number in the range till the given number is Prime,\n",
    "    if Yes, It stores it in the list Prime\n",
    "    if No, It doesn't. '''\n",
    "    Primes=[]\n",
    "    for i in range(n):\n",
    "        if CheckPrime(i):\n",
    "            Primes.append(i)\n",
    "    return Primes\n",
    "print(f\">>>All Primes till {n} are:\")\n",
    "for i in GenPrimes(n):\n",
    "    print(i,end=\",\")\n",
    "print()\n",
    "\n",
    "\n",
    "def FirstNPrimes(n):\n",
    "    '''This generates First 'n' Prime Numbers and stores the in the list Primes'''\n",
    "    Pr=2\n",
    "    Primes=[]\n",
    "    while True:\n",
    "        if CheckPrime(Pr):\n",
    "            Primes.append(Pr)\n",
    "            if len(Primes)>=n:\n",
    "                #If tbe length of primes matches the asked size,the Loop breaks\n",
    "                break\n",
    "        Pr+=1\n",
    "    return Primes\n",
    "\n",
    "print(f\">>>First {n} Prime Numbers are:\")\n",
    "for i in FirstNPrimes(n):\n",
    "    print(i,end=\",\")\n",
    "print()"
   ]
  },
  {
   "cell_type": "markdown",
   "id": "a469fae4",
   "metadata": {},
   "source": [
    "3. WAP to create a pyramid of the character ‘*’ and a reverse pyramid"
   ]
  },
  {
   "cell_type": "code",
   "execution_count": 3,
   "id": "33130a7a",
   "metadata": {},
   "outputs": [
    {
     "name": "stdout",
     "output_type": "stream",
     "text": [
      "Enter Triangle Size:10\n",
      "          * \n",
      "         * * \n",
      "        * * * \n",
      "       * * * * \n",
      "      * * * * * \n",
      "     * * * * * * \n",
      "    * * * * * * * \n",
      "   * * * * * * * * \n",
      "  * * * * * * * * * \n",
      " * * * * * * * * * * \n",
      "\n",
      " * * * * * * * * * *\n",
      "  * * * * * * * * *\n",
      "   * * * * * * * *\n",
      "    * * * * * * *\n",
      "     * * * * * *\n",
      "      * * * * *\n",
      "       * * * *\n",
      "        * * *\n",
      "         * *\n",
      "          *\n"
     ]
    }
   ],
   "source": [
    "n=int(input(\"Enter Triangle Size:\"))\n",
    "def StTri(n):\n",
    "    for i in range(1,n+1):\n",
    "        print(\" \"*(n+1-i)+\"* \"*(i))\n",
    "def RevTri(n):\n",
    "    for i in range(1,n+1):\n",
    "        print(\" \"*(i-1)+\" *\"*(n+1-i))\n",
    "StTri(n) \n",
    "print()\n",
    "RevTri(n)\n"
   ]
  },
  {
   "cell_type": "markdown",
   "id": "2bb05c91",
   "metadata": {},
   "source": [
    "4. WAP that accepts a character and performs the following:\n",
    "\n",
    "    a. print whether the character is a letter or numeric digit or a special character.\n",
    "    \n",
    "    b. if the character is a letter, print whether the letter is uppercase or lowercase.\n",
    "    \n",
    "    c. if the character is a numeric digit, prints its name in text\n",
    "       (e.g., if input is 9, output is NINE)"
   ]
  },
  {
   "cell_type": "code",
   "execution_count": 4,
   "id": "9040ede5",
   "metadata": {},
   "outputs": [
    {
     "name": "stdout",
     "output_type": "stream",
     "text": [
      "Enter Character:2\n",
      "Given Charachter is a Digit.\n",
      "Two\n"
     ]
    }
   ],
   "source": [
    "def Check(ch):\n",
    "    if ch.isalpha():\n",
    "        print(\"Given Character is a Letter.\")\n",
    "        CaseChecker(ch)\n",
    "    elif ch.isdigit():\n",
    "        print(\"Given Charachter is a Digit.\")\n",
    "        intoWords(int(ch))\n",
    "    else:\n",
    "        print(\"Given Character is a Special Character.\")\n",
    "def CaseChecker(ch):\n",
    "    if ch.isupper():\n",
    "        print(\"Given Character is in Uppercase.\")\n",
    "    elif ch.islower():\n",
    "        print(\"Given Character is in Lowercase.\")\n",
    "    else:\n",
    "        print(\"TypeError: Invalid Operation\")\n",
    "        \n",
    "def intoWords(ch):\n",
    "    chWords={0:\"Zero\",1:\"One\",2:\"Two\",3:\"Three\",4:\"Four\",5:\"Five\",6:\"Six\",7:\"Seven\",8:\"Eight\",9:\"Nine\"}\n",
    "    print(chWords[ch])\n",
    "try:\n",
    "    ch=input(\"Enter Character:\")\n",
    "    assert len(ch)==1\n",
    "    Check(ch)\n",
    "except AssertionError:\n",
    "    print(\"ValueOutOfBoundError: Operations can be performed only for Single Characters. Please Enter only Single Charachters\")"
   ]
  },
  {
   "cell_type": "markdown",
   "id": "4180fb04",
   "metadata": {},
   "source": [
    "5. WAP to perform the following operations on a string\n",
    "\n",
    "   a. Find the frequency of a character in a string.\n",
    "    \n",
    "   b. Replace a character by another character in a string.\n",
    "    \n",
    "   c. Remove the first occurrence of a character from a string.\n",
    "    \n",
    "   d. Remove all occurrences of a character from a string."
   ]
  },
  {
   "cell_type": "code",
   "execution_count": 5,
   "id": "2ce3d316",
   "metadata": {},
   "outputs": [
    {
     "name": "stdout",
     "output_type": "stream",
     "text": [
      ">>>Enter Character:a\n",
      ">>>Enter String:abba dabba chabba\n",
      ">>>Frequency of 'a' in abba dabba chabba is '6'\n",
      ">>>What do you want to replace it with:b\n",
      ">>>New replaced string: bbbb dbbbb chbbbb\n",
      ">>>Removed First Occurence: bba dabba chabba\n",
      ">>>Removed All Occurence:  bb dbb chbb\n"
     ]
    }
   ],
   "source": [
    "def Freq(ch):\n",
    "    ch2=ch.lower()\n",
    "    st2=st.lower()\n",
    "    return st2.count(ch2)\n",
    "    \n",
    "def ReplaceCh(ch):\n",
    "    ch2=input(\">>>What do you want to replace it with:\")\n",
    "    try:\n",
    "        st1=st.replace(ch,ch2)\n",
    "    except:\n",
    "        print(\"Invalid Inputs, try again...\")\n",
    "    return st1\n",
    "        \n",
    "def RemoveAll(ch,st):\n",
    "    if Freq(ch):\n",
    "        st=st.replace(ch,\"\")\n",
    "        return st\n",
    "    \n",
    "def RemoveOnce(ch,st):\n",
    "    if Freq(ch):\n",
    "        st=st.replace(ch,\"\",1)\n",
    "        return st\n",
    "    \n",
    "try:\n",
    "    ch=input(\">>>Enter Character:\")\n",
    "    st=input(\">>>Enter String:\")\n",
    "    assert len(ch)==1\n",
    "    print(f\">>>Frequency of '{ch}' in {st} is '{Freq(ch)}'\")\n",
    "    print(\">>>New replaced string:\",ReplaceCh(ch))\n",
    "    print(\">>>Removed First Occurence:\",RemoveOnce(ch,st))\n",
    "    print(\">>>Removed All Occurence: \",RemoveAll(ch,st))\n",
    "except AssertionError:\n",
    "    print(\"ValueOutOfBoundError: Operations can be performed only for Single Characters. Please Enter only Single Charachters\")\n"
   ]
  },
  {
   "cell_type": "markdown",
   "id": "7cd5047f",
   "metadata": {},
   "source": [
    "6. WAP to swap the first n characters of two strings."
   ]
  },
  {
   "cell_type": "code",
   "execution_count": 6,
   "id": "e0fd055c",
   "metadata": {},
   "outputs": [
    {
     "name": "stdout",
     "output_type": "stream",
     "text": [
      ">>>Enter n:2\n",
      ">>>Enter String 1:abcd\n",
      ">>>Enter String 2:efgh\n",
      "Swapped Strings are: abgh efcd\n"
     ]
    }
   ],
   "source": [
    "n=int(input(\">>>Enter n:\"))\n",
    "s1=input(\">>>Enter String 1:\")\n",
    "s2=input(\">>>Enter String 2:\")\n",
    "#swapping\n",
    "s3=s1[:n]+s2[n:]\n",
    "s4=s2[:n]+s1[n:]\n",
    "#Modifying the Original Values of the given strings.\n",
    "s1,s2=s3,s4\n",
    "print(\"Swapped Strings are:\",s1,s2)"
   ]
  },
  {
   "cell_type": "markdown",
   "id": "1f37fae5",
   "metadata": {},
   "source": [
    "7. Write a function that accepts two strings and returns the indices of all the occurrences of the second string in the first\n",
    "   string as a list. If the second string is not present in the firststring then it should return -1."
   ]
  },
  {
   "cell_type": "code",
   "execution_count": 7,
   "id": "b4df704d",
   "metadata": {},
   "outputs": [
    {
     "name": "stdout",
     "output_type": "stream",
     "text": [
      ">>>Index List: [5, 7, 8]\n"
     ]
    }
   ],
   "source": [
    "def CountStr(s1,s2):\n",
    "    s1=s1.lower()\n",
    "    s2=s2.lower()\n",
    "    strFound=False\n",
    "    indx=[]\n",
    "    for i in range(len(s1)):\n",
    "        if s1[i:i+len(s2)]==s2:\n",
    "            indx.append(i)\n",
    "            strFound=True\n",
    "    if strFound:\n",
    "        return indx\n",
    "    else:\n",
    "        return -1\n",
    "    \n",
    "print(\">>>Index List:\" , CountStr(\"abcdsfjffhskjk\",\"f\"))"
   ]
  },
  {
   "cell_type": "markdown",
   "id": "ade64611",
   "metadata": {},
   "source": [
    "8. WAP to create a list of the cubes of only the even integers appearing in the input list\n",
    "    (may have elements of other types also) using the following:\n",
    "    \n",
    "    a. for loop\n",
    "    \n",
    "    b. list comprehension"
   ]
  },
  {
   "cell_type": "code",
   "execution_count": 8,
   "id": "6b9803f0",
   "metadata": {},
   "outputs": [
    {
     "name": "stdout",
     "output_type": "stream",
     "text": [
      ">>>Enter Input List:1,2,3,4,5,6,7,s,e,rt,t,y,i,o,e,4,4,,6,6,6r4,wv,rt\n"
     ]
    },
    {
     "data": {
      "text/plain": [
       "[8, 64, 216, 64, 64, 216, 216, 216, 64]"
      ]
     },
     "execution_count": 8,
     "metadata": {},
     "output_type": "execute_result"
    }
   ],
   "source": [
    "#for Loop\n",
    "a=input(\">>>Enter Input List:\")\n",
    "List=[]\n",
    "for i in a:\n",
    "    if i.isdigit():\n",
    "        if int(i)%2==0:\n",
    "            List.append(int(i)**3)\n",
    "List"
   ]
  },
  {
   "cell_type": "code",
   "execution_count": 9,
   "id": "8bf5fdc0",
   "metadata": {},
   "outputs": [
    {
     "name": "stdout",
     "output_type": "stream",
     "text": [
      ">>>Enter Input List:1,2,3,4,5,6,7,s,e,rt,t,y,i,o,e,4,4,,6,6,6r4,wv,rt\n"
     ]
    },
    {
     "data": {
      "text/plain": [
       "[8, 64, 216, 64, 64, 216, 216, 216, 64]"
      ]
     },
     "execution_count": 9,
     "metadata": {},
     "output_type": "execute_result"
    }
   ],
   "source": [
    "#List COmprehension\n",
    "a=input(\">>>Enter Input List:\")\n",
    "List=[int(i)**3 for i in a if i.isdigit() and int(i)%2==0]\n",
    "List"
   ]
  },
  {
   "cell_type": "markdown",
   "id": "c6bf470c",
   "metadata": {},
   "source": [
    "9. WAP to read a file and\n",
    "\n",
    "   a. Print the total number of characters, words and lines in the file.\n",
    "   \n",
    "   b. Calculate the frequency of each character in the file. Use a variable of dictionary\n",
    "      type to maintain the count.\n",
    "   \n",
    "   c. Print the words in reverse order.\n",
    "   \n",
    "   d. Copy even lines of the file to a file named ‘File1’ and odd lines to another file\n",
    "    named ‘File2’."
   ]
  },
  {
   "cell_type": "code",
   "execution_count": 10,
   "id": "efff79ba",
   "metadata": {},
   "outputs": [
    {
     "name": "stdout",
     "output_type": "stream",
     "text": [
      ">>>Total number of characters: 796\n",
      ">>>Total number of words: 40\n",
      ">>>Total number of lines: 4\n"
     ]
    }
   ],
   "source": [
    "f=open(\"Demo.txt\",\"r\")\n",
    "file_contents=f.read()\n",
    "#Executing (a) part\n",
    "print(\">>>Total number of characters:\",len(file_contents))\n",
    "words=file_contents.split()\n",
    "print(\">>>Total number of words:\",len(words))\n",
    "f.seek(0)\n",
    "lines=f.readlines()\n",
    "print(\">>>Total number of lines:\",len(lines))\n",
    "f.close()"
   ]
  },
  {
   "cell_type": "code",
   "execution_count": 11,
   "id": "83175029",
   "metadata": {},
   "outputs": [
    {
     "name": "stdout",
     "output_type": "stream",
     "text": [
      "{' ': 56, 'v': 26, 'g': 22, 'f': 64, 'y': 10, 's': 65, 'j': 92, 'h': 83, 'k': 42, 'u': 14, 'e': 17, 'r': 20, 'l': 13, 'i': 15, 't': 9, 'd': 39, 'q': 12, 'o': 8, 'p': 3, 'w': 24, '4': 6, '7': 7, '3': 4, '8': 8, '9': 8, '6': 3, '5': 2, '2': 6, 'b': 62, '1': 1, 'x': 1, 'n': 20, ']': 2, '-': 1, '0': 1, 'c': 6, 'm': 15, 'a': 4, '\\n': 3, ',': 2}\n"
     ]
    }
   ],
   "source": [
    "f=open(\"Demo.txt\",\"r\")\n",
    "file_contents=f.read()\n",
    "#Executing (b) part\n",
    "count={}\n",
    "for i in file_contents:\n",
    "    count[i]=file_contents.count(i)\n",
    "f.close()\n",
    "print(count)"
   ]
  },
  {
   "cell_type": "code",
   "execution_count": 12,
   "id": "0217a46b",
   "metadata": {},
   "outputs": [
    {
     "name": "stdout",
     "output_type": "stream",
     "text": [
      ">>>Reverse Sequence of Words: ['bshsjhjskj', 'bkjbkjjksdhbshbjcshsr', 'shjsbfjh', 'hjsbsjhfshhfb', 'hjfjhfjwhfkw', 'djbjfhjjfdjshjwhgiuwhqoiioqhmsbjhdvhjbabjdbadhjvbbhbfbsjbfjfbhbwgb', 'bsfdshffjh', 'bhrehefhsnjkikrjsbjrbfhsbhfkfbjm', 'hjsfgs', 'bjrfjhfhkfjhkshf', 'hfsjbfsr', 'hshkjfj', 'vndmvbjvjkhkjfhkvdkndnmjk', 'vnf', 'nmvfjhsjjjfjnf,mvn', 'vmdnvjd,jnbvmdbvhbdmvn', 'bnvhbvhjbvhjbhvbdhbbvhdvbdb', 'bn', 'msbfs', 'sjfh', 'fmhjfsf', 'csmcbsmvbmsnvjksjksjrfn', 'hfbjsgfysgf', 'ajdadgyudhwjeqlwsnqjkdshiqusiuwhjd9oquey86w3tr', 'shsugusgybfjf', 'msbhjsbfhs', 's', 'nskjsfjskhfbjsb', 'jsbhsbfs', 'hbsjhbhfjksn', 'csbhcbshshbjhsrhhh', 'e2461utxduqgubfkwjfliwjlfksnkjflhwkfhnwlkfklwjfpoertjgkoe89ug9pqod]o]w2dew-09deiwhfcbwhjfhds', '7qdr', 'e57', 'r29r7278bt2y8tfrt4', '8437', '8492y', 'r8659', 'fvyihdqwuedyhiw47t3y84739', 'vgfysgfjhfkuehrkjekgjeklgjikjgrlgietjgirjgljgkljkrgkdhkhdjkelvjdkfjslkdjlkdjqjdopdjqwidfhwiuefhgwtvdrw']\n",
      ">>>Words in reverse order:\n",
      "jksjhjshsb\n",
      "rshscjbhsbhdskjjkbjkb\n",
      "hjfbsjhs\n",
      "bfhhsfhjsbsjh\n",
      "wkfhwjfhjfjh\n",
      "bgwbhbfjfbjsbfbhbbvjhdabdjbabjhvdhjbsmhqoiioqhwuighwjhsjdfjjhfjbjd\n",
      "hjffhsdfsb\n",
      "mjbfkfhbshfbrjbsjrkikjnshfeherhb\n",
      "sgfsjh\n",
      "fhskhjfkhfhjfrjb\n",
      "rsfbjsfh\n",
      "jfjkhsh\n",
      "kjmndnkdvkhfjkhkjvjbvmdnv\n",
      "fnv\n",
      "nvm,fnjfjjjshjfvmn\n",
      "nvmdbhvbdmvbnj,djvndmv\n",
      "bdbvdhvbbhdbvhbjhvbjhvbhvnb\n",
      "nb\n",
      "sfbsm\n",
      "hfjs\n",
      "fsfjhmf\n",
      "nfrjskjskjvnsmbvmsbcmsc\n",
      "fgsyfgsjbfh\n",
      "rt3w68yeuqo9djhwuisuqihsdkjqnswlqejwhduygdadja\n",
      "fjfbygsugushs\n",
      "shfbsjhbsm\n",
      "s\n",
      "bsjbfhksjfsjksn\n",
      "sfbshbsj\n",
      "nskjfhbhjsbh\n",
      "hhhrshjbhshsbchbsc\n",
      "sdhfjhwbcfhwied90-wed2w]o]doqp9gu98eokgjtreopfjwlkfklwnhfkwhlfjknskfljwilfjwkfbugqudxtu1642e\n",
      "rdq7\n",
      "75e\n",
      "4trft8y2tb8727r92r\n",
      "7348\n",
      "y2948\n",
      "9568r\n",
      "93748y3t74wihydeuwqdhiyvf\n",
      "wrdvtwghfeuiwhfdiwqjdpodjqjdkljdklsjfkdjvlekjdhkhdkgrkjlkgjlgjrigjteiglrgjkijglkejgkejkrheukfhjfgsyfgv\n"
     ]
    }
   ],
   "source": [
    "f=open(\"Demo.txt\",\"r\")\n",
    "file_contents=f.read()\n",
    "#Executing (c) part\n",
    "words=file_contents.split()\n",
    "f.close()\n",
    "print(\">>>Reverse Sequence of Words:\",words[::-1])\n",
    "print(\">>>Words in reverse order:\")\n",
    "for i in words[::-1]:\n",
    "    print(i[::-1])"
   ]
  },
  {
   "cell_type": "code",
   "execution_count": 13,
   "id": "48c219a7",
   "metadata": {},
   "outputs": [],
   "source": [
    "f=open(\"Demo.txt\",\"r\")\n",
    "#Executing (d) part\n",
    "lines=f.readlines()\n",
    "f.close()\n",
    "Even_lines=[]\n",
    "Odd_lines=[]\n",
    "for i in range(len(lines)):\n",
    "    if i%2==0:\n",
    "        Even_lines.append(lines[i])\n",
    "    else:\n",
    "        Odd_lines.append(lines[i])\n",
    "f1=open(\"File1.txt\",\"w\")\n",
    "for i in Even_lines:\n",
    "    f1.write(i)\n",
    "f1.close()\n",
    "f2=open(\"File2.txt\",\"w\")\n",
    "for i in Odd_lines:\n",
    "    f2.write(i)\n",
    "f2.close()"
   ]
  },
  {
   "cell_type": "markdown",
   "id": "27bcb25b",
   "metadata": {},
   "source": [
    "10. Write a function that prints a dictionary where the keys are numbers between 1 and 5\n",
    "    and the values are cubes of the keys."
   ]
  },
  {
   "cell_type": "code",
   "execution_count": 14,
   "id": "f0d13318",
   "metadata": {},
   "outputs": [
    {
     "name": "stdout",
     "output_type": "stream",
     "text": [
      "{1: 1, 2: 8, 3: 27, 4: 64, 5: 125}\n"
     ]
    }
   ],
   "source": [
    "def makeDict():\n",
    "    d={}\n",
    "    for i in range(1,6):\n",
    "        d[i]=i**3\n",
    "    return d\n",
    "print(makeDict())"
   ]
  },
  {
   "cell_type": "markdown",
   "id": "d0f48d0f",
   "metadata": {},
   "source": [
    "11. Consider a tuple t1=(1, 2, 5, 7, 9, 2, 4, 6, 8, 10). WAP to perform following operations:\n",
    "\n",
    "    a. Print half the values of the tuple in one line and the other half in the next line.\n",
    "    \n",
    "    b. Print another tuple whose values are even numbers in the given tuple.\n",
    "    \n",
    "    c. Concatenate a tuple t2=(11,13,15) with t1.\n",
    "    \n",
    "    d. Return maximum and minimum value from this tuple"
   ]
  },
  {
   "cell_type": "code",
   "execution_count": 15,
   "id": "8e5691c3",
   "metadata": {},
   "outputs": [
    {
     "name": "stdout",
     "output_type": "stream",
     "text": [
      ">>>First Half:  (1, 2, 5, 7, 9)\n",
      ">>>Second half:  (2, 4, 6, 8, 10)\n",
      ">>>Even Number Tuple: (2, 2, 4, 6, 8, 10)\n",
      "(1, 2, 5, 7, 9, 2, 4, 6, 8, 10, 11, 13, 15)\n",
      ">>>Maximum: 15\n",
      ">>>Minimum: 1\n"
     ]
    }
   ],
   "source": [
    "t1=(1, 2, 5, 7, 9, 2, 4, 6, 8, 10)\n",
    "#Print half the values of the tuple in one line and the other half in the next line.\n",
    "print(\">>>First Half: \",t1[:len(t1)//2])\n",
    "print(\">>>Second half: \",t1[len(t1)//2:])\n",
    "#Print another tuple whose values are even numbers in the given tuple.\n",
    "t0=()\n",
    "for i in t1:\n",
    "    if i%2==0:\n",
    "        t0=t0+(i,)\n",
    "print(\">>>Even Number Tuple:\",t0)\n",
    "#Concatenate a tuple t2=(11,13,15) with t1.\n",
    "t2=(11,13,15)\n",
    "t1=t1+t2\n",
    "print(t1)\n",
    "#Return maximum and minimum value from this tuple\n",
    "print(\">>>Maximum:\",max(t1))\n",
    "print(\">>>Minimum:\",min(t1))"
   ]
  },
  {
   "cell_type": "markdown",
   "id": "363d3858",
   "metadata": {},
   "source": [
    "12. WAP to accept a name from a user. Raise and handle appropriate exception(s) if the\n",
    "    text entered by the user contains digits and/or special characters."
   ]
  },
  {
   "cell_type": "code",
   "execution_count": 16,
   "id": "2e090190",
   "metadata": {},
   "outputs": [
    {
     "name": "stdout",
     "output_type": "stream",
     "text": [
      ">>>Enter Name:Ad$\n",
      "Please Enter a Proper Name, a Name only has characters, Kindly Rectify the Errors and try again \n",
      "Moreover if you wish to add a numeral, add it in Romans.\n"
     ]
    }
   ],
   "source": [
    "try:\n",
    "    name=input(\">>>Enter Name:\")\n",
    "    assert name.isalpha==\"True\"\n",
    "except AssertionError:\n",
    "    print(\"Please Enter a Proper Name, a Name only has characters, Kindly Rectify the Errors and try again \")\n",
    "    print(\"Moreover if you wish to add a numeral, add it in Romans.\")"
   ]
  }
 ],
 "metadata": {
  "kernelspec": {
   "display_name": "Python 3 (ipykernel)",
   "language": "python",
   "name": "python3"
  },
  "language_info": {
   "codemirror_mode": {
    "name": "ipython",
    "version": 3
   },
   "file_extension": ".py",
   "mimetype": "text/x-python",
   "name": "python",
   "nbconvert_exporter": "python",
   "pygments_lexer": "ipython3",
   "version": "3.11.4"
  }
 },
 "nbformat": 4,
 "nbformat_minor": 5
}

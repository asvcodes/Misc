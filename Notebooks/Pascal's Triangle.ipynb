{
 "cells": [
  {
   "cell_type": "markdown",
   "id": "b926fc57",
   "metadata": {},
   "source": [
    "Addition & Nested List Method"
   ]
  },
  {
   "cell_type": "code",
   "execution_count": 1,
   "id": "0f89f69a",
   "metadata": {},
   "outputs": [
    {
     "name": "stdout",
     "output_type": "stream",
     "text": [
      "Enter How many Rows you want in the Pascal Triangle: 7\n",
      "              1 \n",
      "            1   1 \n",
      "          1   2   1 \n",
      "        1   3   3   1 \n",
      "      1   4   6   4   1 \n",
      "    1   5  10  10   5   1 \n",
      "  1   6  15  20  15   6   1 \n"
     ]
    }
   ],
   "source": [
    "def PatternPrint(n):\n",
    "    T=PTri(n)\n",
    "    for Rows in range(n):\n",
    "        for i in range(1,n - Rows):\n",
    "            print(\" \", end=\" \")\n",
    "        for j in range(Rows+1):\n",
    "            print(f\"{T[Rows][j]:3}\", end=\" \")\n",
    "        print()\n",
    "        \n",
    "def PTri(n):\n",
    "    PrevR,CurR=[1],[1,1]\n",
    "    Tri=[PrevR,CurR]\n",
    "    for i in range(n): #Rows\n",
    "        if i==0 or i==1:\n",
    "            continue\n",
    "        else:\n",
    "            NexR=[1,1]\n",
    "            RSize=len(CurR)-1\n",
    "            for j in range(RSize): #Elements\n",
    "                elm= CurR[j]+CurR[j+1]\n",
    "                NexR.insert(j+1,elm)\n",
    "            Tri.append(NexR) \n",
    "            PrevR,CurR=CurR,NexR\n",
    "    return Tri\n",
    "\n",
    "N=int(input(\"Enter How many Rows you want in the Pascal Triangle: \"))\n",
    "PatternPrint(N)"
   ]
  },
  {
   "cell_type": "markdown",
   "id": "bfa2d067",
   "metadata": {},
   "source": [
    "Binomial Method"
   ]
  },
  {
   "cell_type": "code",
   "execution_count": 2,
   "id": "9ed6a372",
   "metadata": {},
   "outputs": [
    {
     "name": "stdout",
     "output_type": "stream",
     "text": [
      "Enter How many Rows you want in the Pascal Triangle: 7\n",
      "              1 \n",
      "            1   1 \n",
      "          1   2   1 \n",
      "        1   3   3   1 \n",
      "      1   4   6   4   1 \n",
      "    1   5  10  10   5   1 \n",
      "  1   6  15  20  15   6   1 \n"
     ]
    }
   ],
   "source": [
    "def printPTri(n):\n",
    "    for Rows in range(1, n+1):\n",
    "        elm = 1\n",
    "        for i in range(1, n-Rows+1):\n",
    "            print(\" \", end=\" \")\n",
    "        for j in range(1, Rows+1):\n",
    "            print(f\"{elm:3}\", end=\" \")\n",
    "            elm = elm*(Rows-j)//j\n",
    "        print()\n",
    "\n",
    "rows =int(input(\"Enter How many Rows you want in the Pascal Triangle: \"))\n",
    "printPTri(rows)"
   ]
  },
  {
   "cell_type": "markdown",
   "id": "b49da953",
   "metadata": {},
   "source": [
    "Shortcut"
   ]
  },
  {
   "cell_type": "code",
   "execution_count": 3,
   "id": "29bda3dc",
   "metadata": {},
   "outputs": [
    {
     "name": "stdout",
     "output_type": "stream",
     "text": [
      "Enter How many Rows you want in the Pascal Triangle: 7\n",
      "          1          \n",
      "         1 1         \n",
      "        1 2 1        \n",
      "       1 3 3 1       \n",
      "      1 4 6 4 1      \n",
      "    1 5 10 10 5 1    \n",
      "   1 6 15 20 15 6 1  \n"
     ]
    }
   ],
   "source": [
    "n=int(input(\"Enter How many Rows you want in the Pascal Triangle: \"))\n",
    "pascal = [[1]]\n",
    "[pascal.append([1] + [pascal[-1][rows] + pascal[-1][rows + 1] for rows in range(len(pascal[-1]) - 1)] + [1]) for elm in range(n - 1)]\n",
    "for row in pascal:\n",
    "    print(' '.join(map(str, row)).center(n * 3))\n"
   ]
  }
 ],
 "metadata": {
  "kernelspec": {
   "display_name": "Python 3 (ipykernel)",
   "language": "python",
   "name": "python3"
  },
  "language_info": {
   "codemirror_mode": {
    "name": "ipython",
    "version": 3
   },
   "file_extension": ".py",
   "mimetype": "text/x-python",
   "name": "python",
   "nbconvert_exporter": "python",
   "pygments_lexer": "ipython3",
   "version": "3.11.4"
  }
 },
 "nbformat": 4,
 "nbformat_minor": 5
}
